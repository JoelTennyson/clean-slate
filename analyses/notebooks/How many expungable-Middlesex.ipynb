{
 "cells": [
  {
   "cell_type": "markdown",
   "metadata": {},
   "source": [
    "# Clean Slate: Estimating offenses eligible for expungement under varying conditions\n",
    "> Prepared by [Laura Feeney](https://github.com/laurafeeney) for Code for Boston's [Clean Slate project](https://github.com/codeforboston/clean-slate).\n",
    "\n",
    "## Summary\n",
    "This notebook takes somewhat processed data from the Middlesex DA and attempts to answer how many individuals may be eligible for expungement under varying conditions.\n",
    "\n",
    "This dataset does not contain any information to identify specific individuals across multiple cases. We can see what charges are heard in Juvenile court, but we do not otherwise have an indicator of age. \n",
    "\n",
    "So, we can provide a count and % of incidents heard in Juvenile court that are expungeable. \n",
    "\n",
    "### Original Questions\n",
    "\n",
    "1. How many people (under age 21) are eligible for expungement today? This would be people with only **one charge** that is not part of the list of ineligible offenses (per section 100J). \n",
    "\n",
    "\n",
    "2. How many people (under age 21) would be eligible based on only having **one incident** (which could include multiple charges) that are not part of the list of ineligible offenses?\n",
    " - How many people (under age 21) would be eligible based on only having **one incident** if only sex-based offenses or murder were excluded from expungement?\n",
    " \n",
    "\n",
    "3. How many people (under age 21) would be eligible based on who has **not been found guilty** (given current offenses that are eligible for expungement)?\n",
    " - How many people (under age 21) would be eligible based on who has **not been found guilty** for all offenses except for murder or sex-based offenses?\n",
    "\n",
    "-----"
   ]
  },
  {
   "cell_type": "markdown",
   "metadata": {},
   "source": [
    "### Step 0\n",
    "Import data, programs, etc.\n",
    "\n",
    "-----"
   ]
  },
  {
   "cell_type": "code",
   "execution_count": 1,
   "metadata": {},
   "outputs": [],
   "source": [
    "import pandas as pd\n",
    "pd.set_option(\"display.max_rows\", 200)\n",
    "import numpy as np\n",
    "import regex as re\n",
    "import glob, os\n",
    "import datetime \n",
    "from datetime import date \n",
    "from collections import defaultdict, Counter"
   ]
  },
  {
   "cell_type": "code",
   "execution_count": 2,
   "metadata": {},
   "outputs": [
    {
     "data": {
      "text/plain": [
       "Yes         273094\n",
       "No          112554\n",
       "NA - CMR      5047\n",
       "Attempt       1519\n",
       "NaN            383\n",
       "m                8\n",
       "Name: Expungeable, dtype: int64"
      ]
     },
     "execution_count": 2,
     "metadata": {},
     "output_type": "execute_result"
    }
   ],
   "source": [
    "# processed individual-level data from MS district with expungability.\n",
    "\n",
    "ms = pd.read_csv('../../data/processed/merged_ms.csv', encoding='cp1252',\n",
    "                    dtype={'Analysis notes':str, 'extra_criteria':str, 'Expungeable': str}, low_memory=False) \n",
    "\n",
    "ms['Expungeable'].value_counts(dropna=False)"
   ]
  },
  {
   "cell_type": "code",
   "execution_count": 3,
   "metadata": {},
   "outputs": [
    {
     "name": "stdout",
     "output_type": "stream",
     "text": [
      "<class 'pandas.core.frame.DataFrame'>\n",
      "RangeIndex: 392605 entries, 0 to 392604\n",
      "Data columns (total 16 columns):\n",
      " #   Column                   Non-Null Count   Dtype  \n",
      "---  ------                   --------------   -----  \n",
      " 0   Case Number              392605 non-null  object \n",
      " 1   Offense Date             392578 non-null  object \n",
      " 2   Court Location           392605 non-null  object \n",
      " 3   Charge                   392605 non-null  object \n",
      " 4   Charge/Crime Type        392605 non-null  object \n",
      " 5   Disposition Description  392605 non-null  object \n",
      " 6   CMRoffense               392605 non-null  bool   \n",
      " 7   Chapter                  392605 non-null  object \n",
      " 8   Section                  389306 non-null  object \n",
      " 9   Paragraph                309266 non-null  object \n",
      " 10  JuvenileC                392605 non-null  bool   \n",
      " 11  years_since_offense      392578 non-null  float64\n",
      " 12  sex                      360336 non-null  float64\n",
      " 13  murder                   360336 non-null  float64\n",
      " 14  Expungeable              392222 non-null  object \n",
      " 15  offenses_per_case        392605 non-null  int64  \n",
      "dtypes: bool(2), float64(3), int64(1), object(10)\n",
      "memory usage: 42.7+ MB\n"
     ]
    }
   ],
   "source": [
    "ms['offenses_per_case']=ms.groupby('Case Number')['Case Number'].transform('count')\n",
    "ms.info()"
   ]
  },
  {
   "cell_type": "code",
   "execution_count": 4,
   "metadata": {},
   "outputs": [
    {
     "data": {
      "text/html": [
       "<div>\n",
       "<style scoped>\n",
       "    .dataframe tbody tr th:only-of-type {\n",
       "        vertical-align: middle;\n",
       "    }\n",
       "\n",
       "    .dataframe tbody tr th {\n",
       "        vertical-align: top;\n",
       "    }\n",
       "\n",
       "    .dataframe thead th {\n",
       "        text-align: right;\n",
       "    }\n",
       "</style>\n",
       "<table border=\"1\" class=\"dataframe\">\n",
       "  <thead>\n",
       "    <tr style=\"text-align: right;\">\n",
       "      <th>juvenile</th>\n",
       "      <th>False</th>\n",
       "      <th>True</th>\n",
       "    </tr>\n",
       "    <tr>\n",
       "      <th>JuvenileC</th>\n",
       "      <th></th>\n",
       "      <th></th>\n",
       "    </tr>\n",
       "  </thead>\n",
       "  <tbody>\n",
       "    <tr>\n",
       "      <th>False</th>\n",
       "      <td>378306</td>\n",
       "      <td>0</td>\n",
       "    </tr>\n",
       "    <tr>\n",
       "      <th>True</th>\n",
       "      <td>0</td>\n",
       "      <td>14299</td>\n",
       "    </tr>\n",
       "  </tbody>\n",
       "</table>\n",
       "</div>"
      ],
      "text/plain": [
       "juvenile    False  True \n",
       "JuvenileC               \n",
       "False      378306      0\n",
       "True            0  14299"
      ]
     },
     "execution_count": 4,
     "metadata": {},
     "output_type": "execute_result"
    }
   ],
   "source": [
    "# Only indication of juvenile is if tried in juvenile court. Looks like no cases are heard in 2 courts (presumably would get \n",
    "# a different case number)\n",
    "ms['juvenile'] = ms.groupby('Case Number')['JuvenileC'].transform('max')\n",
    "pd.crosstab(ms['JuvenileC'], ms['juvenile'])"
   ]
  },
  {
   "cell_type": "markdown",
   "metadata": {},
   "source": [
    "## Step 1\n",
    "Add a few additional variables needed, look at summary stats\n",
    "\n",
    "There are many offenses that are violations of the Code of Massachusetts Regulations (CMR) rather than a criminal offense. These include things like some driving or boating infractions (e.g., not having headlights on), or not having a hunting/fishing license. It's not clear whether these should be included at all. We'll run the analysis first including them at all stages, and then excluding them at all stages. "
   ]
  },
  {
   "cell_type": "code",
   "execution_count": 5,
   "metadata": {},
   "outputs": [
    {
     "name": "stdout",
     "output_type": "stream",
     "text": [
      "The earliest offense date is 1951-06-30\n",
      "The max offense date is 2019-12-30 \n",
      "\n",
      "count    392578.000000\n",
      "mean          4.259063\n",
      "std           2.434936\n",
      "min           0.673973\n",
      "25%           2.635616\n",
      "50%           4.243836\n",
      "75%           5.649315\n",
      "max          69.221918\n",
      "Name: years_since_offense, dtype: float64\n"
     ]
    }
   ],
   "source": [
    "### dates ###\n",
    "\n",
    "reference_date = datetime.date(2020, 9, 1) # using \"today.date() wouldn't be stable\"\n",
    "\n",
    "ms['Offense Date'] = pd.to_datetime(ms['Offense Date']).dt.date\n",
    "\n",
    "ms[ms['Offense Date']<datetime.date(1950, 1, 1)]\n",
    "\n",
    "print(\"The earliest offense date is\", min(ms['Offense Date']))\n",
    "print(\"The max offense date is\", max(ms['Offense Date']), \"\\n\")\n",
    "\n",
    "print(ms['years_since_offense'].describe())"
   ]
  },
  {
   "cell_type": "code",
   "execution_count": 6,
   "metadata": {
    "scrolled": true
   },
   "outputs": [
    {
     "name": "stdout",
     "output_type": "stream",
     "text": [
      "There are 392605 total offenses including CMR.\n",
      "After we drop CMR, there are 387558 total offenses.\n",
      "Yes        273094\n",
      "No         112554\n",
      "Attempt      1519\n",
      "m               8\n",
      "Name: Expungeable, dtype: int64\n",
      "\n",
      " Yes        0.705350\n",
      "No         0.290706\n",
      "Attempt    0.003923\n",
      "m          0.000021\n",
      "Name: Expungeable, dtype: float64\n"
     ]
    }
   ],
   "source": [
    "# CMR offenses -- Drop all CMR offenses and Drop CMR-related columns\n",
    "\n",
    "print(f'There are {ms.shape[0]} total offenses including CMR.')\n",
    "\n",
    "ms = ms.loc[ms['CMRoffense'] == False]\n",
    "ms = ms.drop(columns = ['CMRoffense'])\n",
    "\n",
    "print(f'After we drop CMR, there are {ms.shape[0]} total offenses.')\n",
    "\n",
    "# Check that the 'expungeable' column no longer has CMRs \n",
    "print(ms['Expungeable'].value_counts())\n",
    "print(\"\\n\", ms['Expungeable'].value_counts(normalize=True))"
   ]
  },
  {
   "cell_type": "code",
   "execution_count": 7,
   "metadata": {},
   "outputs": [],
   "source": [
    "#Data prep.\n",
    "# We only have Case Number, and cases are all for an offense on the same date. \n",
    "\n",
    "# If an incident includes one offense that is not expungeable, we mark the entire incident as not expungeable.\n",
    "#Attempts *are not* considered expungeable in this one. \n",
    "ms['Exp'] = ms['Expungeable']==\"Yes\"\n",
    "ms['Inc_Expungeable_Attempts_Not'] = ms.groupby(['Case Number'])['Exp'].transform('min')\n",
    "\n",
    "# If an incident includes one offense that is not expungeable, we mark the entire incident as not expungeable.\n",
    "#Attempts *are* considered expungeable in this one. \n",
    "ms['ExpAtt'] = (ms['Expungeable']==\"Yes\") | (ms['Expungeable']==\"Attempt\")\n",
    "ms['Inc_Expungeable_Attempts_Are'] = ms.groupby(['Case Number'])['ExpAtt'].transform('min')\n",
    "\n",
    "# If an incident includes an offense that is a murder and/or sex crime, we code the whole incident as regarding\n",
    "# murder and/or sex.\n",
    "ms['sm'] = (ms['sex'] == 1) | (ms['murder'] ==1)\n",
    "ms['Incident_Murder_Sex'] = ms.groupby(['Case Number'])['sm'].transform('max')\n",
    "\n",
    "#unneeded calculation columns\n",
    "ms = ms.drop(columns=['Exp', 'sm'])"
   ]
  },
  {
   "cell_type": "code",
   "execution_count": 8,
   "metadata": {},
   "outputs": [
    {
     "name": "stdout",
     "output_type": "stream",
     "text": [
      "There are 163727 unique cases in the Middlesex file. Of those, 5816 ie 3.55% were brought to juvenile court.\n"
     ]
    }
   ],
   "source": [
    "### No indicator for unique individuals. Only proxy is case number. This will mean any estimates are well over estimated.\n",
    "Number_Cases = ms['Case Number'].nunique()\n",
    "Number_Cases_Juvenile = ms[ms['juvenile']==True]['Case Number'].nunique()\n",
    "Percent_Juvenile = \"{:.2%}\".format(Number_Cases_Juvenile/Number_Cases)\n",
    "print('There are', Number_Cases, 'unique cases in the Middlesex file. Of those,', Number_Cases_Juvenile,\n",
    "      'ie' , Percent_Juvenile,\n",
    "     'were brought to juvenile court.')"
   ]
  },
  {
   "cell_type": "code",
   "execution_count": 9,
   "metadata": {},
   "outputs": [
    {
     "name": "stdout",
     "output_type": "stream",
     "text": [
      "False    0.781426\n",
      "True     0.218574\n",
      "Name: guilty, dtype: float64\n",
      "False    0.678596\n",
      "True     0.321404\n",
      "Name: Incident_Guilty, dtype: float64\n"
     ]
    }
   ],
   "source": [
    "## dispositions\n",
    "dispos = ms['Disposition Description'].unique()\n",
    "#print(sorted(dispos))\n",
    "\n",
    "guilty_dispos = ['DELINQUENT BENCH TRIAL', 'DELINQUENT CHANGE OF PLEA', \n",
    "                'DELINQUENT CHANGE OF PLEA LESSER OFFENSE', 'DELINQUENT JURY TRIAL',\n",
    "                'GUILTY BENCH TRIAL', 'GUILTY BENCH TRIAL LESSER INCLUDED',\n",
    "                'GUILTY CHANGE OF PLEA', 'GUILTY CHANGE OF PLEA LESSER OFFENSE', \n",
    "                'GUILTY FILED', 'GUILTY FINES', 'GUILTY JURY TRIAL', \n",
    "                'GUILTY JURY TRIAL LESSER INCLUDED', \n",
    "                'Guilty Jury Trial (and Bench) Lesser Included', 'RESPONSIBLE']\n",
    "ms['guilty'] = ms['Disposition Description'].isin(guilty_dispos)\n",
    "#ms.loc[ms['Disposition Description'].isnull(), 'guilty'] = None \n",
    "ms['Incident_Guilty'] = ms.groupby(['Case Number', 'Offense Date'])['guilty'].transform('max')\n",
    "print(ms.guilty.value_counts(normalize=True))\n",
    "print(ms.Incident_Guilty.value_counts(normalize=True))"
   ]
  },
  {
   "cell_type": "code",
   "execution_count": 10,
   "metadata": {},
   "outputs": [
    {
     "name": "stdout",
     "output_type": "stream",
     "text": [
      "top 10 dispositions for all cases\n"
     ]
    },
    {
     "data": {
      "text/html": [
       "<div>\n",
       "<style scoped>\n",
       "    .dataframe tbody tr th:only-of-type {\n",
       "        vertical-align: middle;\n",
       "    }\n",
       "\n",
       "    .dataframe tbody tr th {\n",
       "        vertical-align: top;\n",
       "    }\n",
       "\n",
       "    .dataframe thead th {\n",
       "        text-align: right;\n",
       "    }\n",
       "</style>\n",
       "<table border=\"1\" class=\"dataframe\">\n",
       "  <thead>\n",
       "    <tr style=\"text-align: right;\">\n",
       "      <th></th>\n",
       "      <th>counts</th>\n",
       "      <th>percent</th>\n",
       "      <th>cumulative percent</th>\n",
       "    </tr>\n",
       "    <tr>\n",
       "      <th>unique_values</th>\n",
       "      <th></th>\n",
       "      <th></th>\n",
       "      <th></th>\n",
       "    </tr>\n",
       "  </thead>\n",
       "  <tbody>\n",
       "    <tr>\n",
       "      <th>DISMISSED W/O  PREJUDICE</th>\n",
       "      <td>102614</td>\n",
       "      <td>26.477069</td>\n",
       "      <td>26.477069</td>\n",
       "    </tr>\n",
       "    <tr>\n",
       "      <th>GUILTY CHANGE OF PLEA</th>\n",
       "      <td>47114</td>\n",
       "      <td>12.156632</td>\n",
       "      <td>38.633701</td>\n",
       "    </tr>\n",
       "    <tr>\n",
       "      <th>CONTINUED W/O FINDING</th>\n",
       "      <td>42796</td>\n",
       "      <td>11.042476</td>\n",
       "      <td>49.676178</td>\n",
       "    </tr>\n",
       "    <tr>\n",
       "      <th>NOT RESPONSIBLE</th>\n",
       "      <td>37155</td>\n",
       "      <td>9.586952</td>\n",
       "      <td>59.263130</td>\n",
       "    </tr>\n",
       "    <tr>\n",
       "      <th>DISMISSED BY FINES</th>\n",
       "      <td>31854</td>\n",
       "      <td>8.219157</td>\n",
       "      <td>67.482287</td>\n",
       "    </tr>\n",
       "    <tr>\n",
       "      <th>RESPONSIBLE</th>\n",
       "      <td>23818</td>\n",
       "      <td>6.145661</td>\n",
       "      <td>73.627947</td>\n",
       "    </tr>\n",
       "    <tr>\n",
       "      <th>NOLLE PROSEQUI</th>\n",
       "      <td>22360</td>\n",
       "      <td>5.769459</td>\n",
       "      <td>79.397406</td>\n",
       "    </tr>\n",
       "    <tr>\n",
       "      <th>PRE-TRIAL PROBATION</th>\n",
       "      <td>20293</td>\n",
       "      <td>5.236119</td>\n",
       "      <td>84.633526</td>\n",
       "    </tr>\n",
       "    <tr>\n",
       "      <th>DISMISSED W/O PREJUDICE LACK OF PROSECUTION</th>\n",
       "      <td>11428</td>\n",
       "      <td>2.948720</td>\n",
       "      <td>87.582246</td>\n",
       "    </tr>\n",
       "    <tr>\n",
       "      <th>DISMISSED ON COURT COSTS</th>\n",
       "      <td>10689</td>\n",
       "      <td>2.758039</td>\n",
       "      <td>90.340285</td>\n",
       "    </tr>\n",
       "  </tbody>\n",
       "</table>\n",
       "</div>"
      ],
      "text/plain": [
       "                                             counts    percent  \\\n",
       "unique_values                                                    \n",
       "DISMISSED W/O  PREJUDICE                     102614  26.477069   \n",
       "GUILTY CHANGE OF PLEA                         47114  12.156632   \n",
       "CONTINUED W/O FINDING                         42796  11.042476   \n",
       "NOT RESPONSIBLE                               37155   9.586952   \n",
       "DISMISSED BY FINES                            31854   8.219157   \n",
       "RESPONSIBLE                                   23818   6.145661   \n",
       "NOLLE PROSEQUI                                22360   5.769459   \n",
       "PRE-TRIAL PROBATION                           20293   5.236119   \n",
       "DISMISSED W/O PREJUDICE LACK OF PROSECUTION   11428   2.948720   \n",
       "DISMISSED ON COURT COSTS                      10689   2.758039   \n",
       "\n",
       "                                             cumulative percent  \n",
       "unique_values                                                    \n",
       "DISMISSED W/O  PREJUDICE                              26.477069  \n",
       "GUILTY CHANGE OF PLEA                                 38.633701  \n",
       "CONTINUED W/O FINDING                                 49.676178  \n",
       "NOT RESPONSIBLE                                       59.263130  \n",
       "DISMISSED BY FINES                                    67.482287  \n",
       "RESPONSIBLE                                           73.627947  \n",
       "NOLLE PROSEQUI                                        79.397406  \n",
       "PRE-TRIAL PROBATION                                   84.633526  \n",
       "DISMISSED W/O PREJUDICE LACK OF PROSECUTION           87.582246  \n",
       "DISMISSED ON COURT COSTS                              90.340285  "
      ]
     },
     "execution_count": 10,
     "metadata": {},
     "output_type": "execute_result"
    }
   ],
   "source": [
    "a = ms['Disposition Description'].value_counts().rename_axis('unique_values').to_frame('counts')\n",
    "b = ms['Disposition Description'].value_counts(normalize=True).rename_axis('unique_values').to_frame('percent')*100\n",
    "disp_stats = pd.concat([a, b], axis=1)\n",
    "\n",
    "disp_stats['cumulative percent'] = disp_stats.percent.cumsum()\n",
    "print('top 10 dispositions for all cases')\n",
    "disp_stats[0:10]\n",
    "\n",
    "# The top 10 dispositions account for 90% of all dispositions"
   ]
  },
  {
   "cell_type": "code",
   "execution_count": 11,
   "metadata": {},
   "outputs": [
    {
     "name": "stdout",
     "output_type": "stream",
     "text": [
      "top 10 dispositions for all cases in juvenile court\n"
     ]
    },
    {
     "data": {
      "text/html": [
       "<div>\n",
       "<style scoped>\n",
       "    .dataframe tbody tr th:only-of-type {\n",
       "        vertical-align: middle;\n",
       "    }\n",
       "\n",
       "    .dataframe tbody tr th {\n",
       "        vertical-align: top;\n",
       "    }\n",
       "\n",
       "    .dataframe thead th {\n",
       "        text-align: right;\n",
       "    }\n",
       "</style>\n",
       "<table border=\"1\" class=\"dataframe\">\n",
       "  <thead>\n",
       "    <tr style=\"text-align: right;\">\n",
       "      <th></th>\n",
       "      <th>counts</th>\n",
       "      <th>percent</th>\n",
       "      <th>cumulative percent</th>\n",
       "    </tr>\n",
       "    <tr>\n",
       "      <th>unique_values</th>\n",
       "      <th></th>\n",
       "      <th></th>\n",
       "      <th></th>\n",
       "    </tr>\n",
       "  </thead>\n",
       "  <tbody>\n",
       "    <tr>\n",
       "      <th>DISMISSED W/O  PREJUDICE</th>\n",
       "      <td>4287</td>\n",
       "      <td>30.021008</td>\n",
       "      <td>30.021008</td>\n",
       "    </tr>\n",
       "    <tr>\n",
       "      <th>PRE-TRIAL PROBATION</th>\n",
       "      <td>3402</td>\n",
       "      <td>23.823529</td>\n",
       "      <td>53.844538</td>\n",
       "    </tr>\n",
       "    <tr>\n",
       "      <th>CONTINUED W/O FINDING</th>\n",
       "      <td>2025</td>\n",
       "      <td>14.180672</td>\n",
       "      <td>68.025210</td>\n",
       "    </tr>\n",
       "    <tr>\n",
       "      <th>DISMISSED PRIOR TO ARRAIGNMENT</th>\n",
       "      <td>745</td>\n",
       "      <td>5.217087</td>\n",
       "      <td>73.242297</td>\n",
       "    </tr>\n",
       "    <tr>\n",
       "      <th>DELINQUENT CHANGE OF PLEA</th>\n",
       "      <td>694</td>\n",
       "      <td>4.859944</td>\n",
       "      <td>78.102241</td>\n",
       "    </tr>\n",
       "    <tr>\n",
       "      <th>NOT RESPONSIBLE</th>\n",
       "      <td>401</td>\n",
       "      <td>2.808123</td>\n",
       "      <td>80.910364</td>\n",
       "    </tr>\n",
       "    <tr>\n",
       "      <th>NOLLE PROSEQUI</th>\n",
       "      <td>342</td>\n",
       "      <td>2.394958</td>\n",
       "      <td>83.305322</td>\n",
       "    </tr>\n",
       "    <tr>\n",
       "      <th>DISMISSED BY COURT (PRIOR TO ARRAIGNMENT)</th>\n",
       "      <td>339</td>\n",
       "      <td>2.373950</td>\n",
       "      <td>85.679272</td>\n",
       "    </tr>\n",
       "    <tr>\n",
       "      <th>DISMISSED W/O PREJUDICE LACK OF PROSECUTION</th>\n",
       "      <td>310</td>\n",
       "      <td>2.170868</td>\n",
       "      <td>87.850140</td>\n",
       "    </tr>\n",
       "    <tr>\n",
       "      <th>GUILTY CHANGE OF PLEA</th>\n",
       "      <td>221</td>\n",
       "      <td>1.547619</td>\n",
       "      <td>89.397759</td>\n",
       "    </tr>\n",
       "  </tbody>\n",
       "</table>\n",
       "</div>"
      ],
      "text/plain": [
       "                                             counts    percent  \\\n",
       "unique_values                                                    \n",
       "DISMISSED W/O  PREJUDICE                       4287  30.021008   \n",
       "PRE-TRIAL PROBATION                            3402  23.823529   \n",
       "CONTINUED W/O FINDING                          2025  14.180672   \n",
       "DISMISSED PRIOR TO ARRAIGNMENT                  745   5.217087   \n",
       "DELINQUENT CHANGE OF PLEA                       694   4.859944   \n",
       "NOT RESPONSIBLE                                 401   2.808123   \n",
       "NOLLE PROSEQUI                                  342   2.394958   \n",
       "DISMISSED BY COURT (PRIOR TO ARRAIGNMENT)       339   2.373950   \n",
       "DISMISSED W/O PREJUDICE LACK OF PROSECUTION     310   2.170868   \n",
       "GUILTY CHANGE OF PLEA                           221   1.547619   \n",
       "\n",
       "                                             cumulative percent  \n",
       "unique_values                                                    \n",
       "DISMISSED W/O  PREJUDICE                              30.021008  \n",
       "PRE-TRIAL PROBATION                                   53.844538  \n",
       "CONTINUED W/O FINDING                                 68.025210  \n",
       "DISMISSED PRIOR TO ARRAIGNMENT                        73.242297  \n",
       "DELINQUENT CHANGE OF PLEA                             78.102241  \n",
       "NOT RESPONSIBLE                                       80.910364  \n",
       "NOLLE PROSEQUI                                        83.305322  \n",
       "DISMISSED BY COURT (PRIOR TO ARRAIGNMENT)             85.679272  \n",
       "DISMISSED W/O PREJUDICE LACK OF PROSECUTION           87.850140  \n",
       "GUILTY CHANGE OF PLEA                                 89.397759  "
      ]
     },
     "execution_count": 11,
     "metadata": {},
     "output_type": "execute_result"
    }
   ],
   "source": [
    "a = ms['Disposition Description'].loc[ms['juvenile']==True].value_counts().rename_axis('unique_values').to_frame('counts')\n",
    "b = ms['Disposition Description'].loc[ms['juvenile']==True].value_counts(normalize=True).rename_axis('unique_values').to_frame('percent')*100\n",
    "disp_stats = pd.concat([a, b], axis=1)\n",
    "\n",
    "disp_stats['cumulative percent'] = disp_stats.percent.cumsum()\n",
    "print('top 10 dispositions for all cases in juvenile court')\n",
    "disp_stats[0:10]"
   ]
  },
  {
   "cell_type": "code",
   "execution_count": 12,
   "metadata": {},
   "outputs": [],
   "source": [
    "a = ms['Disposition Description'].loc[ms['juvenile']==True].value_counts()\n"
   ]
  },
  {
   "cell_type": "markdown",
   "metadata": {},
   "source": [
    "## Question 1\n",
    "- How many cases include only 1 offense, heard in a Juvenile court, and the charge is not part of the list of ineligible offenses from section 100J. \n",
    "\n",
    "We don't have misdemeanor / felony info, so will show the # that are more than 3 or more than 7 years from today.\n",
    "\n",
    "----"
   ]
  },
  {
   "cell_type": "code",
   "execution_count": 13,
   "metadata": {},
   "outputs": [],
   "source": [
    "def date_range(x):\n",
    "    greater3 = x.loc[(x['years_since_offense'] > 3)]['Case Number'].nunique()\n",
    "    greater7 = x.loc[(x['years_since_offense'] > 7)]['Case Number'].nunique()\n",
    "\n",
    "    print(greater3, \"occured more than 3 years before\", reference_date)\n",
    "    print(greater7, \"occured more than 7 years before\", reference_date)\n",
    "    "
   ]
  },
  {
   "cell_type": "code",
   "execution_count": 14,
   "metadata": {},
   "outputs": [
    {
     "name": "stdout",
     "output_type": "stream",
     "text": [
      "There are 1676 cases with charges eligible for expungement in the Middlesex district of MA\n",
      "if we include 'attempts' as expungeable. This is 1.02% of all cases. \n",
      " This is  28.82% of juvenile cases\n",
      "1254 occured more than 3 years before 2020-09-01\n",
      "36 occured more than 7 years before 2020-09-01\n"
     ]
    },
    {
     "data": {
      "text/plain": [
       "DISMISSED W/O  PREJUDICE                       580\n",
       "PRE-TRIAL PROBATION                            370\n",
       "CONTINUED W/O FINDING                          186\n",
       "DISMISSED PRIOR TO ARRAIGNMENT                 157\n",
       "DISMISSED BY COURT (PRIOR TO ARRAIGNMENT)       78\n",
       "DISMISSED BY FINES                              43\n",
       "DELINQUENT CHANGE OF PLEA                       30\n",
       "GENERAL CONTINUANCE                             29\n",
       "NOT RESPONSIBLE                                 22\n",
       "DISMISSED W/O PREJUDICE LACK OF PROSECUTION     21\n",
       "Name: Disposition Description, dtype: int64"
      ]
     },
     "execution_count": 14,
     "metadata": {},
     "output_type": "execute_result"
    }
   ],
   "source": [
    "x = ms.loc[\n",
    "    (ms['offenses_per_case']==1) &\n",
    "    (ms['Expungeable'] != 'No') &\n",
    "    (ms['juvenile'] == True)\n",
    "]\n",
    "\n",
    "People_eligible = x['Case Number'].nunique()\n",
    "\n",
    "print(f\"There are {People_eligible} cases with charges eligible for expungement in the Middlesex district of MA\") \n",
    "print(f\"if we include 'attempts' as expungeable. This is {People_eligible/Number_Cases:.2%} of all cases. \\n\", \n",
    "     f\"This is {People_eligible/Number_Cases_Juvenile: .2%} of juvenile cases\")   \n",
    "      \n",
    "date_range(x)\n",
    "\n",
    "x['Disposition Description'].value_counts(dropna=False)[0:10]"
   ]
  },
  {
   "cell_type": "markdown",
   "metadata": {},
   "source": [
    "## Question 2\n",
    "- How many people (under age 21) would be eligible based on only having one incident (which could include multiple charges) that are not part of the list of ineligible offenses?\n",
    "\n",
    "\n",
    "*We cannot answer this -- we do not have a person-level identifier or any proxy for an identifier. Instead, can answer what percent of incidents heard in juvenile court are eligible, based on none of the charges being on the list of ineligible offenses* \n"
   ]
  },
  {
   "cell_type": "code",
   "execution_count": 15,
   "metadata": {},
   "outputs": [
    {
     "name": "stdout",
     "output_type": "stream",
     "text": [
      "There are 3210 cases with all charges eligible for expungement in the Middlesex district of MA\n",
      "if we include 'attempts' as expungeable. This is 1.96% of all cases. \n",
      " This is  55.19% of juvenile cases\n",
      "2462 occured more than 3 years before 2020-09-01\n",
      "59 occured more than 7 years before 2020-09-01\n"
     ]
    },
    {
     "data": {
      "text/plain": [
       "PRE-TRIAL PROBATION                            2185\n",
       "DISMISSED W/O  PREJUDICE                       2167\n",
       "CONTINUED W/O FINDING                          1166\n",
       "DISMISSED PRIOR TO ARRAIGNMENT                  460\n",
       "DELINQUENT CHANGE OF PLEA                       329\n",
       "NOT RESPONSIBLE                                 194\n",
       "DISMISSED BY COURT (PRIOR TO ARRAIGNMENT)       172\n",
       "DISMISSED BY FINES                              112\n",
       "GUILTY CHANGE OF PLEA                            99\n",
       "DISMISSED W/O PREJUDICE LACK OF PROSECUTION      94\n",
       "Name: Disposition Description, dtype: int64"
      ]
     },
     "execution_count": 15,
     "metadata": {},
     "output_type": "execute_result"
    }
   ],
   "source": [
    "x = ms.loc[\n",
    "    (ms['Inc_Expungeable_Attempts_Are'] == True) &\n",
    "    (ms['juvenile'] == True)\n",
    "]\n",
    "\n",
    "People_eligible = x['Case Number'].nunique()\n",
    "\n",
    "print(f\"There are {People_eligible} cases with all charges eligible for expungement in the Middlesex district of MA\") \n",
    "print(f\"if we include 'attempts' as expungeable. This is {People_eligible/Number_Cases:.2%} of all cases. \\n\",\n",
    "     f\"This is {People_eligible/Number_Cases_Juvenile: .2%} of juvenile cases\")   \n",
    "\n",
    "date_range(x)\n",
    "\n",
    "x['Disposition Description'].value_counts(dropna=False)[0:10]"
   ]
  },
  {
   "cell_type": "markdown",
   "metadata": {},
   "source": [
    "### Question 3\n",
    "- How many people (under age 21) would be eligible based on who has not been found guilty (given current offenses that are eligible for expungement)?\n",
    "\n",
    "Need more work on this -- there are many dispositions that are null, and many others that indicate a case in process, transferred, etc, that would not indicate \"guilty\", but also would not indicate \"not guilty\"\n",
    "\n",
    "*Because we do not have an individual identifier, this is just a sub-set of Question 2. This will remove any incidents where at least 1 offense had a disposition indicating guilty (looks like its mostly taking form delinquent change of plea or guilty change of plea). If we had an indicator of individuals across offenses, this might increase the number of people eligible for expungement, because it would waive the single offense/incident criterion. In this case, it reduces the number of incidents eligible, because it restricts to only those not found guilty.*"
   ]
  },
  {
   "cell_type": "code",
   "execution_count": 16,
   "metadata": {},
   "outputs": [
    {
     "name": "stdout",
     "output_type": "stream",
     "text": [
      "There are 2969 cases with charges eligible for expungement in the Middlesex district of MA, where no charges in the incident had a guilty disposition\n",
      "we include 'attempts' as expungeable. This is 1.81% of all cases. \n",
      " This is  51.05% of juvenile cases\n",
      "2261 occured more than 3 years before 2020-09-01\n",
      "56 occured more than 7 years before 2020-09-01\n"
     ]
    },
    {
     "data": {
      "text/plain": [
       "PRE-TRIAL PROBATION                            2184\n",
       "DISMISSED W/O  PREJUDICE                       2115\n",
       "CONTINUED W/O FINDING                          1139\n",
       "DISMISSED PRIOR TO ARRAIGNMENT                  459\n",
       "NOT RESPONSIBLE                                 186\n",
       "DISMISSED BY COURT (PRIOR TO ARRAIGNMENT)       172\n",
       "DISMISSED BY FINES                              105\n",
       "DISMISSED W/O PREJUDICE LACK OF PROSECUTION      92\n",
       "GENERAL CONTINUANCE                              90\n",
       "NOLLE PROSEQUI                                   85\n",
       "Name: Disposition Description, dtype: int64"
      ]
     },
     "execution_count": 16,
     "metadata": {},
     "output_type": "execute_result"
    }
   ],
   "source": [
    "x = ms.loc[\n",
    "    (ms['Inc_Expungeable_Attempts_Are']) &\n",
    "    (ms['juvenile'] == True) &\n",
    "    (ms['Incident_Guilty'] != True)\n",
    "]\n",
    "\n",
    "People_eligible = x['Case Number'].nunique()\n",
    "\n",
    "print(f\"There are {People_eligible} cases with charges eligible for expungement in the Middlesex district of MA, where\",\n",
    "     \"no charges in the incident had a guilty disposition\") \n",
    "print(f\"we include 'attempts' as expungeable. This is {People_eligible/Number_Cases:.2%} of all cases. \\n\", \n",
    "     f\"This is {People_eligible/Number_Cases_Juvenile: .2%} of juvenile cases\")   \n",
    "      \n",
    "date_range(x)\n",
    "\n",
    "x['Disposition Description'].value_counts(dropna=False)[0:10]"
   ]
  },
  {
   "cell_type": "markdown",
   "metadata": {},
   "source": [
    "## Question 2b\n",
    "- How many people (under age 21) would be eligible based on only having one incident if only sex-based offenses or murder were excluded from expungement?\n",
    "\n",
    "\n",
    "*We cannot answer this -- we do not have a person-level identifier or any proxy for an identifier. Instead, can answer what percent of incidents heard in juvenile court are eligible, based on none of the charges in the incident being related to sex or murder* "
   ]
  },
  {
   "cell_type": "code",
   "execution_count": 17,
   "metadata": {},
   "outputs": [
    {
     "name": "stdout",
     "output_type": "stream",
     "text": [
      "There are 5732 cases where no cases are related to murder or sex in the Middlesex district of MA\n",
      "This is 3.50% of all cases. \n",
      " This is  98.56% of juvenile cases\n",
      "4281 occured more than 3 years before 2020-09-01\n",
      "82 occured more than 7 years before 2020-09-01\n"
     ]
    },
    {
     "data": {
      "text/plain": [
       "DISMISSED W/O  PREJUDICE                       4237\n",
       "PRE-TRIAL PROBATION                            3371\n",
       "CONTINUED W/O FINDING                          2019\n",
       "DISMISSED PRIOR TO ARRAIGNMENT                  742\n",
       "DELINQUENT CHANGE OF PLEA                       665\n",
       "NOT RESPONSIBLE                                 394\n",
       "DISMISSED BY COURT (PRIOR TO ARRAIGNMENT)       338\n",
       "DISMISSED W/O PREJUDICE LACK OF PROSECUTION     305\n",
       "NOLLE PROSEQUI                                  302\n",
       "GUILTY CHANGE OF PLEA                           208\n",
       "Name: Disposition Description, dtype: int64"
      ]
     },
     "execution_count": 17,
     "metadata": {},
     "output_type": "execute_result"
    }
   ],
   "source": [
    "x = ms.loc[\n",
    "    (ms['Incident_Murder_Sex'] == False) &\n",
    "    (ms['juvenile'] == True)\n",
    "]\n",
    "\n",
    "People_eligible = x['Case Number'].nunique()\n",
    "\n",
    "print(f\"There are {People_eligible} cases where no cases are related to murder or sex in the Middlesex district of MA\") \n",
    "print(f\"This is {People_eligible/Number_Cases:.2%} of all cases. \\n\",\n",
    "     f\"This is {People_eligible/Number_Cases_Juvenile: .2%} of juvenile cases\")   \n",
    "\n",
    "date_range(x)\n",
    "\n",
    "x['Disposition Description'].value_counts(dropna=False)[0:10]"
   ]
  },
  {
   "cell_type": "markdown",
   "metadata": {},
   "source": [
    "### Question 3b\n",
    "- How many people (under age 21) would be eligible based on who has not been found guilty for all offenses except for murder or sex-based offenses?\n",
    "\n",
    "*Because we do not have an individual identifier, this is just a sub-set of Question 2b. This will remove any incidents where at least 1 offense had a disposition indicating guilty (looks like its mostly taking form delinquent change of plea or guilty change of plea). If we had an indicator of individuals across offenses, this might increase the number of people eligible for expungement, because it would waive the single offense/incident criterion. In this case, it reduces the number of incidents eligible, because it restricts to only those not found guilty.*"
   ]
  },
  {
   "cell_type": "code",
   "execution_count": 18,
   "metadata": {},
   "outputs": [
    {
     "name": "stdout",
     "output_type": "stream",
     "text": [
      "There are 5246 cases where no cases are related to murder or sex in the Middlesex district of MA and no offenses had a disposition indicating guilty\n",
      "This is 3.20% of all cases. \n",
      " This is  90.20% of juvenile cases\n",
      "3899 occured more than 3 years before 2020-09-01\n",
      "75 occured more than 7 years before 2020-09-01\n"
     ]
    },
    {
     "data": {
      "text/plain": [
       "DISMISSED W/O  PREJUDICE                       4099\n",
       "PRE-TRIAL PROBATION                            3365\n",
       "CONTINUED W/O FINDING                          1942\n",
       "DISMISSED PRIOR TO ARRAIGNMENT                  736\n",
       "NOT RESPONSIBLE                                 364\n",
       "DISMISSED BY COURT (PRIOR TO ARRAIGNMENT)       332\n",
       "DISMISSED W/O PREJUDICE LACK OF PROSECUTION     300\n",
       "NOLLE PROSEQUI                                  268\n",
       "GENERAL CONTINUANCE                             175\n",
       "DISMISSED ON COURT COSTS                        173\n",
       "Name: Disposition Description, dtype: int64"
      ]
     },
     "execution_count": 18,
     "metadata": {},
     "output_type": "execute_result"
    }
   ],
   "source": [
    "x = ms.loc[\n",
    "    (ms['Incident_Murder_Sex'] == False) &\n",
    "    (ms['juvenile'] == True) &\n",
    "    (ms['Incident_Guilty'] != True)\n",
    "]\n",
    "\n",
    "People_eligible = x['Case Number'].nunique()\n",
    "\n",
    "print(f\"There are {People_eligible} cases where no cases are related to murder or sex in the Middlesex district of MA\",\n",
    "     \"and no offenses had a disposition indicating guilty\") \n",
    "print(f\"This is {People_eligible/Number_Cases:.2%} of all cases. \\n\",\n",
    "     f\"This is {People_eligible/Number_Cases_Juvenile: .2%} of juvenile cases\")   \n",
    "\n",
    "date_range(x)\n",
    "\n",
    "x['Disposition Description'].value_counts(dropna=False)[0:10]"
   ]
  }
 ],
 "metadata": {
  "kernelspec": {
   "display_name": "Python 3",
   "language": "python",
   "name": "python3"
  },
  "language_info": {
   "codemirror_mode": {
    "name": "ipython",
    "version": 3
   },
   "file_extension": ".py",
   "mimetype": "text/x-python",
   "name": "python",
   "nbconvert_exporter": "python",
   "pygments_lexer": "ipython3",
   "version": "3.8.3"
  }
 },
 "nbformat": 4,
 "nbformat_minor": 4
}
