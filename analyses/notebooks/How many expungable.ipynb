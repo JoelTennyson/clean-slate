{
 "cells": [
  {
   "cell_type": "markdown",
   "metadata": {},
   "source": [
    "# Clean Slate: Estimating offenses eligible for expungement under varying conditions\n",
    "> Prepared by [Laura Feeney](https://github.com/laurafeeney) for Code for Boston's [Clean Slate project](https://github.com/codeforboston/clean-slate).\n",
    "\n",
    "## Purpose\n",
    "This notebook takes somewhat processed data from the Northwestern DA and answers the following questions, posed June 28, 2020. \n",
    "\n",
    "This analysis will be run a number of times: under existing regulation, and under varying conditions allowing additional offenses to be expunged.\n",
    "\n",
    "\n",
    "1. How many people (under age 21) are eligible for expungement today? This would be people with only **one charge** that is not part of the list of ineligible offenses (per section 100J). \n",
    "\n",
    "\n",
    "2. How many people (under age 21) would be eligible based on only having **one incident** (which could include multiple charges) that are not part of the list of ineligible offenses?\n",
    " - How many people (under age 21) would be eligible based on only having **one incident** if only sex-based offenses or murder were excluded from expungement?\n",
    " \n",
    "\n",
    "3. How many people (under age 21) would be eligible based on who has **not been found guilty** (given current offenses that are eligible for expungement)?\n",
    " - How many people (under age 21) would be eligible based on who has **not been found guilty** for all offenses except for murder or sex-based offenses?\n",
    "\n",
    "-----"
   ]
  },
  {
   "cell_type": "markdown",
   "metadata": {},
   "source": [
    "### Step 0\n",
    "Import data, programs, etc.\n",
    "\n",
    "-----"
   ]
  },
  {
   "cell_type": "code",
   "execution_count": 1,
   "metadata": {},
   "outputs": [],
   "source": [
    "import pandas as pd\n",
    "pd.set_option(\"display.max_rows\", 200)\n",
    "import numpy as np\n",
    "import regex as re\n",
    "import glob, os\n",
    "import datetime \n",
    "from datetime import date \n",
    "from collections import defaultdict, Counter"
   ]
  },
  {
   "cell_type": "code",
   "execution_count": 2,
   "metadata": {},
   "outputs": [
    {
     "data": {
      "text/plain": [
       "Yes              55052\n",
       "No               20013\n",
       "NotApplicable      439\n",
       "Attempt            220\n",
       "NaN                  1\n",
       "Name: Expungeable, dtype: int64"
      ]
     },
     "execution_count": 2,
     "metadata": {},
     "output_type": "execute_result"
    }
   ],
   "source": [
    "# processed individual-level data from NW district with expungability.\n",
    "\n",
    "nw = pd.read_csv('../../data/processed/merged_nw.csv', encoding='cp1252',\n",
    "                    dtype={'Analysis notes':str, 'extra_criteria':str, 'Expungeable': str}) \n",
    "\n",
    "nw['Expungeable'].value_counts(dropna=False)\n"
   ]
  },
  {
   "cell_type": "markdown",
   "metadata": {},
   "source": [
    "## Step 1\n",
    "Add a few additional variables needed, look at summary stats\n",
    "\n",
    "There are many offenses that are violations of the Code of Massachusetts Regulations (CMR) rather than a criminal offense. These include things like some driving or boating infractions (e.g., not having headlights on), or not having a hunting/fishing license. It's not clear whether these should be included at all. We'll run the analysis first including them at all stages, and then excluding them at all stages. "
   ]
  },
  {
   "cell_type": "code",
   "execution_count": 3,
   "metadata": {},
   "outputs": [
    {
     "name": "stdout",
     "output_type": "stream",
     "text": [
      "The earliest offense date is 1750-12-03\n",
      "The max offense date is 2018-12-30 \n",
      "\n",
      "count    74915.000000\n",
      "mean         4.460396\n",
      "std          2.798864\n",
      "min          1.673973\n",
      "25%          3.060274\n",
      "50%          4.328767\n",
      "75%          5.638356\n",
      "max        269.926027\n",
      "Name: years_since_offense, dtype: float64\n",
      "\n",
      " There are a tail of dates that are probably wrong, but age is missing for most anyways,so we typically exclude offenses without an age\n"
     ]
    }
   ],
   "source": [
    "### dates ###\n",
    "\n",
    "reference_date = datetime.date(2020, 9, 1) # using \"today.date() wouldn't be stable\"\n",
    "\n",
    "nw['Offense Date'] = pd.to_datetime(nw['Offense Date']).dt.date\n",
    "nw['years_since_offense'] = (reference_date - nw['Offense Date'])/pd.Timedelta(1, 'D')/365\n",
    "\n",
    "nw[nw['Offense Date']<datetime.date(1950, 1, 1)]\n",
    "\n",
    "print(\"The earliest offense date is\", min(nw['Offense Date']))\n",
    "print(\"The max offense date is\", max(nw['Offense Date']), \"\\n\")\n",
    "\n",
    "print(nw['years_since_offense'].describe())\n",
    "\n",
    "print(\"\\n There are a tail of dates that are probably wrong, but age is missing for most anyways,\"\n",
    "      + \"so we typically exclude offenses without an age\")"
   ]
  },
  {
   "cell_type": "code",
   "execution_count": 4,
   "metadata": {
    "scrolled": true
   },
   "outputs": [
    {
     "name": "stdout",
     "output_type": "stream",
     "text": [
      "There are 75725 total offenses including CMR.\n",
      "After we drop CMR, there are 75285 total offenses.\n"
     ]
    }
   ],
   "source": [
    "# CMR: Drop all CMR offenses and Drop CMR-related columns\n",
    "\n",
    "print(f'There are {nw.shape[0]} total offenses including CMR.')\n",
    "\n",
    "nw = nw.loc[nw['CMRoffense'] == 'no']\n",
    "nw = nw.drop(columns = ['CMRoffense'])\n",
    "\n",
    "print(f'After we drop CMR, there are {nw.shape[0]} total offenses.')"
   ]
  },
  {
   "cell_type": "code",
   "execution_count": 5,
   "metadata": {},
   "outputs": [
    {
     "name": "stdout",
     "output_type": "stream",
     "text": [
      "count    75285.000000\n",
      "mean        10.075752\n",
      "std         18.230430\n",
      "min          1.000000\n",
      "25%          3.000000\n",
      "50%          5.000000\n",
      "75%         11.000000\n",
      "max        202.000000\n",
      "Name: num_offenses, dtype: float64\n"
     ]
    }
   ],
   "source": [
    "# distribution of # of charges\n",
    "\n",
    "nw['num_offenses']=nw.groupby('Person ID')['Person ID'].transform('count')\n",
    "print(nw['num_offenses'].describe())\n",
    "\n",
    "#nw.loc[nw['num_offenses']<30].hist(column='num_offenses', bins=15)"
   ]
  },
  {
   "cell_type": "code",
   "execution_count": 46,
   "metadata": {},
   "outputs": [
    {
     "name": "stdout",
     "output_type": "stream",
     "text": [
      "There are 19686 unique Person IDs in the Northwestern file. Of those, 2854 ie 14.50% were under 21 at the offense date.\n",
      "There are 5026 people with only 1 offense\n",
      "This is 25.53% of the individuals\n"
     ]
    }
   ],
   "source": [
    "### number of unique people, incidents, % under 21Number_Cases = ms['Case Number'].nunique()\n",
    "Number_People = nw['Person ID'].nunique()\n",
    "Number_Juvenile = nw[ (~nw['Age at Offense'].isnull()) & (nw['Age at Offense']<21)]['Person ID'].nunique()\n",
    "Percent_Juvenile = \"{:.2%}\".format(Number_Juvenile/Number_People)\n",
    "Number_Adult = nw[ (~nw['Age at Offense'].isnull()) & (nw['Age at Offense']>=21)]['Person ID'].nunique()\n",
    "\n",
    "print('There are', Number_People, 'unique Person IDs in the Northwestern file. Of those,', Number_Juvenile,\n",
    "      'ie' , Percent_Juvenile,\n",
    "     'were under 21 at the offense date.')\n",
    "print(f\"There are {nw[nw['num_offenses']==1]['Person ID'].nunique()} people with only 1 offense\")\n",
    "print(f\"This is {nw[nw['num_offenses']==1]['Person ID'].nunique() / Number_People:.2%} of the individuals\")"
   ]
  },
  {
   "cell_type": "code",
   "execution_count": 35,
   "metadata": {},
   "outputs": [
    {
     "name": "stdout",
     "output_type": "stream",
     "text": [
      "Yes        55052\n",
      "No         20013\n",
      "Attempt      220\n",
      "Name: Expungeable, dtype: int64\n"
     ]
    }
   ],
   "source": [
    "print(nw['Expungeable'].value_counts())"
   ]
  },
  {
   "cell_type": "code",
   "execution_count": 44,
   "metadata": {},
   "outputs": [],
   "source": [
    "#Data prep\n",
    "\n",
    "#Number of incidents (separate offense dates per same ID)\n",
    "nw['Incidents'] = (nw.groupby('Person ID')['Offense Date'].transform('nunique'))\n",
    "\n",
    "# If an incident includes one offense that is not expungeable, we mark the entire incident as not expungeable.\n",
    "#Attempts *are not* considered expungeable in this one. \n",
    "nw['Exp'] = nw['Expungeable']==\"Yes\"\n",
    "nw['Inc_Expungeable_Attempts_Not'] = nw.groupby(['Person ID', 'Offense Date'])['Exp'].transform('min')\n",
    "\n",
    "# If an incident includes one offense that is not expungeable, we mark the entire incident as not expungeable.\n",
    "#Attempts *are* not considered expungeable in this one. \n",
    "nw['ExpAtt'] = (nw['Expungeable']==\"Yes\") | (nw['Expungeable']==\"Attempt\")\n",
    "nw['Inc_Expungeable_Attempts_Are'] = nw.groupby(['Person ID', 'Offense Date'])['ExpAtt'].transform('min')\n",
    "\n",
    "# If an incident includes an offense that is a murder and/or sex crime, we code the whole incident as regarding\n",
    "# murder and/or sex.\n",
    "nw['sm'] = (nw['sex'] == 1) | (nw['murder'] ==1)\n",
    "nw['Incident_Murder_Sex'] = nw.groupby(['Person ID', 'Offense Date'])['sm'].transform('max')\n",
    "\n",
    "#Sanity check to make sure I coded things right\n",
    "#nw[['Person ID', 'Offense Date', 'murder', 'sex', 'Incident_Murder_Sex']][100:2000].loc[nw['Incident_Murder_Sex'] == 1]\n",
    "\n",
    "#unneeded calculation columns\n",
    "nw = nw.drop(columns=['Exp', 'sm'])"
   ]
  },
  {
   "cell_type": "markdown",
   "metadata": {},
   "source": [
    "## Question 1\n",
    "- How many people are eligible for expungement today? \n",
    "    - ---> *Only one charge*, Offense committed before 21st birthday, charge is not part of the list of ineligible offenses (per section 100J), charge is in the correct timeframe from today's date\n",
    "\n",
    "We don't have misdemeanor / felony info, so will show the # that are more than 3 or more than 7 years from today.\n",
    "\n",
    "----"
   ]
  },
  {
   "cell_type": "code",
   "execution_count": 37,
   "metadata": {},
   "outputs": [],
   "source": [
    "def date_range(x):\n",
    "    greater3 = x.loc[(x['years_since_offense'] > 3)]['Person ID'].nunique()\n",
    "    greater7 = x.loc[(x['years_since_offense'] > 7)]['Person ID'].nunique()\n",
    "\n",
    "    print(greater3, \"occured more than 3 years before\", reference_date)\n",
    "    print(greater7, \"occured more than 7 years before\", reference_date)\n",
    "    "
   ]
  },
  {
   "cell_type": "code",
   "execution_count": 39,
   "metadata": {},
   "outputs": [
    {
     "name": "stdout",
     "output_type": "stream",
     "text": [
      "There are 3557 individuals of any age with a single offense that is theoretically eligible for expungment.\n",
      "This is 18.07% of the individuals\n"
     ]
    }
   ],
   "source": [
    "eligible_all_ages = nw.loc[\n",
    "    (nw['num_offenses']==1) &\n",
    "    (nw['Expungeable'] != 'No') &\n",
    "    (~nw['Age at Offense'].isnull())\n",
    "]['Person ID'].nunique()\n",
    "\n",
    "print(\"There are\", eligible_all_ages, \"individuals of any age with a single offense that is theoretically eligible for expungment.\")\n",
    "print(f\"This is {eligible_all_ages / Number_People:.2%} of the individuals\")"
   ]
  },
  {
   "cell_type": "code",
   "execution_count": 55,
   "metadata": {},
   "outputs": [
    {
     "name": "stdout",
     "output_type": "stream",
     "text": [
      "There are 549 people with charges eligible for expungement in the NW district of MA if we include 'attempts' as expungeable.\n",
      "This is 19.24% of juveniles in the file.\n",
      "392 occured more than 3 years before 2020-09-01\n",
      "11 occured more than 7 years before 2020-09-01\n",
      "\n",
      "Dispositions: \n",
      "\n",
      " c276s87 finding                     154\n",
      "Dismissed at Request of Comm         96\n",
      "Responsible                          80\n",
      "Nolle Prosequi                       50\n",
      "Dismissed Prior to Arraignment       42\n",
      "Dismissed                            32\n",
      "Dismissed on Payment                 28\n",
      "Continued w/o Finding                26\n",
      "NaN                                  25\n",
      "Guilty                                6\n",
      "Dismissed by Court                    3\n",
      "Delinquent                            3\n",
      "Charge Handled as a Civil Charge      3\n",
      "Responsible Filed                     1\n",
      "Name: Disposition, dtype: int64\n"
     ]
    }
   ],
   "source": [
    "x = nw.loc[\n",
    "    (nw['num_offenses']==1) &\n",
    "    (nw['Expungeable'] != 'No') &\n",
    "    (~nw['Age at Offense'].isnull()) &\n",
    "    (nw['Age at Offense']<21)\n",
    "]\n",
    "\n",
    "People_eligible = x['Person ID'].nunique()\n",
    "\n",
    "print(\"There are\", People_eligible,\n",
    "      \"people with charges eligible for expungement in the NW district of MA\",\n",
    "      \"if we include 'attempts' as expungeable.\")\n",
    "print(f\"This is {People_eligible / Number_Juvenile:.2%} of juveniles in the file.\")\n",
    "\n",
    "date_range(x)\n",
    "\n",
    "print(\"\\nDispositions: \\n\\n\", x.Disposition.value_counts(dropna=False))"
   ]
  },
  {
   "cell_type": "code",
   "execution_count": 56,
   "metadata": {},
   "outputs": [
    {
     "name": "stdout",
     "output_type": "stream",
     "text": [
      "There are 547 people with charges eligible for expungement in the NW district of MA,  if we assume all 'attempts' are not expungeable.\n"
     ]
    }
   ],
   "source": [
    "x = nw.loc[\n",
    "    (nw['num_offenses']==1) &\n",
    "    (nw['Expungeable'] == 'Yes') &\n",
    "    (~nw['Age at Offense'].isnull()) &\n",
    "    (nw['Age at Offense']<21) \n",
    "]\n",
    "\n",
    "People_eligible = x['Person ID'].nunique()\n",
    "\n",
    "print(\"There are\", People_eligible,\n",
    "      \"people with charges eligible for expungement in the NW district of MA,\",\n",
    "      \" if we assume all 'attempts' are not expungeable.\")\n",
    "#print(f\"This is {People_eligible / Number_People:.2%} of the individuals including adults & juveniles\")\n",
    "#print(f\"This is {People_eligible / Number_Juvenile:.2%} of the juveniles\")\n",
    "\n",
    "#date_range(x)"
   ]
  },
  {
   "cell_type": "markdown",
   "metadata": {},
   "source": [
    "## Question 2: incidents rather than offenses"
   ]
  },
  {
   "cell_type": "markdown",
   "metadata": {},
   "source": [
    "Luke Schissler & Laura Feeney\n",
    "\n",
    "2. How many people (under age 21) would be eligible based on only having **one incident** (which could include multiple charges) that are not part of the list of ineligible offenses?\n",
    " - 2a. How many people (under age 21) would be eligible based on only having **one incident** if only sex-based offenses or murder were excluded from expungement?\n",
    "\n",
    "\n",
    "Making the assumption based on the 06/26/20 meeting notes that an 'incident' is defined as the sum of all charges for an individual on a single day. In theory, someone could probably be charged in two separate instances on a single day, but this is likely rare. \n",
    "\n",
    "For this analysis, we assume that a single non-expungeable offense under the bundle of the incident makes the entire incident non-expungeable. Same for the analysis of murder or sex crimes."
   ]
  },
  {
   "cell_type": "markdown",
   "metadata": {},
   "source": [
    "### How many people (under age 21) would be eligible based on only having one incident (which could include multiple charges) that are not part of the list of ineligible offenses?"
   ]
  },
  {
   "cell_type": "code",
   "execution_count": 61,
   "metadata": {},
   "outputs": [
    {
     "name": "stdout",
     "output_type": "stream",
     "text": [
      "There are 1247 people with charges eligible for expungement in the NW district of MA, if the person has a single incident in which all the offenses are expungeable if we consider attempts to be unexpungeable.\n",
      "This is 43.69% of the juveniles\n",
      "870 occured more than 3 years before 2020-09-01\n",
      "27 occured more than 7 years before 2020-09-01\n",
      "\n",
      "Dispositions: \n",
      "\n",
      " Dismissed at Request of Comm        519\n",
      "c276s87 finding                     455\n",
      "Nolle Prosequi                      244\n",
      "Responsible                         220\n",
      "Continued w/o Finding               220\n",
      "Not Responsible                     217\n",
      "Dismissed Prior to Arraignment      156\n",
      "Dismissed                           119\n",
      "NaN                                 111\n",
      "Dismissed on Payment                 92\n",
      "Guilty                               36\n",
      "Dismissed by Court                   14\n",
      "Delinquent                           14\n",
      "Responsible Filed                    13\n",
      "Found Incompetent                     8\n",
      "DYS Committed                         5\n",
      "Charge Handled as a Civil Charge      5\n",
      "Dismissed prior to complaint          3\n",
      "Delinquent Filed                      3\n",
      "CLOSED-NO CHARGES                     3\n",
      "Unagreed Plea                         1\n",
      "Name: Disposition, dtype: int64\n"
     ]
    }
   ],
   "source": [
    "# Find how many people whose offenses fall into a single incident, where all the offenses are expungeable \n",
    "# (Not including attempts). \n",
    "\n",
    "x = nw.loc[\n",
    "    (nw['Incidents'] == 1) &\n",
    "    (nw['Inc_Expungeable_Attempts_Not'] == True) &\n",
    "    (~nw['Age at Offense'].isnull()) &\n",
    "    (nw['Age at Offense']<21) \n",
    "]\n",
    "\n",
    "People_eligible = x['Person ID'].nunique()\n",
    "\n",
    "print(\"There are\", People_eligible,\n",
    "      \"people with charges eligible for expungement in the NW district of MA, if the person has a single incident\" +\n",
    "      \" in which all the offenses are expungeable\" + \n",
    "     \" if we consider attempts to be unexpungeable.\")\n",
    "\n",
    "print(f\"This is {People_eligible / Number_Juvenile:.2%} of the juveniles\")\n",
    "\n",
    "date_range(x)\n",
    "\n",
    "#print(x.sample(n=5)) # grab a random sample to verify\n",
    "print(\"\\nDispositions: \\n\\n\", x.Disposition.value_counts(dropna=False))"
   ]
  },
  {
   "cell_type": "code",
   "execution_count": 62,
   "metadata": {},
   "outputs": [
    {
     "name": "stdout",
     "output_type": "stream",
     "text": [
      "There are 1254 people with charges eligible for expungement in the NW district of MA, if the person has a single incident, in which all the offenses are expungeable and attempts are considered expungeable.\n"
     ]
    }
   ],
   "source": [
    "# Same as above, but make 'attempts' expungeable\n",
    "\n",
    "x = nw.loc[\n",
    "    (nw['Incidents'] == 1) &\n",
    "    (nw['Inc_Expungeable_Attempts_Are'] == True) &\n",
    "    (~nw['Age at Offense'].isnull()) &\n",
    "    (nw['Age at Offense']<21) \n",
    "]\n",
    "\n",
    "People_eligible = x['Person ID'].nunique()\n",
    "\n",
    "print(\"There are\", People_eligible,\n",
    "      \"people with charges eligible for expungement in the NW district of MA, if the person has a single incident,\" +\n",
    "      \" in which all the offenses are expungeable and attempts are considered expungeable.\")\n",
    "\n",
    "#date_range(x)\n",
    "\n",
    "#print(\"\\nDispositions: \\n\\n\", x.Disposition.value_counts(dropna=False))"
   ]
  },
  {
   "cell_type": "code",
   "execution_count": 65,
   "metadata": {},
   "outputs": [
    {
     "name": "stdout",
     "output_type": "stream",
     "text": [
      "There are 7152 people with charges eligible for expungement in the NW district of MA, if the person has a single incident in which all the offenses are expungeable if we consider attempts to be unexpungeable.\n",
      "This is 41.60% of the adults\n",
      "\n",
      "Top 10 Dispositions: \n",
      "\n",
      " Dismissed at Request of Comm    3148\n",
      "Not Responsible                 2147\n",
      "Nolle Prosequi                  1355\n",
      "NaN                             1281\n",
      "Dismissed on Payment            1256\n",
      "Responsible                     1200\n",
      "Guilty                          1027\n",
      "Dismissed                        848\n",
      "Continued w/o Finding            775\n",
      "c276s87 finding                  439\n",
      "Name: Disposition, dtype: int64\n"
     ]
    }
   ],
   "source": [
    "# Compare the above for adults.\n",
    "#  how many adults  offenses fall into a single incident, where all the offenses are expungeable \n",
    "# (Not including attempts). \n",
    "\n",
    "x = nw.loc[\n",
    "    (nw['Incidents'] == 1) &\n",
    "    (nw['Inc_Expungeable_Attempts_Not'] == True) &\n",
    "    (~nw['Age at Offense'].isnull()) &\n",
    "    (nw['Age at Offense']>=21) \n",
    "]\n",
    "\n",
    "People_eligible = x['Person ID'].nunique()\n",
    "\n",
    "print(\"There are\", People_eligible,\n",
    "      \"people with charges eligible for expungement in the NW district of MA, if the person has a single incident\" +\n",
    "      \" in which all the offenses are expungeable\" + \n",
    "     \" if we consider attempts to be unexpungeable.\")\n",
    "\n",
    "print(f\"This is {People_eligible / Number_Adult:.2%} of the adults\")\n",
    "\n",
    "#date_range(x)\n",
    "\n",
    "print(\"\\nTop 10 Dispositions: \\n\\n\", x.Disposition.value_counts(dropna=False)[0:10])"
   ]
  },
  {
   "cell_type": "markdown",
   "metadata": {},
   "source": [
    "### 2a - How many would be eligible if we only limited to only exclude sex-based offenses or murder?\n",
    "**Limiting to those with one incident**"
   ]
  },
  {
   "cell_type": "code",
   "execution_count": 85,
   "metadata": {},
   "outputs": [
    {
     "name": "stdout",
     "output_type": "stream",
     "text": [
      "There are 1776 people with charges eligible for expungement in the NW district of MA, if the person has a single incident in which all offenses are unrelated to sex or murder\n",
      "This is 62.23% of the juveniles\n",
      "1256 occured more than 3 years before 2020-09-01\n",
      "37 occured more than 7 years before 2020-09-01\n",
      "\n",
      "Top 10 Dispositions: \n",
      "\n",
      " Dismissed at Request of Comm      768\n",
      "c276s87 finding                   677\n",
      "Continued w/o Finding             470\n",
      "Nolle Prosequi                    444\n",
      "Not Responsible                   366\n",
      "Responsible                       249\n",
      "Dismissed Prior to Arraignment    197\n",
      "Dismissed                         150\n",
      "NaN                               147\n",
      "Dismissed on Payment               96\n",
      "Name: Disposition, dtype: int64\n"
     ]
    }
   ],
   "source": [
    "x = nw.loc[\n",
    "    (nw['Incidents'] == 1) &\n",
    "    (nw['Incident_Murder_Sex'] == 0) &\n",
    "    (~nw['Age at Offense'].isnull()) &\n",
    "    (nw['Age at Offense']<21) \n",
    "]\n",
    "\n",
    "People_eligible = x['Person ID'].nunique()\n",
    "\n",
    "print(\"There are\", People_eligible,\n",
    "      \"people with charges eligible for expungement in the NW district of MA, if the person has a single incident\" +\n",
    "      \" in which all offenses are unrelated to sex or murder\")\n",
    "print(f\"This is {People_eligible / Number_Juvenile:.2%} of the juveniles\")\n",
    "\n",
    "date_range(x)\n",
    "\n",
    "print(\"\\nTop 10 Dispositions: \\n\\n\", x.Disposition.value_counts(dropna=False)[0:10])"
   ]
  },
  {
   "cell_type": "code",
   "execution_count": 86,
   "metadata": {},
   "outputs": [
    {
     "name": "stdout",
     "output_type": "stream",
     "text": [
      "There are 2802 people with charges eligible for expungement in the NW district of MA, if the person has a *any* incident in which all offenses are unrelated to sex or murder\n",
      "This is 98.18% of the juveniles\n",
      "2222 occured more than 3 years before 2020-09-01\n",
      "72 occured more than 7 years before 2020-09-01\n",
      "\n",
      "Top 10 Dispositions: \n",
      "\n",
      " Dismissed at Request of Comm      1779\n",
      "Continued w/o Finding             1769\n",
      "c276s87 finding                   1301\n",
      "Nolle Prosequi                    1280\n",
      "Not Responsible                    759\n",
      "Responsible                        512\n",
      "Guilty                             470\n",
      "Dismissed                          336\n",
      "Dismissed Prior to Arraignment     278\n",
      "NaN                                267\n",
      "Name: Disposition, dtype: int64\n"
     ]
    }
   ],
   "source": [
    "x = nw.loc[\n",
    "    (nw['Incident_Murder_Sex'] == 0) &\n",
    "    (~nw['Age at Offense'].isnull()) &\n",
    "    (nw['Age at Offense']<21) \n",
    "]\n",
    "\n",
    "People_eligible = x['Person ID'].nunique()\n",
    "\n",
    "print(\"There are\", People_eligible,\n",
    "      \"people with charges eligible for expungement in the NW district of MA, if the person has a *any* incident\" +\n",
    "      \" in which all offenses are unrelated to sex or murder\")\n",
    "print(f\"This is {People_eligible / Number_Juvenile:.2%} of the juveniles\")\n",
    "\n",
    "date_range(x)\n",
    "\n",
    "print(\"\\nTop 10 Dispositions: \\n\\n\", x.Disposition.value_counts(dropna=False)[0:10])"
   ]
  },
  {
   "cell_type": "markdown",
   "metadata": {},
   "source": [
    "## Question 3: Verdict as Determiner"
   ]
  },
  {
   "cell_type": "markdown",
   "metadata": {},
   "source": [
    "**Question 3a** -  How many would be eligible based on who has not been found guilty (given current offenses that are eligible for expungement)?\n",
    "\n",
    "Defining 'guilty' as one of these dispositions: 'Guilty', 'Guilty Filed', 'Guilty on Lesser Included Offense', 'c276s87 finding', 'Agreed Plea', 'Delinquent'\n",
    "\n",
    "Need more work on this -- there are many dispositions that are null, and many others that indicate a case in process, transferred, etc, that would not indicate \"guilty\", but also would not indicate \"not guilty\""
   ]
  },
  {
   "cell_type": "code",
   "execution_count": 91,
   "metadata": {},
   "outputs": [],
   "source": [
    "# Guilty -- need more work here on which dispositions to include/excldue\n",
    "guilty_dispos = ['Guilty', 'Guilty Filed', 'Guilty on Lesser Included Offense', 'c276s87 finding', \n",
    "                 'Agreed Plea', 'Delinquent', 'Responsible']\n",
    "nw['guilty'] = nw['Disposition'].isin(guilty_dispos)\n",
    "nw.loc[nw.Disposition.isnull(), 'guilty'] = None \n",
    "nw['Incident_Guilty'] = nw.groupby(['Person ID', 'Offense Date'])['guilty'].transform('max')"
   ]
  },
  {
   "cell_type": "code",
   "execution_count": 94,
   "metadata": {},
   "outputs": [
    {
     "name": "stdout",
     "output_type": "stream",
     "text": [
      "There are 280 people with charges eligible for expungement in the NW district of MA, if the person has an expungeable offense and has a verdict other than guilty. Attempts counted as not expungeable\n",
      "207 occured more than 3 years before 2020-09-01\n",
      "9 occured more than 7 years before 2020-09-01\n"
     ]
    },
    {
     "data": {
      "text/plain": [
       "Dismissed at Request of Comm        96\n",
       "Nolle Prosequi                      50\n",
       "Dismissed Prior to Arraignment      42\n",
       "Dismissed                           32\n",
       "Dismissed on Payment                27\n",
       "Continued w/o Finding               26\n",
       "Charge Handled as a Civil Charge     3\n",
       "Dismissed by Court                   3\n",
       "Responsible Filed                    1\n",
       "Name: Disposition, dtype: int64"
      ]
     },
     "execution_count": 94,
     "metadata": {},
     "output_type": "execute_result"
    }
   ],
   "source": [
    "# Find how many people are eligble for expungement if they have a verdict other than guilty and their offense is \n",
    "# expungeable (Attempts not included)\n",
    "\n",
    "x = nw.loc[\n",
    "    (nw['num_offenses']==1) &\n",
    "    (nw['Expungeable'] == 'Yes') &\n",
    "    (nw['guilty'] == False) &\n",
    "    (~nw['Age at Offense'].isnull()) &\n",
    "    (nw['Age at Offense']<21) \n",
    "]\n",
    "\n",
    "People_eligible = x['Person ID'].nunique()\n",
    "\n",
    "print(\"There are\", People_eligible,\n",
    "      \"people with charges eligible for expungement in the NW district of MA, if the person has an expungeable \" +\n",
    "      \"offense and has a verdict other than guilty. Attempts counted as not expungeable\")\n",
    "\n",
    "date_range(x)\n",
    "\n",
    "x.Disposition.value_counts(dropna=False)"
   ]
  },
  {
   "cell_type": "markdown",
   "metadata": {},
   "source": [
    "Repeating the above, but using incidents rather than offenses. "
   ]
  },
  {
   "cell_type": "code",
   "execution_count": 95,
   "metadata": {},
   "outputs": [
    {
     "name": "stdout",
     "output_type": "stream",
     "text": [
      "There are 670 people with charges eligible for expungement in the NW district of MA, if the person has a single incident, where all charges are expungeable, and all charge have a disposition other than guilty. Attempts are considered not expungeable.\n",
      "477 occured more than 3 years before 2020-09-01\n",
      "21 occured more than 7 years before 2020-09-01\n"
     ]
    },
    {
     "data": {
      "text/plain": [
       "Dismissed at Request of Comm        407\n",
       "Nolle Prosequi                      217\n",
       "Continued w/o Finding               199\n",
       "Not Responsible                     171\n",
       "Dismissed Prior to Arraignment      156\n",
       "Dismissed                           107\n",
       "Dismissed on Payment                 84\n",
       "Dismissed by Court                   14\n",
       "Found Incompetent                     8\n",
       "DYS Committed                         5\n",
       "Charge Handled as a Civil Charge      4\n",
       "Responsible Filed                     3\n",
       "CLOSED-NO CHARGES                     3\n",
       "Dismissed prior to complaint          3\n",
       "Unagreed Plea                         1\n",
       "Delinquent Filed                      1\n",
       "Name: Disposition, dtype: int64"
      ]
     },
     "execution_count": 95,
     "metadata": {},
     "output_type": "execute_result"
    }
   ],
   "source": [
    "# Find how many people are eligble for expungement if they have a single incident, in which all the offenses are \n",
    "# expungeable, and none have a guilty verdict. Attempts are not included. \n",
    "\n",
    "x = nw.loc[\n",
    "    (nw['Incidents'] == 1) &\n",
    "    (nw['Inc_Expungeable_Attempts_Not'] == True) &\n",
    "    (nw['Incident_Guilty'] == False) &\n",
    "    (~nw['Age at Offense'].isnull()) &\n",
    "    (nw['Age at Offense']<21)\n",
    "]\n",
    "\n",
    "People_eligible = x['Person ID'].nunique()\n",
    "\n",
    "\n",
    "print(\"There are\", People_eligible,\n",
    "      \"people with charges eligible for expungement in the NW district of MA, if the person has a single\" +\n",
    "      \" incident, where all charges are expungeable, and all charge have a disposition other than guilty.\" +\n",
    "     \" Attempts are considered not expungeable.\")\n",
    "\n",
    "date_range(x)\n",
    "\n",
    "x.Disposition.value_counts(dropna=False)"
   ]
  },
  {
   "cell_type": "markdown",
   "metadata": {},
   "source": [
    "**Question 3b** -  How many would be eligible based on who has not been found guilty, except murder or sex offenses?\n"
   ]
  },
  {
   "cell_type": "code",
   "execution_count": 97,
   "metadata": {},
   "outputs": [
    {
     "name": "stdout",
     "output_type": "stream",
     "text": [
      "There are 1011 people with charges eligible for expungement in the NW district of MA, if the person has a single incident in which all the charges are unrelated to sex or murder and have a non-guilty verdict.\n",
      "730 occured more than 3 years before 2020-09-01\n",
      "25 occured more than 7 years before 2020-09-01\n"
     ]
    }
   ],
   "source": [
    "#Find out how many people would be eligible if they have a single incident, in which all the charges are unrelated to\n",
    "#sex or murder, and all charges have a disposition other than guilty. Attempts not included. \n",
    "\n",
    "x = nw.loc[\n",
    "    (nw['Incidents'] == 1) &\n",
    "    (nw['Incident_Guilty'] == False) &\n",
    "    (nw['Incident_Murder_Sex'] == False) &\n",
    "    (~nw['Age at Offense'].isnull()) &\n",
    "    (nw['Age at Offense']<21) \n",
    "]\n",
    "\n",
    "People_eligible = x['Person ID'].nunique()\n",
    "\n",
    "print(\"There are\", People_eligible,\n",
    "      \"people with charges eligible for expungement in the NW district of MA, if the person has a single incident\" +\n",
    "      \" in which all the charges are unrelated to sex or murder and have a non-guilty verdict.\")\n",
    "\n",
    "date_range(x)"
   ]
  },
  {
   "cell_type": "markdown",
   "metadata": {},
   "source": [
    "## Summary info\n",
    "Top 10 offenses etc"
   ]
  },
  {
   "cell_type": "code",
   "execution_count": 98,
   "metadata": {},
   "outputs": [
    {
     "data": {
      "text/plain": [
       "<matplotlib.axes._subplots.AxesSubplot at 0x2dc216ce220>"
      ]
     },
     "execution_count": 98,
     "metadata": {},
     "output_type": "execute_result"
    },
    {
     "data": {
      "image/png": "[encoded data removed]",
      "text/plain": [
       "<Figure size 432x288 with 1 Axes>"
      ]
     },
     "metadata": {
      "needs_background": "light"
     },
     "output_type": "display_data"
    }
   ],
   "source": [
    "# TOP TEN OVERALL OFFENSES\n",
    "overall_offenses = nw.groupby(['Charge'])['Charge'].count().reset_index(name='Total Offenses').sort_values(['Total Offenses'], ascending=False)\n",
    "overall_offenses.head(10).sort_values(['Total Offenses'], ascending=True).plot.barh(x='Charge', title='Top Ten Overall Offenses')"
   ]
  },
  {
   "cell_type": "code",
   "execution_count": 99,
   "metadata": {},
   "outputs": [
    {
     "data": {
      "text/plain": [
       "<matplotlib.axes._subplots.AxesSubplot at 0x2dc21e02190>"
      ]
     },
     "execution_count": 99,
     "metadata": {},
     "output_type": "execute_result"
    },
    {
     "data": {
      "image/png": "[encoded data removed]",
      "text/plain": [
       "<Figure size 432x288 with 1 Axes>"
      ]
     },
     "metadata": {
      "needs_background": "light"
     },
     "output_type": "display_data"
    }
   ],
   "source": [
    "# TOP TEN JUVENILE OFFENSES\n",
    "juvenile_offenses = nw[(~nw['Age at Offense'].isnull()) & (nw['Age at Offense']<21)].groupby(['Charge'])['Charge'].count().reset_index(name='Total Offenses').sort_values(['Total Offenses'], ascending=False)\n",
    "juvenile_offenses.head(10).sort_values(['Total Offenses'], ascending=True).plot.barh(x='Charge', title='Top Ten Overall Offenses')"
   ]
  },
  {
   "cell_type": "code",
   "execution_count": 100,
   "metadata": {},
   "outputs": [
    {
     "data": {
      "text/plain": [
       "<matplotlib.axes._subplots.AxesSubplot at 0x2dc24400670>"
      ]
     },
     "execution_count": 100,
     "metadata": {},
     "output_type": "execute_result"
    },
    {
     "data": {
      "image/png": "[encoded data removed]",
      "text/plain": [
       "<Figure size 432x288 with 1 Axes>"
      ]
     },
     "metadata": {
      "needs_background": "light"
     },
     "output_type": "display_data"
    }
   ],
   "source": [
    "# TOP TEN ADULT OFFENSES\n",
    "adult_offenses = nw[(~nw['Age at Offense'].isnull()) & (nw['Age at Offense']>=21)].groupby(['Charge'])['Charge'].count().reset_index(name='Total Offenses').sort_values(['Total Offenses'], ascending=False)\n",
    "adult_offenses.head(10).sort_values(['Total Offenses'], ascending=True).plot.barh(x='Charge', title='Top Ten Overall Offenses')"
   ]
  }
 ],
 "metadata": {
  "kernelspec": {
   "display_name": "Python 3",
   "language": "python",
   "name": "python3"
  },
  "language_info": {
   "codemirror_mode": {
    "name": "ipython",
    "version": 3
   },
   "file_extension": ".py",
   "mimetype": "text/x-python",
   "name": "python",
   "nbconvert_exporter": "python",
   "pygments_lexer": "ipython3",
   "version": "3.8.3"
  }
 },
 "nbformat": 4,
 "nbformat_minor": 4
}
