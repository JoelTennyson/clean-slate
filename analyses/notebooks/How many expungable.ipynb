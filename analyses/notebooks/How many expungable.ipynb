{
 "cells": [
  {
   "cell_type": "markdown",
   "metadata": {},
   "source": [
    "# Clean Slate: Estimating offenses eligible for expungement under varying conditions\n",
    "> Prepared by [Laura Feeney](https://github.com/laurafeeney) for Code for Boston's [Clean Slate project](https://github.com/codeforboston/clean-slate).\n",
    "\n",
    "## Purpose\n",
    "The purpose of this notebook is to get a list of all charges from both Northwestern and Suffolk data, then map expungement eligibility to each.\n",
    "\n",
    "The resulting datasets will be output as a separate .csv that can be save and shared in the Clean Slate GitHub repo.\n",
    "\n",
    "\n",
    "The purpose of this notebook is to join prosecution charges with expungability, and estimate the number of offenses which are eligible for expungement. This analysis will be run a number of times: under existing regulation, and under varying conditions allowing additional offenses to be expunged.\n",
    "\n",
    "The target questions, provided June 28, 2020: \n",
    "\n",
    "1. How many people (under age 21) are eligible for expungement today? This would be people with only **one charge** that is not part of the list of ineligible offenses (per section 100J). \n",
    "\n",
    "\n",
    "2. How many people (under age 21) would be eligible based on only having **one incident** (which could include multiple charges) that are not part of the list of ineligible offenses?\n",
    " - How many people (under age 21) would be eligible based on only having **one incident** if only sex-based offenses or murder were excluded from expungement?\n",
    " \n",
    "\n",
    "3. How many people (under age 21) would be eligible based on who has **not been found guilty** (given current offenses that are eligible for expungement)?\n",
    " - How many people (under age 21) would be eligible based on who has **not been found guilty** for all offenses except for murder or sex-based offenses?\n",
    "\n",
    "-----"
   ]
  },
  {
   "cell_type": "markdown",
   "metadata": {},
   "source": [
    "### Step 0\n",
    "Import data, programs, etc.\n",
    "\n",
    "-----"
   ]
  },
  {
   "cell_type": "code",
   "execution_count": 1,
   "metadata": {},
   "outputs": [],
   "source": [
    "import pandas as pd\n",
    "pd.set_option(\"display.max_rows\", 200)\n",
    "import numpy as np\n",
    "import regex as re\n",
    "import glob, os\n",
    "import datetime \n",
    "from datetime import date \n",
    "from collections import defaultdict, Counter"
   ]
  },
  {
   "cell_type": "code",
   "execution_count": 2,
   "metadata": {},
   "outputs": [
    {
     "data": {
      "text/plain": [
       "Yes              55052\n",
       "No               20013\n",
       "NotApplicable      439\n",
       "Attempt            220\n",
       "NaN                  1\n",
       "Name: Expungeable, dtype: int64"
      ]
     },
     "execution_count": 2,
     "metadata": {},
     "output_type": "execute_result"
    }
   ],
   "source": [
    "# processed individual-level data from NW district with expungability.\n",
    "\n",
    "nw = pd.read_csv('../../data/processed/merged_nw.csv', encoding='cp1252',\n",
    "                    dtype={'Analysis notes':str, 'extra_criteria':str, 'Expungeable': str}) \n",
    "#nw.head()\n",
    "nw['Expungeable'].value_counts(dropna=False)\n",
    "\n",
    "#nw.loc[nw['Person ID']==\"NW-12460\", ['CMRoffense']] = \"no\""
   ]
  },
  {
   "cell_type": "markdown",
   "metadata": {},
   "source": [
    "## Step 1\n",
    "Add a few additional variables needed, look at summary stats\n",
    "\n",
    "There are many offenses that are violations of the Code of Massachusetts Regulations (CMR) rather than a criminal offense. These include things like some driving or boating infractions (e.g., not having headlights on), or not having a hunting/fishing license. It's not clear whether these should be included at all. We'll run the analysis first including them at all stages, and then excluding them at all stages. "
   ]
  },
  {
   "cell_type": "code",
   "execution_count": 3,
   "metadata": {},
   "outputs": [
    {
     "data": {
      "text/plain": [
       "19753"
      ]
     },
     "execution_count": 3,
     "metadata": {},
     "output_type": "execute_result"
    }
   ],
   "source": [
    "### number of unique people\n",
    "nw['Person ID'].nunique()"
   ]
  },
  {
   "cell_type": "code",
   "execution_count": 4,
   "metadata": {},
   "outputs": [
    {
     "name": "stdout",
     "output_type": "stream",
     "text": [
      "The earliest offense date is 1750-12-03\n",
      "The max offense date is 2018-12-30 \n",
      "\n",
      "count    74915.000000\n",
      "mean         4.460396\n",
      "std          2.798864\n",
      "min          1.673973\n",
      "25%          3.060274\n",
      "50%          4.328767\n",
      "75%          5.638356\n",
      "max        269.926027\n",
      "Name: years_since_offense, dtype: float64\n",
      "\n",
      " There are a tail of dates that are probably wrong, but age is missing for most, and the most egregious:\n"
     ]
    },
    {
     "data": {
      "text/html": [
       "<div>\n",
       "<style scoped>\n",
       "    .dataframe tbody tr th:only-of-type {\n",
       "        vertical-align: middle;\n",
       "    }\n",
       "\n",
       "    .dataframe tbody tr th {\n",
       "        vertical-align: top;\n",
       "    }\n",
       "\n",
       "    .dataframe thead th {\n",
       "        text-align: right;\n",
       "    }\n",
       "</style>\n",
       "<table border=\"1\" class=\"dataframe\">\n",
       "  <thead>\n",
       "    <tr style=\"text-align: right;\">\n",
       "      <th></th>\n",
       "      <th>Offense Date</th>\n",
       "      <th>Age at Offense</th>\n",
       "      <th>years_since_offense</th>\n",
       "    </tr>\n",
       "  </thead>\n",
       "  <tbody>\n",
       "    <tr>\n",
       "      <th>2293</th>\n",
       "      <td>1882-11-30</td>\n",
       "      <td>NaN</td>\n",
       "      <td>137.846575</td>\n",
       "    </tr>\n",
       "    <tr>\n",
       "      <th>2294</th>\n",
       "      <td>1882-11-30</td>\n",
       "      <td>NaN</td>\n",
       "      <td>137.846575</td>\n",
       "    </tr>\n",
       "    <tr>\n",
       "      <th>2295</th>\n",
       "      <td>1882-11-30</td>\n",
       "      <td>NaN</td>\n",
       "      <td>137.846575</td>\n",
       "    </tr>\n",
       "    <tr>\n",
       "      <th>43250</th>\n",
       "      <td>1975-06-30</td>\n",
       "      <td>NaN</td>\n",
       "      <td>45.205479</td>\n",
       "    </tr>\n",
       "    <tr>\n",
       "      <th>54403</th>\n",
       "      <td>1961-05-14</td>\n",
       "      <td>NaN</td>\n",
       "      <td>59.342466</td>\n",
       "    </tr>\n",
       "    <tr>\n",
       "      <th>56406</th>\n",
       "      <td>1750-12-03</td>\n",
       "      <td>NaN</td>\n",
       "      <td>269.926027</td>\n",
       "    </tr>\n",
       "    <tr>\n",
       "      <th>56407</th>\n",
       "      <td>1750-12-03</td>\n",
       "      <td>NaN</td>\n",
       "      <td>269.926027</td>\n",
       "    </tr>\n",
       "    <tr>\n",
       "      <th>60782</th>\n",
       "      <td>1975-08-01</td>\n",
       "      <td>28.0</td>\n",
       "      <td>45.117808</td>\n",
       "    </tr>\n",
       "    <tr>\n",
       "      <th>60783</th>\n",
       "      <td>1975-08-01</td>\n",
       "      <td>28.0</td>\n",
       "      <td>45.117808</td>\n",
       "    </tr>\n",
       "    <tr>\n",
       "      <th>60784</th>\n",
       "      <td>1975-08-01</td>\n",
       "      <td>28.0</td>\n",
       "      <td>45.117808</td>\n",
       "    </tr>\n",
       "    <tr>\n",
       "      <th>60785</th>\n",
       "      <td>1975-08-01</td>\n",
       "      <td>28.0</td>\n",
       "      <td>45.117808</td>\n",
       "    </tr>\n",
       "    <tr>\n",
       "      <th>61692</th>\n",
       "      <td>1955-01-05</td>\n",
       "      <td>NaN</td>\n",
       "      <td>65.701370</td>\n",
       "    </tr>\n",
       "    <tr>\n",
       "      <th>61693</th>\n",
       "      <td>1955-01-05</td>\n",
       "      <td>NaN</td>\n",
       "      <td>65.701370</td>\n",
       "    </tr>\n",
       "    <tr>\n",
       "      <th>61825</th>\n",
       "      <td>1918-11-28</td>\n",
       "      <td>NaN</td>\n",
       "      <td>101.830137</td>\n",
       "    </tr>\n",
       "    <tr>\n",
       "      <th>61826</th>\n",
       "      <td>1918-11-28</td>\n",
       "      <td>NaN</td>\n",
       "      <td>101.830137</td>\n",
       "    </tr>\n",
       "    <tr>\n",
       "      <th>68186</th>\n",
       "      <td>1981-02-11</td>\n",
       "      <td>NaN</td>\n",
       "      <td>39.580822</td>\n",
       "    </tr>\n",
       "    <tr>\n",
       "      <th>68187</th>\n",
       "      <td>1981-02-11</td>\n",
       "      <td>NaN</td>\n",
       "      <td>39.580822</td>\n",
       "    </tr>\n",
       "    <tr>\n",
       "      <th>68188</th>\n",
       "      <td>1981-02-11</td>\n",
       "      <td>NaN</td>\n",
       "      <td>39.580822</td>\n",
       "    </tr>\n",
       "    <tr>\n",
       "      <th>68189</th>\n",
       "      <td>1981-02-11</td>\n",
       "      <td>NaN</td>\n",
       "      <td>39.580822</td>\n",
       "    </tr>\n",
       "    <tr>\n",
       "      <th>68190</th>\n",
       "      <td>1981-02-11</td>\n",
       "      <td>NaN</td>\n",
       "      <td>39.580822</td>\n",
       "    </tr>\n",
       "    <tr>\n",
       "      <th>68771</th>\n",
       "      <td>1979-08-20</td>\n",
       "      <td>NaN</td>\n",
       "      <td>41.063014</td>\n",
       "    </tr>\n",
       "    <tr>\n",
       "      <th>68772</th>\n",
       "      <td>1979-08-20</td>\n",
       "      <td>NaN</td>\n",
       "      <td>41.063014</td>\n",
       "    </tr>\n",
       "  </tbody>\n",
       "</table>\n",
       "</div>"
      ],
      "text/plain": [
       "      Offense Date  Age at Offense  years_since_offense\n",
       "2293    1882-11-30             NaN           137.846575\n",
       "2294    1882-11-30             NaN           137.846575\n",
       "2295    1882-11-30             NaN           137.846575\n",
       "43250   1975-06-30             NaN            45.205479\n",
       "54403   1961-05-14             NaN            59.342466\n",
       "56406   1750-12-03             NaN           269.926027\n",
       "56407   1750-12-03             NaN           269.926027\n",
       "60782   1975-08-01            28.0            45.117808\n",
       "60783   1975-08-01            28.0            45.117808\n",
       "60784   1975-08-01            28.0            45.117808\n",
       "60785   1975-08-01            28.0            45.117808\n",
       "61692   1955-01-05             NaN            65.701370\n",
       "61693   1955-01-05             NaN            65.701370\n",
       "61825   1918-11-28             NaN           101.830137\n",
       "61826   1918-11-28             NaN           101.830137\n",
       "68186   1981-02-11             NaN            39.580822\n",
       "68187   1981-02-11             NaN            39.580822\n",
       "68188   1981-02-11             NaN            39.580822\n",
       "68189   1981-02-11             NaN            39.580822\n",
       "68190   1981-02-11             NaN            39.580822\n",
       "68771   1979-08-20             NaN            41.063014\n",
       "68772   1979-08-20             NaN            41.063014"
      ]
     },
     "execution_count": 4,
     "metadata": {},
     "output_type": "execute_result"
    }
   ],
   "source": [
    "### dates ###\n",
    "\n",
    "reference_date = datetime.date(2020, 9, 1) # using \"today.date() wouldn't be stable\"\n",
    "\n",
    "nw['Offense Date'] = pd.to_datetime(nw['Offense Date']).dt.date\n",
    "nw['years_since_offense'] = (reference_date - nw['Offense Date'])/pd.Timedelta(1, 'D')/365\n",
    "\n",
    "nw[nw['Offense Date']<datetime.date(1950, 1, 1)]\n",
    "\n",
    "print(\"The earliest offense date is\", min(nw['Offense Date']))\n",
    "print(\"The max offense date is\", max(nw['Offense Date']), \"\\n\")\n",
    "\n",
    "print(nw['years_since_offense'].describe())\n",
    "\n",
    "print(\"\\n There are a tail of dates that are probably wrong, but age is missing for most, and the most egregious:\")\n",
    "nw[nw['years_since_offense'] > nw['years_since_offense'].quantile(.9997)][[\n",
    "    'Offense Date', 'Age at Offense', 'years_since_offense']]"
   ]
  },
  {
   "cell_type": "code",
   "execution_count": 5,
   "metadata": {},
   "outputs": [
    {
     "name": "stdout",
     "output_type": "stream",
     "text": [
      "There are 75725 total offenses including CMR.\n",
      "After we drop CMR, there are 75285 total offenses.\n"
     ]
    }
   ],
   "source": [
    "#Manipulating the dataframe to 1. Drop all CMR offenses 2. Drop CMR-related columns\n",
    "\n",
    "print(f'There are {nw.shape[0]} total offenses including CMR.')\n",
    "\n",
    "nw = nw.loc[nw['CMRoffense'] == 'no']\n",
    "nw = nw.drop(columns = ['CMRoffense'])\n",
    "\n",
    "print(f'After we drop CMR, there are {nw.shape[0]} total offenses.')\n",
    "\n"
   ]
  },
  {
   "cell_type": "code",
   "execution_count": 6,
   "metadata": {},
   "outputs": [
    {
     "name": "stdout",
     "output_type": "stream",
     "text": [
      "count    75285.000000\n",
      "mean        10.075752\n",
      "std         18.230430\n",
      "min          1.000000\n",
      "25%          3.000000\n",
      "50%          5.000000\n",
      "75%         11.000000\n",
      "max        202.000000\n",
      "Name: num_offenses, dtype: float64\n"
     ]
    }
   ],
   "source": [
    "# distribution of # of charges\n",
    "\n",
    "nw['num_offenses']=nw.groupby('Person ID')['Person ID'].transform('count')\n",
    "print(nw['num_offenses'].describe())\n",
    "\n",
    "#nw.loc[nw['num_offenses']<30].hist(column='num_offenses', bins=15)"
   ]
  },
  {
   "cell_type": "code",
   "execution_count": 7,
   "metadata": {},
   "outputs": [
    {
     "name": "stdout",
     "output_type": "stream",
     "text": [
      "# People with only 1 offense 5026\n"
     ]
    }
   ],
   "source": [
    "a = nw[nw['num_offenses']==1]['Person ID'].nunique()\n",
    "\n",
    "#print(a, b, c, d, e)\n",
    "print(\"# People with only 1 offense\", a)"
   ]
  },
  {
   "cell_type": "code",
   "execution_count": 8,
   "metadata": {},
   "outputs": [
    {
     "name": "stdout",
     "output_type": "stream",
     "text": [
      "Yes        55052\n",
      "No         20013\n",
      "Attempt      220\n",
      "Name: Expungeable, dtype: int64\n"
     ]
    }
   ],
   "source": [
    "print(nw['Expungeable'].value_counts())"
   ]
  },
  {
   "cell_type": "markdown",
   "metadata": {},
   "source": [
    "## Question 1\n",
    "- How many people are eligible for expungement today? \n",
    "    - ---> *Only one charge*, Offense committed before 21st birthday, charge is not part of the list of ineligible offenses (per section 100J), charge is in the correct timeframe from today's date\n",
    "\n",
    "We don't have misdemeanor / felony info, so will show the # that are more than 3 or more than 7 years from today.\n",
    "\n",
    "----"
   ]
  },
  {
   "cell_type": "code",
   "execution_count": 9,
   "metadata": {},
   "outputs": [
    {
     "name": "stdout",
     "output_type": "stream",
     "text": [
      "Before filtering on age, there are 3533 eligible.\n"
     ]
    }
   ],
   "source": [
    "eligible_all_ages = nw.loc[\n",
    "    (nw['num_offenses']==1) &\n",
    "    (nw['Expungeable'] != 'No') &\n",
    "    (~nw['Age at Offense'].isnull())\n",
    "]['Person ID'].nunique()\n",
    "\n",
    "print(\"Before filtering on age, there are\", eligible_all_ages, \"eligible.\")"
   ]
  },
  {
   "cell_type": "code",
   "execution_count": 10,
   "metadata": {},
   "outputs": [
    {
     "name": "stdout",
     "output_type": "stream",
     "text": [
      "There are 525 people with charges eligible for expungement in the NW district of MA. and we include 'attempts' as expungeable.\n",
      "Of these, 373 occured more than 3 years before 2020-09-01\n",
      "Of these, 10 occured more than 7 years before 2020-09-01\n"
     ]
    }
   ],
   "source": [
    "x = nw.loc[\n",
    "    (nw['num_offenses']==1) &\n",
    "    (nw['Expungeable'] != 'No') &\n",
    "    (~nw['Age at Offense'].isnull()) &\n",
    "    (nw['Age at Offense']<21)\n",
    "]\n",
    "\n",
    "People_eligible = x['Person ID'].nunique()\n",
    "\n",
    "greater3 = x.loc[\n",
    "    (x['years_since_offense'] > 3)\n",
    "]['Person ID'].nunique()\n",
    "\n",
    "greater7 = x.loc[\n",
    "    (x['years_since_offense'] > 7)\n",
    "]['Person ID'].nunique()\n",
    "\n",
    "print(\"There are\", People_eligible,\n",
    "      \"people with charges eligible for expungement in the NW district of MA.\",\n",
    "      \"and we include 'attempts' as expungeable.\")\n",
    "print(\"Of these,\", greater3, \"occured more than 3 years before\", reference_date)\n",
    "print(\"Of these,\", greater7, \"occured more than 7 years before\", reference_date)"
   ]
  },
  {
   "cell_type": "code",
   "execution_count": 11,
   "metadata": {},
   "outputs": [
    {
     "name": "stdout",
     "output_type": "stream",
     "text": [
      "There are 523 people with charges eligible for expungement in the NW district of MA, and we assume all 'attempts' are not expungeable.\n",
      "Of these, 371 occured more than 3 years before 2020-09-01\n",
      "Of these, 10 occured more than 7 years before 2020-09-01\n"
     ]
    }
   ],
   "source": [
    "x = nw.loc[\n",
    "    (nw['num_offenses']==1) &\n",
    "    (nw['Expungeable'] == 'Yes') &\n",
    "    (~nw['Age at Offense'].isnull()) &\n",
    "    (nw['Age at Offense']<21) \n",
    "]\n",
    "\n",
    "People_eligible = x['Person ID'].nunique()\n",
    "\n",
    "greater3 = x.loc[\n",
    "    (x['years_since_offense'] > 3)\n",
    "]['Person ID'].nunique()\n",
    "\n",
    "greater7 = x.loc[\n",
    "    (x['years_since_offense'] > 7)\n",
    "]['Person ID'].nunique()\n",
    "\n",
    "print(\"There are\", People_eligible,\n",
    "      \"people with charges eligible for expungement in the NW district of MA, and we assume all 'attempts' are not expungeable.\")\n",
    "print(\"Of these,\", greater3, \"occured more than 3 years before\", reference_date)\n",
    "print(\"Of these,\", greater7, \"occured more than 7 years before\", reference_date)"
   ]
  },
  {
   "cell_type": "markdown",
   "metadata": {},
   "source": [
    "## Question 2: incidents rather than offenses"
   ]
  },
  {
   "cell_type": "markdown",
   "metadata": {},
   "source": [
    "Luke Schissler\n",
    "\n",
    "**Question 2a** - If we only change the number of offenses, how many are eligible based on only having one incident (that does not include an ineligible offense)? \n",
    "\n",
    "Making the assumption based on the 06/26/20 meeting notes that an 'one incident' is defined as the sum of all charges for an individual on a single day. In theory, someone could probably be charged in two separate instances on a single day, but this is likely rare. \n",
    "\n",
    "Another question is whether a single non-expungeable offense under the bundle of the incidence makes the entire incidence non-expungeable. For this analysis, I am proceeding with the assumption that one non-expungeable incident in the batch makes the entire thing non-expungeable."
   ]
  },
  {
   "cell_type": "code",
   "execution_count": 34,
   "metadata": {},
   "outputs": [],
   "source": [
    "incidents = nw.groupby('Person ID')['Offense Date'].nunique()\n",
    "\n",
    "#If an offense is not expungeable, or an attempt, mark corresponding incident as unexpungeable \n",
    "def generate_incident_hash(dic):\n",
    "    for index, row in nw.iterrows():\n",
    "        if row['Expungeable'] in ['No', 'Attempt']:\n",
    "            dic[(row['Person ID'], row[\"Offense Date\"])] = 'No'\n",
    "    return dic\n",
    "\n",
    "\n",
    "#If an offense is not expungeable, mark corresponding incident as unexpungeable \n",
    "def generate_attempt_incident_hash(dic):\n",
    "    for index, row in nw.iterrows():\n",
    "        if row['Expungeable'] == 'No':\n",
    "            dic[(row['Person ID'], row['Offense Date'])] ='No'\n",
    "    return dic\n",
    "\n",
    "#If any offense is related to murder or sex, mark that incident as unexpungeable\n",
    "def generate_murder_sex_hash(dic):\n",
    "    for index, row in nw.iterrows():\n",
    "        if row['murder'] == 1 or row['sex'] == 1:\n",
    "            dic[(row['Person ID'], row['Offense Date'])] = 1\n",
    "    return dic\n",
    "\n",
    "#If any offense in an incident has a guilty, mark that incident as unexpungeable \n",
    "def generate_guilty_hash(dic):\n",
    "    for index, row in nw.iterrows():\n",
    "        if row['Disposition'] in ['Guilty', 'Guilty Filed', 'Guilty on Lesser Included Offense', '']:\n",
    "            dic[(row['Person ID'], row['Offense Date'])] = 'Guilty'\n",
    "    return dic\n",
    "\n",
    "incident_dict = generate_incident_hash({})\n",
    "incident_dict_attempt = generate_attempt_incident_hash({})\n",
    "murder_sex_dict = generate_murder_sex_hash({})\n",
    "guilty_dic = generate_guilty_hash({})\n",
    "\n",
    "def find_inc(per_id):\n",
    "    return incidents[per_id]\n",
    "\n",
    "nw['Incidents'] = np.vectorize(find_inc)(nw['Person ID']) #Incidents column is number of unique offense dates per Person\n",
    "nw['Incident Expungeable'] = np.vectorize(lambda x, y : incident_dict.get((x, y), 'Yes'))(nw['Person ID'], nw['Offense Date'])\n",
    "nw['Incident Attempt Expungeable'] = np.vectorize(lambda x, y : incident_dict_attempt.get((x, y), 'Yes'))(nw['Person ID'], nw['Offense Date'])\n",
    "nw['Incident Murder/Sex'] = np.vectorize(lambda x, y : murder_sex_dict.get((x, y), 0))(nw['Person ID'], nw['Offense Date'])\n",
    "nw['Incident Guilty'] = np.vectorize(lambda x, y : guilty_dic.get((x, y), 'Not Guilty'))(nw['Person ID'], nw['Offense Date'])"
   ]
  },
  {
   "cell_type": "code",
   "execution_count": 44,
   "metadata": {},
   "outputs": [
    {
     "name": "stdout",
     "output_type": "stream",
     "text": [
      "There are 1191 people with charges eligible for expungement in the NW district of MA, if the person has a single incident in which all the offenses are expungeable if we consider attempts to be unexpungeable.\n",
      "Of these, 826 occured more than 3 years before 2020-09-01\n",
      "Of these, 21 occured more than 7 years before 2020-09-01\n"
     ]
    }
   ],
   "source": [
    "# Find how many people whose offenses fall into a single incident, where all the offenses are expungeable \n",
    "# (Not including attempts). \n",
    "\n",
    "x = nw.loc[\n",
    "    (nw['Incidents'] == 1) &\n",
    "    (nw['Incident Expungeable'] == 'Yes') &\n",
    "    (~nw['Age at Offense'].isnull()) &\n",
    "    (nw['Age at Offense']<21) \n",
    "]\n",
    "\n",
    "People_eligible = x['Person ID'].nunique()\n",
    "\n",
    "greater3 = x.loc[\n",
    "    (x['years_since_offense'] > 3)\n",
    "]['Person ID'].nunique()\n",
    "\n",
    "greater7 = x.loc[\n",
    "    (x['years_since_offense'] > 7)\n",
    "]['Person ID'].nunique()\n",
    "\n",
    "print(\"There are\", People_eligible,\n",
    "      \"people with charges eligible for expungement in the NW district of MA, if the person has a single incident\" +\n",
    "      \" in which all the offenses are expungeable\" + \n",
    "     \" if we consider attempts to be unexpungeable.\")\n",
    "print(\"Of these,\", greater3, \"occured more than 3 years before\", reference_date)\n",
    "print(\"Of these,\", greater7, \"occured more than 7 years before\", reference_date)\n",
    "\n",
    "#print(x.sample(n=5)) # grab a random sample to verify"
   ]
  },
  {
   "cell_type": "code",
   "execution_count": 45,
   "metadata": {},
   "outputs": [
    {
     "name": "stdout",
     "output_type": "stream",
     "text": [
      "There are 1198 people with charges eligible for expungement in the NW district of MA, if the person has a single incident, in which all the offenses are expungeable and attempts are considered expungeable.\n",
      "Of these, 832 occured more than 3 years before 2020-09-01\n",
      "Of these, 21 occured more than 7 years before 2020-09-01\n",
      "\n",
      "\n"
     ]
    }
   ],
   "source": [
    "# Find how many people whose offenses fall into a single incident, where all the offenses are expungeable \n",
    "# (Including Attempts). \n",
    "\n",
    "x = nw.loc[\n",
    "    (nw['Incidents'] == 1) &\n",
    "    (nw['Incident Attempt Expungeable'] == 'Yes') &\n",
    "    (~nw['Age at Offense'].isnull()) &\n",
    "    (nw['Age at Offense']<21) \n",
    "]\n",
    "\n",
    "People_eligible = x['Person ID'].nunique()\n",
    "\n",
    "greater3 = x.loc[\n",
    "    (x['years_since_offense'] > 3)\n",
    "]['Person ID'].nunique()\n",
    "\n",
    "greater7 = x.loc[\n",
    "    (x['years_since_offense'] > 7)\n",
    "]['Person ID'].nunique()\n",
    "\n",
    "print(\"There are\", People_eligible,\n",
    "      \"people with charges eligible for expungement in the NW district of MA, if the person has a single incident,\" +\n",
    "      \" in which all the offenses are expungeable and attempts are considered expungeable.\")\n",
    "print(\"Of these,\", greater3, \"occured more than 3 years before\", reference_date)\n",
    "print(\"Of these,\", greater7, \"occured more than 7 years before\", reference_date)\n",
    "\n",
    "print(\"\\n\")\n",
    "#print(x.sample(n=3)) # grab a random sample to verify"
   ]
  },
  {
   "cell_type": "markdown",
   "metadata": {},
   "source": [
    "**Question 2b** -  How many would be eligible if we only limited to only exclude sex-based offenses or murder?\n",
    "\n",
    "Assuming here we are not limiting based on expungability, but only on if the person has 1 incident, it is related to neither murder nor sex, and the person is under 21. "
   ]
  },
  {
   "cell_type": "code",
   "execution_count": 46,
   "metadata": {},
   "outputs": [
    {
     "name": "stdout",
     "output_type": "stream",
     "text": [
      "There are 2750 people with charges eligible for expungement in the NW district of MA, if the person has charges unrelated to murder or sex.\n",
      "Of these, 2189 occured more than 3 years before 2020-09-01\n",
      "Of these, 67 occured more than 7 years before 2020-09-01\n",
      "\n",
      "\n"
     ]
    }
   ],
   "source": [
    "x = nw.loc[\n",
    "    (nw['murder'] == 0) &\n",
    "    (nw['sex'] == 0) &\n",
    "    (~nw['Age at Offense'].isnull()) &\n",
    "    (nw['Age at Offense']<21) \n",
    "]\n",
    "\n",
    "People_eligible = x['Person ID'].nunique()\n",
    "\n",
    "greater3 = x.loc[\n",
    "    (x['years_since_offense'] > 3)\n",
    "]['Person ID'].nunique()\n",
    "\n",
    "greater7 = x.loc[\n",
    "    (x['years_since_offense'] > 7)\n",
    "]['Person ID'].nunique()\n",
    "\n",
    "print(\"There are\", People_eligible,\n",
    "      \"people with charges eligible for expungement in the NW district of MA, if the person has charges unrelated to\" +\n",
    "      \" murder or sex.\")\n",
    "print(\"Of these,\", greater3, \"occured more than 3 years before\", reference_date)\n",
    "print(\"Of these,\", greater7, \"occured more than 7 years before\", reference_date)\n",
    "\n",
    "print(\"\\n\")\n",
    "#print(x.sample(n=3)) # grab a random sample to verify"
   ]
  },
  {
   "cell_type": "code",
   "execution_count": 85,
   "metadata": {},
   "outputs": [
    {
     "name": "stdout",
     "output_type": "stream",
     "text": [
      "There are 1704 people with charges eligible for expungement in the NW district of MA, if the person has a single incidentin which all offenses are unrelated to sex or murder\n",
      "Of these, 1204 occured more than 3 years before 2020-09-01\n",
      "Of these, 29 occured more than 7 years before 2020-09-01\n",
      "\n",
      "\n"
     ]
    }
   ],
   "source": [
    "x = nw.loc[\n",
    "    (nw['Incidents'] == 1) &\n",
    "    (nw['Incident Murder/Sex'] == 0) &\n",
    "    (~nw['Age at Offense'].isnull()) &\n",
    "    (nw['Age at Offense']<21) \n",
    "]\n",
    "\n",
    "People_eligible = x['Person ID'].nunique()\n",
    "\n",
    "greater3 = x.loc[\n",
    "    (x['years_since_offense'] > 3)\n",
    "]['Person ID'].nunique()\n",
    "\n",
    "greater7 = x.loc[\n",
    "    (x['years_since_offense'] > 7)\n",
    "]['Person ID'].nunique()\n",
    "\n",
    "print(\"There are\", People_eligible,\n",
    "      \"people with charges eligible for expungement in the NW district of MA, if the person has a single incident\" +\n",
    "      \"in which all offenses are unrelated to sex or murder\")\n",
    "print(\"Of these,\", greater3, \"occured more than 3 years before\", reference_date)\n",
    "print(\"Of these,\", greater7, \"occured more than 7 years before\", reference_date)\n",
    "\n",
    "print(\"\\n\")\n",
    "#print(x.sample(n=3)) # grab a random sample to verify"
   ]
  },
  {
   "cell_type": "markdown",
   "metadata": {},
   "source": [
    "## Question 3: Verdict as Determiner"
   ]
  },
  {
   "cell_type": "markdown",
   "metadata": {},
   "source": [
    "**Question 3a** -  How many would be eligible based on who has not been found guilty (given current offenses that are eligible for expungement)?\n",
    "\n",
    "Defining 'guilty' as one of these three dispositions: Guilty, Guilty Filed, Guilty on Lesser Included Offense"
   ]
  },
  {
   "cell_type": "code",
   "execution_count": 28,
   "metadata": {},
   "outputs": [
    {
     "name": "stdout",
     "output_type": "stream",
     "text": [
      "There are 2333 people with charges eligible for expungement in the NW district of MA, if the person has an expungeable offense and has a verdict other than guilty.\n",
      "Of these, 1822 occured more than 3 years before 2020-09-01\n",
      "Of these, 38 occured more than 7 years before 2020-09-01\n",
      "\n",
      "\n"
     ]
    }
   ],
   "source": [
    "# Find how many people are eligble for expungement if they have a verdict other than guilty and their offense is \n",
    "# expungeable (Attempts not included)\n",
    "\n",
    "x = nw.loc[\n",
    "    (nw['Expungeable'] == 'Yes') &\n",
    "    (~nw['Disposition'].isnull()) &\n",
    "    (nw['Disposition'] != 'Guilty') &\n",
    "    (nw['Disposition'] != 'Guilty Filed') &\n",
    "    (nw['Disposition'] != 'Guilty on Lesser Included Offense') &\n",
    "    (~nw['Age at Offense'].isnull()) &\n",
    "    (nw['Age at Offense']<21) \n",
    "]\n",
    "\n",
    "People_eligible = x['Person ID'].nunique()\n",
    "\n",
    "greater3 = x.loc[\n",
    "    (x['years_since_offense'] > 3)\n",
    "]['Person ID'].nunique()\n",
    "\n",
    "greater7 = x.loc[\n",
    "    (x['years_since_offense'] > 7)\n",
    "]['Person ID'].nunique()\n",
    "\n",
    "print(\"There are\", People_eligible,\n",
    "      \"people with charges eligible for expungement in the NW district of MA, if the person has an expungeable\" +\n",
    "      \"offense and has a verdict other than guilty.\")\n",
    "print(\"Of these,\", greater3, \"occured more than 3 years before\", reference_date)\n",
    "print(\"Of these,\", greater7, \"occured more than 7 years before\", reference_date)\n",
    "\n",
    "print(\"\\n\")\n",
    "#print(x.sample(n=3)) # grab a random sample to verify"
   ]
  },
  {
   "cell_type": "code",
   "execution_count": 32,
   "metadata": {},
   "outputs": [
    {
     "name": "stdout",
     "output_type": "stream",
     "text": [
      "There are 2336 people with charges eligible for expungement in the NW district of MA, if the person has an expungeable offense (including CMR) and has a verdict other than guilty.\n",
      "Of these, 1825 occured more than 3 years before 2020-09-01\n",
      "Of these, 38 occured more than 7 years before 2020-09-01\n",
      "\n",
      "\n"
     ]
    }
   ],
   "source": [
    "# Find how many people are eligble for expungement if they have a verdict other than guilty and their offense is \n",
    "# expungeable (Attempts included)\n",
    "\n",
    "x = nw.loc[\n",
    "    (nw['Expungeable'] != 'No') &\n",
    "    (~nw['Disposition'].isnull()) &\n",
    "    (nw['Disposition'] != 'Guilty') &\n",
    "    (nw['Disposition'] != 'Guilty Filed') &\n",
    "    (nw['Disposition'] != 'Guilty on Lesser Included Offense') &\n",
    "    (~nw['Age at Offense'].isnull()) &\n",
    "    (nw['Age at Offense']<21) \n",
    "]\n",
    "\n",
    "People_eligible = x['Person ID'].nunique()\n",
    "\n",
    "greater3 = x.loc[\n",
    "    (x['years_since_offense'] > 3)\n",
    "]['Person ID'].nunique()\n",
    "\n",
    "greater7 = x.loc[\n",
    "    (x['years_since_offense'] > 7)\n",
    "]['Person ID'].nunique()\n",
    "\n",
    "print(\"There are\", People_eligible,\n",
    "      \"people with charges eligible for expungement in the NW district of MA, if the person has an expungeable\" + \n",
    "      \"offense and has a verdict other than guilty.  Attempts considered expungeable.\")\n",
    "print(\"Of these,\", greater3, \"occured more than 3 years before\", reference_date)\n",
    "print(\"Of these,\", greater7, \"occured more than 7 years before\", reference_date)\n",
    "\n",
    "print(\"\\n\")\n",
    "#print(x.sample(n=3)) # grab a random sample to verify"
   ]
  },
  {
   "cell_type": "code",
   "execution_count": 37,
   "metadata": {},
   "outputs": [
    {
     "name": "stdout",
     "output_type": "stream",
     "text": [
      "There are 1174 people with charges eligible for expungement in the NW district of MA, if the person has a singleincident, where all charges are expungeable, and all charge have a disposition other than guilty.\n",
      "Of these, 814 occured more than 3 years before 2020-09-01\n",
      "Of these, 21 occured more than 7 years before 2020-09-01\n",
      "\n",
      "\n"
     ]
    }
   ],
   "source": [
    "# Find how many people are eligble for expungement if they have a single incident, in which all the offenses are \n",
    "# expungeable, and none have a guilty verdict. Attempts are not included. \n",
    "\n",
    "x = nw.loc[\n",
    "    (nw['Incidents'] == 1) &\n",
    "    (nw['Incident Expungeable'] == 'Yes') &\n",
    "    (nw['Incident Guilty'] == 'Not Guilty') &\n",
    "    (~nw['Age at Offense'].isnull()) &\n",
    "    (nw['Age at Offense']<21)\n",
    "]\n",
    "\n",
    "People_eligible = x['Person ID'].nunique()\n",
    "\n",
    "greater3 = x.loc[\n",
    "    (x['years_since_offense'] > 3)\n",
    "]['Person ID'].nunique()\n",
    "\n",
    "greater7 = x.loc[\n",
    "    (x['years_since_offense'] > 7)\n",
    "]['Person ID'].nunique()\n",
    "\n",
    "print(\"There are\", People_eligible,\n",
    "      \"people with charges eligible for expungement in the NW district of MA, if the person has a single\" +\n",
    "      \"incident, where all charges are expungeable, and all charge have a disposition other than guilty.\")\n",
    "print(\"Of these,\", greater3, \"occured more than 3 years before\", reference_date)\n",
    "print(\"Of these,\", greater7, \"occured more than 7 years before\", reference_date)\n",
    "\n",
    "print(\"\\n\")\n",
    "#print(x.sample(n=3)) # grab a random sample to verify"
   ]
  },
  {
   "cell_type": "code",
   "execution_count": 36,
   "metadata": {},
   "outputs": [
    {
     "name": "stdout",
     "output_type": "stream",
     "text": [
      "There are 1180 people with charges eligible for expungement in the NW district of MA, if the person has an expungeableoffense and has a verdict other than guilty.\n",
      "Of these, 819 occured more than 3 years before 2020-09-01\n",
      "Of these, 21 occured more than 7 years before 2020-09-01\n",
      "\n",
      "\n"
     ]
    }
   ],
   "source": [
    "# Find how many people are eligble for expungement if they have a single incident, in which all the offenses are \n",
    "# expungeable, and none have a guilty verdict. Attempts are included. \n",
    "\n",
    "x = nw.loc[\n",
    "    (nw['Incidents'] == 1) &\n",
    "    (nw['Incident Attempt Expungeable'] == 'Yes') &\n",
    "    (nw['Incident Guilty'] == 'Not Guilty') &\n",
    "    (~nw['Age at Offense'].isnull()) &\n",
    "    (nw['Age at Offense']<21)\n",
    "]\n",
    "\n",
    "People_eligible = x['Person ID'].nunique()\n",
    "\n",
    "greater3 = x.loc[\n",
    "    (x['years_since_offense'] > 3)\n",
    "]['Person ID'].nunique()\n",
    "\n",
    "greater7 = x.loc[\n",
    "    (x['years_since_offense'] > 7)\n",
    "]['Person ID'].nunique()\n",
    "\n",
    "print(\"There are\", People_eligible,\n",
    "      \"people with charges eligible for expungement in the NW district of MA, if the person has a single\" +\n",
    "      \"incident, where all charges are expungeable, and all charge have a disposition other than guilty. Attempts\" + \n",
    "     \"considered expungeable.\")\n",
    "print(\"Of these,\", greater3, \"occured more than 3 years before\", reference_date)\n",
    "print(\"Of these,\", greater7, \"occured more than 7 years before\", reference_date)\n",
    "\n",
    "print(\"\\n\")\n",
    "#print(x.sample(n=3)) # grab a random sample to verify"
   ]
  },
  {
   "cell_type": "markdown",
   "metadata": {},
   "source": [
    "**Question 3b** -  How many would be eligible based on who has not been found guilty, except murder or sex offenses?\n"
   ]
  },
  {
   "cell_type": "code",
   "execution_count": 43,
   "metadata": {},
   "outputs": [
    {
     "name": "stdout",
     "output_type": "stream",
     "text": [
      "There are 2656 people with charges eligible for expungement in the NW district of MA, if the person has an offense unrelated to sex or murder and has a verdict other than guilty.\n",
      "Of these, 2113 occured more than 3 years before 2020-09-01\n",
      "Of these, 55 occured more than 7 years before 2020-09-01\n",
      "\n",
      "\n"
     ]
    }
   ],
   "source": [
    "x = nw.loc[\n",
    "    (nw['murder'] == 0) &\n",
    "    (nw['sex'] == 0) &\n",
    "    (~nw['Disposition'].isnull()) &\n",
    "    (nw['Disposition'] != 'Guilty') &\n",
    "    (nw['Disposition'] != 'Guilty Filed') &\n",
    "    (nw['Disposition'] != 'Guilty on Lesser Included Offense') &\n",
    "    (~nw['Age at Offense'].isnull()) &\n",
    "    (nw['Age at Offense']<21) \n",
    "]\n",
    "\n",
    "People_eligible = x['Person ID'].nunique()\n",
    "\n",
    "greater3 = x.loc[\n",
    "    (x['years_since_offense'] > 3)\n",
    "]['Person ID'].nunique()\n",
    "\n",
    "greater7 = x.loc[\n",
    "    (x['years_since_offense'] > 7)\n",
    "]['Person ID'].nunique()\n",
    "\n",
    "print(\"There are\", People_eligible,\n",
    "      \"people with charges eligible for expungement in the NW district of MA, if the person has an offense\" +\n",
    "      \" unrelated to sex or murder and has a verdict other than guilty.\")\n",
    "print(\"Of these,\", greater3, \"occured more than 3 years before\", reference_date)\n",
    "print(\"Of these,\", greater7, \"occured more than 7 years before\", reference_date)\n",
    "\n",
    "print(\"\\n\")\n",
    "#print(x.sample(n=3)) # grab a random sample to verify"
   ]
  },
  {
   "cell_type": "code",
   "execution_count": 42,
   "metadata": {},
   "outputs": [
    {
     "name": "stdout",
     "output_type": "stream",
     "text": [
      "There are 1666 people with charges eligible for expungement in the NW district of MA, if the person has a single incident in which all the charges are unrelated to sex or murder and have a non-guilty verdict.\n",
      "Of these, 1180 occured more than 3 years before 2020-09-01\n",
      "Of these, 27 occured more than 7 years before 2020-09-01\n",
      "\n",
      "\n"
     ]
    }
   ],
   "source": [
    "#Find out how many people would be eligible if they have a single incident, in which all the charges are unrelated to\n",
    "#sex or murder, and all charges have a disposition other than guilty. Attempts not included. \n",
    "\n",
    "x = nw.loc[\n",
    "    (nw['Incidents'] == 1) &\n",
    "    (nw['Incident Guilty'] == 'Not Guilty') &\n",
    "    (nw['Incident Murder/Sex'] == 0) &\n",
    "    (~nw['Age at Offense'].isnull()) &\n",
    "    (nw['Age at Offense']<21) \n",
    "]\n",
    "\n",
    "People_eligible = x['Person ID'].nunique()\n",
    "\n",
    "greater3 = x.loc[\n",
    "    (x['years_since_offense'] > 3)\n",
    "]['Person ID'].nunique()\n",
    "\n",
    "greater7 = x.loc[\n",
    "    (x['years_since_offense'] > 7)\n",
    "]['Person ID'].nunique()\n",
    "\n",
    "print(\"There are\", People_eligible,\n",
    "      \"people with charges eligible for expungement in the NW district of MA, if the person has a single incident\" +\n",
    "      \" in which all the charges are unrelated to sex or murder and have a non-guilty verdict.\")\n",
    "print(\"Of these,\", greater3, \"occured more than 3 years before\", reference_date)\n",
    "print(\"Of these,\", greater7, \"occured more than 7 years before\", reference_date)\n",
    "\n",
    "print(\"\\n\")\n",
    "#print(x.sample(n=3)) # grab a random sample to verify"
   ]
  },
  {
   "cell_type": "code",
   "execution_count": null,
   "metadata": {},
   "outputs": [],
   "source": []
  }
 ],
 "metadata": {
  "kernelspec": {
   "display_name": "Python 3",
   "language": "python",
   "name": "python3"
  },
  "language_info": {
   "codemirror_mode": {
    "name": "ipython",
    "version": 3
   },
   "file_extension": ".py",
   "mimetype": "text/x-python",
   "name": "python",
   "nbconvert_exporter": "python",
   "pygments_lexer": "ipython3",
   "version": "3.7.4"
  }
 },
 "nbformat": 4,
 "nbformat_minor": 4
}
