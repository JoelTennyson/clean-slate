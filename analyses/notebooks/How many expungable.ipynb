{
 "cells": [
  {
   "cell_type": "markdown",
   "metadata": {},
   "source": [
    "# Clean Slate: Estimating offenses eligible for expungement under varying conditions\n",
    "> Prepared by [Laura Feeney](https://github.com/laurafeeney) for Code for Boston's [Clean Slate project](https://github.com/codeforboston/clean-slate).\n",
    "\n",
    "## Purpose\n",
    "This notebook takes somewhat processed data from the Northwestern DA and answers the following questions, posed June 28, 2020. \n",
    "\n",
    "This analysis will be run a number of times: under existing regulation, and under varying conditions allowing additional offenses to be expunged.\n",
    "\n",
    "\n",
    "1. How many people (under age 21) are eligible for expungement today? This would be people with only **one charge** that is not part of the list of ineligible offenses (per section 100J). \n",
    "\n",
    "\n",
    "2. How many people (under age 21) would be eligible based on only having **one incident** (which could include multiple charges) that are not part of the list of ineligible offenses?\n",
    " - How many people (under age 21) would be eligible based on only having **one incident** if only sex-based offenses or murder were excluded from expungement?\n",
    " \n",
    "\n",
    "3. How many people (under age 21) would be eligible based on who has **not been found guilty** (given current offenses that are eligible for expungement)?\n",
    " - How many people (under age 21) would be eligible based on who has **not been found guilty** for all offenses except for murder or sex-based offenses?\n",
    "\n",
    "-----"
   ]
  },
  {
   "cell_type": "markdown",
   "metadata": {},
   "source": [
    "### Step 0\n",
    "Import data, programs, etc.\n",
    "\n",
    "-----"
   ]
  },
  {
   "cell_type": "code",
   "execution_count": 1,
   "metadata": {},
   "outputs": [],
   "source": [
    "import pandas as pd\n",
    "pd.set_option(\"display.max_rows\", 200)\n",
    "import numpy as np\n",
    "import regex as re\n",
    "import glob, os\n",
    "import datetime \n",
    "from datetime import date \n",
    "from collections import defaultdict, Counter"
   ]
  },
  {
   "cell_type": "code",
   "execution_count": 2,
   "metadata": {},
   "outputs": [
    {
     "data": {
      "text/plain": [
       "Yes              55052\n",
       "No               20013\n",
       "NotApplicable      439\n",
       "Attempt            220\n",
       "NaN                  1\n",
       "Name: Expungeable, dtype: int64"
      ]
     },
     "execution_count": 2,
     "metadata": {},
     "output_type": "execute_result"
    }
   ],
   "source": [
    "# processed individual-level data from NW district with expungability.\n",
    "\n",
    "nw = pd.read_csv('../../data/processed/merged_nw.csv', encoding='cp1252',\n",
    "                    dtype={'Analysis notes':str, 'extra_criteria':str, 'Expungeable': str}) \n",
    "\n",
    "nw['Expungeable'].value_counts(dropna=False)\n"
   ]
  },
  {
   "cell_type": "markdown",
   "metadata": {},
   "source": [
    "## Step 1\n",
    "Add a few additional variables needed, look at summary stats\n",
    "\n",
    "There are many offenses that are violations of the Code of Massachusetts Regulations (CMR) rather than a criminal offense. These include things like some driving or boating infractions (e.g., not having headlights on), or not having a hunting/fishing license. It's not clear whether these should be included at all. We'll run the analysis first including them at all stages, and then excluding them at all stages. "
   ]
  },
  {
   "cell_type": "code",
   "execution_count": 3,
   "metadata": {},
   "outputs": [
    {
     "data": {
      "text/plain": [
       "19753"
      ]
     },
     "execution_count": 3,
     "metadata": {},
     "output_type": "execute_result"
    }
   ],
   "source": [
    "### number of unique people\n",
    "nw['Person ID'].nunique()"
   ]
  },
  {
   "cell_type": "code",
   "execution_count": 4,
   "metadata": {},
   "outputs": [
    {
     "name": "stdout",
     "output_type": "stream",
     "text": [
      "The earliest offense date is 1750-12-03\n",
      "The max offense date is 2018-12-30 \n",
      "\n",
      "count    74915.000000\n",
      "mean         4.460396\n",
      "std          2.798864\n",
      "min          1.673973\n",
      "25%          3.060274\n",
      "50%          4.328767\n",
      "75%          5.638356\n",
      "max        269.926027\n",
      "Name: years_since_offense, dtype: float64\n",
      "\n",
      " There are a tail of dates that are probably wrong, but age is missing for most anyways,so we typically exclude offenses without an age\n"
     ]
    }
   ],
   "source": [
    "### dates ###\n",
    "\n",
    "reference_date = datetime.date(2020, 9, 1) # using \"today.date() wouldn't be stable\"\n",
    "\n",
    "nw['Offense Date'] = pd.to_datetime(nw['Offense Date']).dt.date\n",
    "nw['years_since_offense'] = (reference_date - nw['Offense Date'])/pd.Timedelta(1, 'D')/365\n",
    "\n",
    "nw[nw['Offense Date']<datetime.date(1950, 1, 1)]\n",
    "\n",
    "print(\"The earliest offense date is\", min(nw['Offense Date']))\n",
    "print(\"The max offense date is\", max(nw['Offense Date']), \"\\n\")\n",
    "\n",
    "print(nw['years_since_offense'].describe())\n",
    "\n",
    "print(\"\\n There are a tail of dates that are probably wrong, but age is missing for most anyways,\"\n",
    "      + \"so we typically exclude offenses without an age\")"
   ]
  },
  {
   "cell_type": "code",
   "execution_count": 5,
   "metadata": {
    "scrolled": true
   },
   "outputs": [
    {
     "name": "stdout",
     "output_type": "stream",
     "text": [
      "There are 75725 total offenses including CMR.\n",
      "After we drop CMR, there are 75285 total offenses.\n"
     ]
    }
   ],
   "source": [
    "#Manipulating the dataframe to Drop all CMR offenses and Drop CMR-related columns\n",
    "\n",
    "print(f'There are {nw.shape[0]} total offenses including CMR.')\n",
    "\n",
    "nw = nw.loc[nw['CMRoffense'] == 'no']\n",
    "nw = nw.drop(columns = ['CMRoffense'])\n",
    "\n",
    "print(f'After we drop CMR, there are {nw.shape[0]} total offenses.')"
   ]
  },
  {
   "cell_type": "code",
   "execution_count": 6,
   "metadata": {},
   "outputs": [
    {
     "name": "stdout",
     "output_type": "stream",
     "text": [
      "count    75285.000000\n",
      "mean        10.075752\n",
      "std         18.230430\n",
      "min          1.000000\n",
      "25%          3.000000\n",
      "50%          5.000000\n",
      "75%         11.000000\n",
      "max        202.000000\n",
      "Name: num_offenses, dtype: float64\n"
     ]
    }
   ],
   "source": [
    "# distribution of # of charges\n",
    "\n",
    "nw['num_offenses']=nw.groupby('Person ID')['Person ID'].transform('count')\n",
    "print(nw['num_offenses'].describe())\n",
    "\n",
    "#nw.loc[nw['num_offenses']<30].hist(column='num_offenses', bins=15)"
   ]
  },
  {
   "cell_type": "code",
   "execution_count": 7,
   "metadata": {},
   "outputs": [
    {
     "name": "stdout",
     "output_type": "stream",
     "text": [
      "# People with only 1 offense 5026\n"
     ]
    }
   ],
   "source": [
    "a = nw[nw['num_offenses']==1]['Person ID'].nunique()\n",
    "print(\"# People with only 1 offense\", a)"
   ]
  },
  {
   "cell_type": "code",
   "execution_count": 8,
   "metadata": {},
   "outputs": [
    {
     "name": "stdout",
     "output_type": "stream",
     "text": [
      "Yes        55052\n",
      "No         20013\n",
      "Attempt      220\n",
      "Name: Expungeable, dtype: int64\n"
     ]
    }
   ],
   "source": [
    "print(nw['Expungeable'].value_counts())"
   ]
  },
  {
   "cell_type": "markdown",
   "metadata": {},
   "source": [
    "## Question 1\n",
    "- How many people are eligible for expungement today? \n",
    "    - ---> *Only one charge*, Offense committed before 21st birthday, charge is not part of the list of ineligible offenses (per section 100J), charge is in the correct timeframe from today's date\n",
    "\n",
    "We don't have misdemeanor / felony info, so will show the # that are more than 3 or more than 7 years from today.\n",
    "\n",
    "----"
   ]
  },
  {
   "cell_type": "code",
   "execution_count": 9,
   "metadata": {},
   "outputs": [],
   "source": [
    "def date_range(x):\n",
    "    greater3 = x.loc[(x['years_since_offense'] > 3)]['Person ID'].nunique()\n",
    "    greater7 = x.loc[(x['years_since_offense'] > 7)]['Person ID'].nunique()\n",
    "\n",
    "    print(greater3, \"occured more than 3 years before\", reference_date)\n",
    "    print(greater7, \"occured more than 7 years before\", reference_date)\n",
    "    "
   ]
  },
  {
   "cell_type": "code",
   "execution_count": 10,
   "metadata": {},
   "outputs": [
    {
     "name": "stdout",
     "output_type": "stream",
     "text": [
      "There are 3557 individuals of any age with a single offense that is theoretically eligible for expungment.\n"
     ]
    }
   ],
   "source": [
    "eligible_all_ages = nw.loc[\n",
    "    (nw['num_offenses']==1) &\n",
    "    (nw['Expungeable'] != 'No') &\n",
    "    (~nw['Age at Offense'].isnull())\n",
    "]['Person ID'].nunique()\n",
    "\n",
    "print(\"There are\", eligible_all_ages, \"individuals of any age with a single offense that is theoretically eligible for expungment.\")"
   ]
  },
  {
   "cell_type": "code",
   "execution_count": 11,
   "metadata": {},
   "outputs": [
    {
     "name": "stdout",
     "output_type": "stream",
     "text": [
      "There are 549 people with charges eligible for expungement in the NW district of MA if we include 'attempts' as expungeable.\n",
      "392 occured more than 3 years before 2020-09-01\n",
      "11 occured more than 7 years before 2020-09-01\n"
     ]
    },
    {
     "data": {
      "text/plain": [
       "c276s87 finding                     154\n",
       "Dismissed at Request of Comm         96\n",
       "Responsible                          80\n",
       "Nolle Prosequi                       50\n",
       "Dismissed Prior to Arraignment       42\n",
       "Dismissed                            32\n",
       "Dismissed on Payment                 28\n",
       "Continued w/o Finding                26\n",
       "NaN                                  25\n",
       "Guilty                                6\n",
       "Charge Handled as a Civil Charge      3\n",
       "Delinquent                            3\n",
       "Dismissed by Court                    3\n",
       "Responsible Filed                     1\n",
       "Name: Disposition, dtype: int64"
      ]
     },
     "execution_count": 11,
     "metadata": {},
     "output_type": "execute_result"
    }
   ],
   "source": [
    "x = nw.loc[\n",
    "    (nw['num_offenses']==1) &\n",
    "    (nw['Expungeable'] != 'No') &\n",
    "    (~nw['Age at Offense'].isnull()) &\n",
    "    (nw['Age at Offense']<21)\n",
    "]\n",
    "\n",
    "People_eligible = x['Person ID'].nunique()\n",
    "\n",
    "print(\"There are\", People_eligible,\n",
    "      \"people with charges eligible for expungement in the NW district of MA\",\n",
    "      \"if we include 'attempts' as expungeable.\")\n",
    "\n",
    "date_range(x)\n",
    "\n",
    "x.Disposition.value_counts(dropna=False)"
   ]
  },
  {
   "cell_type": "code",
   "execution_count": 12,
   "metadata": {},
   "outputs": [
    {
     "name": "stdout",
     "output_type": "stream",
     "text": [
      "There are 547 people with charges eligible for expungement in the NW district of MA,  if we assume all 'attempts' are not expungeable.\n",
      "390 occured more than 3 years before 2020-09-01\n",
      "11 occured more than 7 years before 2020-09-01\n"
     ]
    }
   ],
   "source": [
    "x = nw.loc[\n",
    "    (nw['num_offenses']==1) &\n",
    "    (nw['Expungeable'] == 'Yes') &\n",
    "    (~nw['Age at Offense'].isnull()) &\n",
    "    (nw['Age at Offense']<21) \n",
    "]\n",
    "\n",
    "People_eligible = x['Person ID'].nunique()\n",
    "\n",
    "print(\"There are\", People_eligible,\n",
    "      \"people with charges eligible for expungement in the NW district of MA,\",\n",
    "      \" if we assume all 'attempts' are not expungeable.\")\n",
    "\n",
    "date_range(x)"
   ]
  },
  {
   "cell_type": "markdown",
   "metadata": {},
   "source": [
    "## Question 2: incidents rather than offenses"
   ]
  },
  {
   "cell_type": "markdown",
   "metadata": {},
   "source": [
    "Luke Schissler & Laura Feeney\n",
    "\n",
    "2. How many people (under age 21) would be eligible based on only having **one incident** (which could include multiple charges) that are not part of the list of ineligible offenses?\n",
    " - 2a. How many people (under age 21) would be eligible based on only having **one incident** if only sex-based offenses or murder were excluded from expungement?\n",
    "\n",
    "\n",
    "Making the assumption based on the 06/26/20 meeting notes that an 'incident' is defined as the sum of all charges for an individual on a single day. In theory, someone could probably be charged in two separate instances on a single day, but this is likely rare. \n",
    "\n",
    "For this analysis, we assume that a single non-expungeable offense under the bundle of the incident makes the entire incident non-expungeable. Same for the analysis of murder or sex crimes."
   ]
  },
  {
   "cell_type": "code",
   "execution_count": 13,
   "metadata": {},
   "outputs": [],
   "source": [
    "#Data prep\n",
    "\n",
    "#Number of incidents (separate offense dates per same ID)\n",
    "nw['Incidents'] = (nw.groupby('Person ID')['Offense Date'].transform('nunique'))\n",
    "\n",
    "# If an incident includes one offense that is not expungeable, we mark the entire incident as not expungeable.\n",
    "#Attempts *are not* considered expungeable in this one. \n",
    "nw['Exp'] = nw['Expungeable']==\"Yes\"\n",
    "nw['Inc_Expungeable_Attempts_Not'] = nw.groupby(['Person ID', 'Offense Date'])['Exp'].transform('min')\n",
    "\n",
    "# If an incident includes one offense that is not expungeable, we mark the entire incident as not expungeable.\n",
    "#Attempts *are* not considered expungeable in this one. \n",
    "nw['ExpAtt'] = (nw['Expungeable']==\"Yes\") | (nw['Expungeable']==\"Attempt\")\n",
    "nw['Inc_Expungeable_Attempts_Are'] = nw.groupby(['Person ID', 'Offense Date'])['ExpAtt'].transform('min')\n",
    "\n",
    "# If an incident includes an offense that is a murder and/or sex crime, we code the whole incident as regarding\n",
    "# murder and/or sex.\n",
    "nw['sm'] = (nw['sex'] == 1) | (nw['murder'] ==1)\n",
    "nw['Incident_Murder_Sex'] = nw.groupby(['Person ID', 'Offense Date'])['sm'].transform('max')\n",
    "\n",
    "#Sanity check to make sure I coded things right\n",
    "#nw[['Person ID', 'Offense Date', 'murder', 'sex', 'Incident_Murder_Sex']][100:2000].loc[nw['Incident_Murder_Sex'] == 1]\n",
    "\n",
    "#unneeded calculation columns\n",
    "nw = nw.drop(columns=['Exp', 'sm'])"
   ]
  },
  {
   "cell_type": "code",
   "execution_count": 15,
   "metadata": {},
   "outputs": [
    {
     "name": "stdout",
     "output_type": "stream",
     "text": [
      "There are 1247 people with charges eligible for expungement in the NW district of MA, if the person has a single incident in which all the offenses are expungeable if we consider attempts to be unexpungeable.\n",
      "870 occured more than 3 years before 2020-09-01\n",
      "27 occured more than 7 years before 2020-09-01\n"
     ]
    },
    {
     "data": {
      "text/plain": [
       "Dismissed at Request of Comm        519\n",
       "c276s87 finding                     455\n",
       "Nolle Prosequi                      244\n",
       "Responsible                         220\n",
       "Continued w/o Finding               220\n",
       "Not Responsible                     217\n",
       "Dismissed Prior to Arraignment      156\n",
       "Dismissed                           119\n",
       "NaN                                 111\n",
       "Dismissed on Payment                 92\n",
       "Guilty                               36\n",
       "Delinquent                           14\n",
       "Dismissed by Court                   14\n",
       "Responsible Filed                    13\n",
       "Found Incompetent                     8\n",
       "Charge Handled as a Civil Charge      5\n",
       "DYS Committed                         5\n",
       "CLOSED-NO CHARGES                     3\n",
       "Delinquent Filed                      3\n",
       "Dismissed prior to complaint          3\n",
       "Unagreed Plea                         1\n",
       "Name: Disposition, dtype: int64"
      ]
     },
     "execution_count": 15,
     "metadata": {},
     "output_type": "execute_result"
    }
   ],
   "source": [
    "# Find how many people whose offenses fall into a single incident, where all the offenses are expungeable \n",
    "# (Not including attempts). \n",
    "\n",
    "x = nw.loc[\n",
    "    (nw['Incidents'] == 1) &\n",
    "    (nw['Inc_Expungeable_Attempts_Not'] == True) &\n",
    "    (~nw['Age at Offense'].isnull()) &\n",
    "    (nw['Age at Offense']<21) \n",
    "]\n",
    "\n",
    "People_eligible = x['Person ID'].nunique()\n",
    "\n",
    "print(\"There are\", People_eligible,\n",
    "      \"people with charges eligible for expungement in the NW district of MA, if the person has a single incident\" +\n",
    "      \" in which all the offenses are expungeable\" + \n",
    "     \" if we consider attempts to be unexpungeable.\")\n",
    "\n",
    "date_range(x)\n",
    "\n",
    "#print(x.sample(n=5)) # grab a random sample to verify\n",
    "x.Disposition.value_counts(dropna=False)"
   ]
  },
  {
   "cell_type": "markdown",
   "metadata": {},
   "source": [
    "### Question 2"
   ]
  },
  {
   "cell_type": "code",
   "execution_count": 16,
   "metadata": {},
   "outputs": [
    {
     "name": "stdout",
     "output_type": "stream",
     "text": [
      "There are 1254 people with charges eligible for expungement in the NW district of MA, if the person has a single incident, in which all the offenses are expungeable and attempts are considered expungeable.\n",
      "876 occured more than 3 years before 2020-09-01\n",
      "27 occured more than 7 years before 2020-09-01\n"
     ]
    },
    {
     "data": {
      "text/plain": [
       "Dismissed at Request of Comm        525\n",
       "c276s87 finding                     459\n",
       "Nolle Prosequi                      244\n",
       "Continued w/o Finding               225\n",
       "Responsible                         221\n",
       "Not Responsible                     217\n",
       "Dismissed Prior to Arraignment      156\n",
       "Dismissed                           119\n",
       "NaN                                 111\n",
       "Dismissed on Payment                 93\n",
       "Guilty                               36\n",
       "Delinquent                           14\n",
       "Dismissed by Court                   14\n",
       "Responsible Filed                    13\n",
       "Found Incompetent                     8\n",
       "Charge Handled as a Civil Charge      5\n",
       "DYS Committed                         5\n",
       "CLOSED-NO CHARGES                     3\n",
       "Delinquent Filed                      3\n",
       "Dismissed prior to complaint          3\n",
       "Guilty Filed                          1\n",
       "Unagreed Plea                         1\n",
       "Name: Disposition, dtype: int64"
      ]
     },
     "execution_count": 16,
     "metadata": {},
     "output_type": "execute_result"
    }
   ],
   "source": [
    "# Find how many people whose offenses fall into a single incident, where all the offenses are expungeable \n",
    "# (Including Attempts). \n",
    "\n",
    "x = nw.loc[\n",
    "    (nw['Incidents'] == 1) &\n",
    "    (nw['Inc_Expungeable_Attempts_Are'] == True) &\n",
    "    (~nw['Age at Offense'].isnull()) &\n",
    "    (nw['Age at Offense']<21) \n",
    "]\n",
    "\n",
    "People_eligible = x['Person ID'].nunique()\n",
    "\n",
    "\n",
    "print(\"There are\", People_eligible,\n",
    "      \"people with charges eligible for expungement in the NW district of MA, if the person has a single incident,\" +\n",
    "      \" in which all the offenses are expungeable and attempts are considered expungeable.\")\n",
    "\n",
    "date_range(x)\n",
    "#print(x.sample(n=3)) # grab a random sample to verify\n",
    "\n",
    "x.Disposition.value_counts(dropna=False)"
   ]
  },
  {
   "cell_type": "code",
   "execution_count": 17,
   "metadata": {},
   "outputs": [
    {
     "name": "stdout",
     "output_type": "stream",
     "text": [
      "There are 1247 people with charges eligible for expungement in the NW district of MA, if the person has a single incident, in which all the offenses are expungeable and attempts are not considered expungeable.\n",
      "870 occured more than 3 years before 2020-09-01\n",
      "27 occured more than 7 years before 2020-09-01\n"
     ]
    }
   ],
   "source": [
    "# Find how many people whose offenses fall into a single incident, where all the offenses are expungeable \n",
    "# (Including Attempts). \n",
    "\n",
    "x = nw.loc[\n",
    "    (nw['Incidents'] == 1) &\n",
    "    (nw['Inc_Expungeable_Attempts_Not'] == True) &\n",
    "    (~nw['Age at Offense'].isnull()) &\n",
    "    (nw['Age at Offense']<21) \n",
    "]\n",
    "\n",
    "People_eligible = x['Person ID'].nunique()\n",
    "\n",
    "\n",
    "print(\"There are\", People_eligible,\n",
    "      \"people with charges eligible for expungement in the NW district of MA, if the person has a single incident,\" +\n",
    "      \" in which all the offenses are expungeable and attempts are not considered expungeable.\")\n",
    "\n",
    "date_range(x)"
   ]
  },
  {
   "cell_type": "markdown",
   "metadata": {},
   "source": [
    "**Question 2a** -  How many would be eligible if we only limited to only exclude sex-based offenses or murder?\n",
    "\n",
    "Assuming here we are not limiting based on expungability, but only on if the person has 1 incident, it is related to neither murder nor sex, and the person is under 21. "
   ]
  },
  {
   "cell_type": "code",
   "execution_count": 18,
   "metadata": {},
   "outputs": [
    {
     "name": "stdout",
     "output_type": "stream",
     "text": [
      "There are 1796 people with charges eligible for expungement in the NW district of MA, if the person has charges unrelated to murder or sex.\n",
      "1272 occured more than 3 years before 2020-09-01\n",
      "42 occured more than 7 years before 2020-09-01\n"
     ]
    },
    {
     "data": {
      "text/plain": [
       "Dismissed at Request of Comm         772\n",
       "c276s87 finding                      681\n",
       "Nolle Prosequi                       474\n",
       "Continued w/o Finding                472\n",
       "Not Responsible                      369\n",
       "Responsible                          249\n",
       "Dismissed Prior to Arraignment       197\n",
       "Dismissed                            152\n",
       "NaN                                  151\n",
       "Dismissed on Payment                  96\n",
       "Guilty                                91\n",
       "Delinquent                            37\n",
       "Responsible Filed                     28\n",
       "Dismissed by Court                    16\n",
       "Accord/Satisfaction                   12\n",
       "Delinquent Filed                      10\n",
       "Found Incompetent                      8\n",
       "Not Guilty                             5\n",
       "Charge Handled as a Civil Charge       5\n",
       "DYS Committed                          5\n",
       "Guilty Filed                           4\n",
       "CLOSED-NO CHARGES                      3\n",
       "Dismissed prior to complaint           3\n",
       "DA's Complaint                         2\n",
       "Guilty on Lesser Included Offense      1\n",
       "Unagreed Plea                          1\n",
       "Youthful Offender                      1\n",
       "Name: Disposition, dtype: int64"
      ]
     },
     "execution_count": 18,
     "metadata": {},
     "output_type": "execute_result"
    }
   ],
   "source": [
    "x = nw.loc[\n",
    "    (nw['Incidents'] == 1) &\n",
    "    (nw['murder'] == 0) &\n",
    "    (nw['sex'] == 0) &\n",
    "    (~nw['Age at Offense'].isnull()) &\n",
    "    (nw['Age at Offense']<21) \n",
    "]\n",
    "\n",
    "People_eligible = x['Person ID'].nunique()\n",
    "\n",
    "print(\"There are\", People_eligible,\n",
    "      \"people with charges eligible for expungement in the NW district of MA, if the person has charges unrelated to\" +\n",
    "      \" murder or sex.\")\n",
    "\n",
    "date_range(x)\n",
    "\n",
    "x.Disposition.value_counts(dropna=False)"
   ]
  },
  {
   "cell_type": "code",
   "execution_count": 19,
   "metadata": {},
   "outputs": [
    {
     "name": "stdout",
     "output_type": "stream",
     "text": [
      "There are 1776 people with charges eligible for expungement in the NW district of MA, if the person has a single incident in which all offenses are unrelated to sex or murder\n",
      "1256 occured more than 3 years before 2020-09-01\n",
      "37 occured more than 7 years before 2020-09-01\n"
     ]
    }
   ],
   "source": [
    "x = nw.loc[\n",
    "    (nw['Incidents'] == 1) &\n",
    "    (nw['Incident_Murder_Sex'] == 0) &\n",
    "    (~nw['Age at Offense'].isnull()) &\n",
    "    (nw['Age at Offense']<21) \n",
    "]\n",
    "\n",
    "People_eligible = x['Person ID'].nunique()\n",
    "\n",
    "print(\"There are\", People_eligible,\n",
    "      \"people with charges eligible for expungement in the NW district of MA, if the person has a single incident\" +\n",
    "      \" in which all offenses are unrelated to sex or murder\")\n",
    "\n",
    "date_range(x)"
   ]
  },
  {
   "cell_type": "markdown",
   "metadata": {},
   "source": [
    "## Question 3: Verdict as Determiner"
   ]
  },
  {
   "cell_type": "markdown",
   "metadata": {},
   "source": [
    "**Question 3a** -  How many would be eligible based on who has not been found guilty (given current offenses that are eligible for expungement)?\n",
    "\n",
    "Defining 'guilty' as one of these dispositions: 'Guilty', 'Guilty Filed', 'Guilty on Lesser Included Offense', 'c276s87 finding', 'Agreed Plea', 'Delinquent'\n",
    "\n",
    "Need more work on this -- there are many dispositions that are null, and many others that indicate a case in process, transferred, etc, that would not indicate \"guilty\", but also would not indicate \"not guilty\""
   ]
  },
  {
   "cell_type": "code",
   "execution_count": 20,
   "metadata": {},
   "outputs": [],
   "source": [
    "# Guilty -- need more work here on which dispositions to include/excldue\n",
    "guilty_dispos = ['Guilty', 'Guilty Filed', 'Guilty on Lesser Included Offense', 'c276s87 finding', \n",
    "                 'Agreed Plea', 'Delinquent']\n",
    "nw['guilty'] = nw['Disposition'].isin(guilty_dispos)\n",
    "nw.loc[nw.Disposition.isnull(), 'guilty'] = None \n",
    "nw['Incident_Guilty'] = nw.groupby(['Person ID', 'Offense Date'])['guilty'].transform('max')"
   ]
  },
  {
   "cell_type": "code",
   "execution_count": 21,
   "metadata": {},
   "outputs": [
    {
     "name": "stdout",
     "output_type": "stream",
     "text": [
      "There are 2031 people with charges eligible for expungement in the NW district of MA, if the person has an expungeableoffense and has a verdict other than guilty. Attempts counted as not expungeable\n",
      "1617 occured more than 3 years before 2020-09-01\n",
      "50 occured more than 7 years before 2020-09-01\n"
     ]
    },
    {
     "data": {
      "text/plain": [
       "Dismissed at Request of Comm        1442\n",
       "Continued w/o Finding               1237\n",
       "Nolle Prosequi                       845\n",
       "Not Responsible                      762\n",
       "Responsible                          512\n",
       "Dismissed                            275\n",
       "Dismissed on Payment                 239\n",
       "Dismissed Prior to Arraignment       230\n",
       "Responsible Filed                     84\n",
       "DYS Committed                         22\n",
       "Dismissed by Court                    18\n",
       "Charge Handled as a Civil Charge      17\n",
       "Accord/Satisfaction                   13\n",
       "Delinquent Filed                      12\n",
       "Found Incompetent                      8\n",
       "Dismissed prior to complaint           5\n",
       "Case Transferred                       5\n",
       "CLOSED-NO CHARGES                      4\n",
       "Valor Act Dispo                        2\n",
       "Unagreed Plea                          1\n",
       "Not Guilty                             1\n",
       "DA's Complaint                         1\n",
       "Youthful Offender                      1\n",
       "Name: Disposition, dtype: int64"
      ]
     },
     "execution_count": 21,
     "metadata": {},
     "output_type": "execute_result"
    }
   ],
   "source": [
    "# Find how many people are eligble for expungement if they have a verdict other than guilty and their offense is \n",
    "# expungeable (Attempts not included)\n",
    "\n",
    "x = nw.loc[\n",
    "    (nw['Expungeable'] == 'Yes') &\n",
    "    (nw['guilty'] == False) &\n",
    "    (~nw['Age at Offense'].isnull()) &\n",
    "    (nw['Age at Offense']<21) \n",
    "]\n",
    "\n",
    "People_eligible = x['Person ID'].nunique()\n",
    "\n",
    "print(\"There are\", People_eligible,\n",
    "      \"people with charges eligible for expungement in the NW district of MA, if the person has an expungeable\" +\n",
    "      \"offense and has a verdict other than guilty. Attempts counted as not expungeable\")\n",
    "\n",
    "date_range(x)\n",
    "\n",
    "x.Disposition.value_counts(dropna=False)"
   ]
  },
  {
   "cell_type": "code",
   "execution_count": 22,
   "metadata": {},
   "outputs": [
    {
     "name": "stdout",
     "output_type": "stream",
     "text": [
      "There are 2033 people with charges eligible for expungement in the NW district of MA, if the person has an expungeableoffense and has a verdict other than guilty. Attempts counted as expungeable\n",
      "1619 occured more than 3 years before 2020-09-01\n",
      "50 occured more than 7 years before 2020-09-01\n"
     ]
    },
    {
     "data": {
      "text/plain": [
       "Dismissed at Request of Comm        1452\n",
       "Continued w/o Finding               1244\n",
       "Nolle Prosequi                       849\n",
       "Not Responsible                      762\n",
       "Responsible                          512\n",
       "Dismissed                            275\n",
       "Dismissed on Payment                 240\n",
       "Dismissed Prior to Arraignment       230\n",
       "Responsible Filed                     84\n",
       "DYS Committed                         22\n",
       "Dismissed by Court                    18\n",
       "Charge Handled as a Civil Charge      17\n",
       "Accord/Satisfaction                   13\n",
       "Delinquent Filed                      12\n",
       "Found Incompetent                      8\n",
       "Dismissed prior to complaint           5\n",
       "Case Transferred                       5\n",
       "CLOSED-NO CHARGES                      4\n",
       "Valor Act Dispo                        2\n",
       "Unagreed Plea                          1\n",
       "Not Guilty                             1\n",
       "DA's Complaint                         1\n",
       "Youthful Offender                      1\n",
       "Name: Disposition, dtype: int64"
      ]
     },
     "execution_count": 22,
     "metadata": {},
     "output_type": "execute_result"
    }
   ],
   "source": [
    "# Find how many people are eligble for expungement if they have a verdict other than guilty and their offense is \n",
    "# expungeable (Attempts included as expungeable)\n",
    "\n",
    "x = nw.loc[\n",
    "    (nw['Expungeable'] != 'No') &\n",
    "    (nw['guilty'] == False) &\n",
    "    (~nw['Age at Offense'].isnull()) &\n",
    "    (nw['Age at Offense']<21) \n",
    "]\n",
    "\n",
    "People_eligible = x['Person ID'].nunique()\n",
    "\n",
    "print(\"There are\", People_eligible,\n",
    "      \"people with charges eligible for expungement in the NW district of MA, if the person has an expungeable\" +\n",
    "      \"offense and has a verdict other than guilty. Attempts counted as expungeable\")\n",
    "\n",
    "date_range(x)\n",
    "\n",
    "x.Disposition.value_counts(dropna=False)"
   ]
  },
  {
   "cell_type": "markdown",
   "metadata": {},
   "source": [
    "Repeating the above, but using incidents rather than offenses. "
   ]
  },
  {
   "cell_type": "code",
   "execution_count": 23,
   "metadata": {},
   "outputs": [
    {
     "name": "stdout",
     "output_type": "stream",
     "text": [
      "There are 848 people with charges eligible for expungement in the NW district of MA, if the person has a single incident, where all charges are expungeable, and all charge have a disposition other than guilty. Attempts are considered not expungeable.\n",
      "595 occured more than 3 years before 2020-09-01\n",
      "21 occured more than 7 years before 2020-09-01\n"
     ]
    },
    {
     "data": {
      "text/plain": [
       "Dismissed at Request of Comm        475\n",
       "Nolle Prosequi                      218\n",
       "Continued w/o Finding               210\n",
       "Not Responsible                     199\n",
       "Responsible                         195\n",
       "Dismissed Prior to Arraignment      156\n",
       "Dismissed                           112\n",
       "Dismissed on Payment                 92\n",
       "Dismissed by Court                   14\n",
       "Found Incompetent                     8\n",
       "Responsible Filed                     8\n",
       "DYS Committed                         5\n",
       "Charge Handled as a Civil Charge      4\n",
       "Dismissed prior to complaint          3\n",
       "CLOSED-NO CHARGES                     3\n",
       "Delinquent Filed                      1\n",
       "Unagreed Plea                         1\n",
       "Name: Disposition, dtype: int64"
      ]
     },
     "execution_count": 23,
     "metadata": {},
     "output_type": "execute_result"
    }
   ],
   "source": [
    "# Find how many people are eligble for expungement if they have a single incident, in which all the offenses are \n",
    "# expungeable, and none have a guilty verdict. Attempts are not included. \n",
    "\n",
    "x = nw.loc[\n",
    "    (nw['Incidents'] == 1) &\n",
    "    (nw['Inc_Expungeable_Attempts_Not'] == True) &\n",
    "    (nw['Incident_Guilty'] == False) &\n",
    "    (~nw['Age at Offense'].isnull()) &\n",
    "    (nw['Age at Offense']<21)\n",
    "]\n",
    "\n",
    "People_eligible = x['Person ID'].nunique()\n",
    "\n",
    "\n",
    "print(\"There are\", People_eligible,\n",
    "      \"people with charges eligible for expungement in the NW district of MA, if the person has a single\" +\n",
    "      \" incident, where all charges are expungeable, and all charge have a disposition other than guilty.\" +\n",
    "     \" Attempts are considered not expungeable.\")\n",
    "\n",
    "date_range(x)\n",
    "\n",
    "x.Disposition.value_counts(dropna=False)"
   ]
  },
  {
   "cell_type": "code",
   "execution_count": 24,
   "metadata": {},
   "outputs": [
    {
     "name": "stdout",
     "output_type": "stream",
     "text": [
      "There are 852 people with charges eligible for expungement in the NW district of MA, if the person has a single incident, where all charges are expungeable, and all charge have a disposition other than guilty.Attempts are not expungeable.\n",
      "599 occured more than 3 years before 2020-09-01\n",
      "21 occured more than 7 years before 2020-09-01\n"
     ]
    }
   ],
   "source": [
    "# Find how many people are eligble for expungement if they have a single incident, in which all the offenses are \n",
    "# expungeable, and none have a guilty verdict. Attempts are not included. \n",
    "\n",
    "x = nw.loc[\n",
    "    (nw['Incidents'] == 1) &\n",
    "    (nw['Inc_Expungeable_Attempts_Are'] == True) &\n",
    "    (nw['Incident_Guilty'] == False) &\n",
    "    (~nw['Age at Offense'].isnull()) &\n",
    "    (nw['Age at Offense']<21)\n",
    "]\n",
    "\n",
    "People_eligible = x['Person ID'].nunique()\n",
    "\n",
    "\n",
    "print(\"There are\", People_eligible,\n",
    "      \"people with charges eligible for expungement in the NW district of MA, if the person has a single\" +\n",
    "      \" incident, where all charges are expungeable, and all charge have a disposition other than guilty.\" +\n",
    "     \"Attempts are not expungeable.\")\n",
    "\n",
    "date_range(x)"
   ]
  },
  {
   "cell_type": "markdown",
   "metadata": {},
   "source": [
    "**Question 3b** -  How many would be eligible based on who has not been found guilty, except murder or sex offenses?\n"
   ]
  },
  {
   "cell_type": "code",
   "execution_count": 25,
   "metadata": {},
   "outputs": [
    {
     "name": "stdout",
     "output_type": "stream",
     "text": [
      "There are 2315 people with charges eligible for expungement in the NW district of MA, if the person has an offense unrelated to sex or murder and has a verdict other than guilty.\n",
      "1868 occured more than 3 years before 2020-09-01\n",
      "64 occured more than 7 years before 2020-09-01\n"
     ]
    },
    {
     "data": {
      "text/plain": [
       "Dismissed at Request of Comm        1786\n",
       "Continued w/o Finding               1775\n",
       "Nolle Prosequi                      1356\n",
       "Not Responsible                      762\n",
       "Responsible                          512\n",
       "Dismissed                            340\n",
       "Dismissed Prior to Arraignment       281\n",
       "Dismissed on Payment                 252\n",
       "Responsible Filed                     84\n",
       "Accord/Satisfaction                   38\n",
       "DYS Committed                         25\n",
       "Delinquent Filed                      22\n",
       "Dismissed by Court                    21\n",
       "Charge Handled as a Civil Charge      17\n",
       "Not Guilty                            17\n",
       "Case Transferred                       9\n",
       "Found Incompetent                      8\n",
       "CLOSED-NO CHARGES                      5\n",
       "Dismissed prior to complaint           5\n",
       "Youthful Offender                      4\n",
       "DA's Complaint                         2\n",
       "Valor Act Dispo                        2\n",
       "Unagreed Plea                          1\n",
       "Name: Disposition, dtype: int64"
      ]
     },
     "execution_count": 25,
     "metadata": {},
     "output_type": "execute_result"
    }
   ],
   "source": [
    "x = nw.loc[\n",
    "    (nw['murder'] == 0) &\n",
    "    (nw['sex'] == 0) &\n",
    "    (nw['guilty'] == False) &\n",
    "    (~nw['Age at Offense'].isnull()) &\n",
    "    (nw['Age at Offense']<21) \n",
    "]\n",
    "\n",
    "People_eligible = x['Person ID'].nunique()\n",
    "\n",
    "print(\"There are\", People_eligible,\n",
    "      \"people with charges eligible for expungement in the NW district of MA, if the person has an offense\" +\n",
    "      \" unrelated to sex or murder and has a verdict other than guilty.\")\n",
    "\n",
    "date_range(x)\n",
    "\n",
    "x.Disposition.value_counts(dropna=False)"
   ]
  },
  {
   "cell_type": "code",
   "execution_count": 26,
   "metadata": {},
   "outputs": [
    {
     "name": "stdout",
     "output_type": "stream",
     "text": [
      "There are 1207 people with charges eligible for expungement in the NW district of MA, if the person has a single incident in which all the charges are unrelated to sex or murder and have a non-guilty verdict.\n",
      "863 occured more than 3 years before 2020-09-01\n",
      "25 occured more than 7 years before 2020-09-01\n"
     ]
    }
   ],
   "source": [
    "#Find out how many people would be eligible if they have a single incident, in which all the charges are unrelated to\n",
    "#sex or murder, and all charges have a disposition other than guilty. Attempts not included. \n",
    "\n",
    "x = nw.loc[\n",
    "    (nw['Incidents'] == 1) &\n",
    "    (nw['Incident_Guilty'] == False) &\n",
    "    (nw['Incident_Murder_Sex'] == False) &\n",
    "    (~nw['Age at Offense'].isnull()) &\n",
    "    (nw['Age at Offense']<21) \n",
    "]\n",
    "\n",
    "People_eligible = x['Person ID'].nunique()\n",
    "\n",
    "print(\"There are\", People_eligible,\n",
    "      \"people with charges eligible for expungement in the NW district of MA, if the person has a single incident\" +\n",
    "      \" in which all the charges are unrelated to sex or murder and have a non-guilty verdict.\")\n",
    "\n",
    "date_range(x)"
   ]
  },
  {
   "cell_type": "code",
   "execution_count": null,
   "metadata": {},
   "outputs": [],
   "source": []
  }
 ],
 "metadata": {
  "kernelspec": {
   "display_name": "Python 3",
   "language": "python",
   "name": "python3"
  },
  "language_info": {
   "codemirror_mode": {
    "name": "ipython",
    "version": 3
   },
   "file_extension": ".py",
   "mimetype": "text/x-python",
   "name": "python",
   "nbconvert_exporter": "python",
   "pygments_lexer": "ipython3",
   "version": "3.8.3"
  }
 },
 "nbformat": 4,
 "nbformat_minor": 4
}
