{
 "cells": [
  {
   "cell_type": "markdown",
   "metadata": {},
   "source": [
    "# Clean Slate: Estimating offenses eligible for expungement under varying conditions\n",
    "> Prepared by [Laura Feeney](https://github.com/laurafeeney) for Code for Boston's [Clean Slate project](https://github.com/codeforboston/clean-slate).\n",
    "\n",
    "## Purpose\n",
    "The purpose of this notebook is to get a list of all charges from both Northwestern and Suffolk data, then map expungement eligibility to each.\n",
    "\n",
    "The resulting datasets will be output as a separate .csv that can be save and shared in the Clean Slate GitHub repo.\n",
    "\n",
    "\n",
    "The purpose of this notebook is to join prosecution charges with expungability, and estimate the number of offenses which are eligible for expungement. This analysis will be run a number of times: under existing regulation, and under varying conditions allowing additional offenses to be expunged.\n",
    "\n",
    "The target questions, provided June 28, 2020: \n",
    "\n",
    "1. How many people (under age 21) are eligible for expungement today? This would be people with only **one charge** that is not part of the list of ineligible offenses (per section 100J). \n",
    "\n",
    "\n",
    "2. How many people (under age 21) would be eligible based on only having **one incident** (which could include multiple charges) that are not part of the list of ineligible offenses?\n",
    " - How many people (under age 21) would be eligible based on only having **one incident** if only sex-based offenses or murder were excluded from expungement?\n",
    " \n",
    "\n",
    "3. How many people (under age 21) would be eligible based on who has **not been found guilty** (given current offenses that are eligible for expungement)?\n",
    " - How many people (under age 21) would be eligible based on who has **not been found guilty** for all offenses except for murder or sex-based offenses?\n",
    "\n",
    "-----"
   ]
  },
  {
   "cell_type": "markdown",
   "metadata": {},
   "source": [
    "### Step 0\n",
    "Import data, programs, etc.\n",
    "\n",
    "-----"
   ]
  },
  {
   "cell_type": "code",
   "execution_count": 1,
   "metadata": {},
   "outputs": [],
   "source": [
    "import pandas as pd\n",
    "pd.set_option(\"display.max_rows\", 200)\n",
    "import numpy as np\n",
    "import regex as re\n",
    "import glob, os\n",
    "import datetime \n",
    "from datetime import date "
   ]
  },
  {
   "cell_type": "code",
   "execution_count": 4,
   "metadata": {},
   "outputs": [],
   "source": [
    "# processed individual-level data from NW district with expungability.\n",
    "\n",
    "suff = pd.read_csv('../../data/processed/merged_suff.csv', encoding='cp1252',\n",
    "                    dtype={'Analysis notes':str, 'extra_criteria':str, 'Expungeable': str}) \n",
    "suff.info()"
   ]
  },
  {
   "cell_type": "markdown",
   "metadata": {},
   "source": [
    "## Step 1\n",
    "Add a few additional variables needed, look at summary stats\n",
    "\n",
    "There are many offenses that are violations of the Code of Massachusetts Regulations (CMR) rather than a criminal offense. These include things like some driving or boating infractions (e.g., not having headlights on), or not having a hunting/fishing license. \n",
    "Confirmed with Sana from CfJJ by email that these should be fully excluded from the analysis -- should not be included in the number eligible for expungment, and should not count against the single-incident or single-offense rules."
   ]
  },
  {
   "cell_type": "code",
   "execution_count": 16,
   "metadata": {},
   "outputs": [
    {
     "name": "stdout",
     "output_type": "stream",
     "text": [
      "Yes              215374\n",
      "No                82038\n",
      "m                  1909\n",
      "Attempt            1503\n",
      "NotApplicable         1\n",
      "Name: Expungeable, dtype: int64 \n",
      "\n",
      "AMMUNITION, POSSESS WO FID CARD c269 Ã‚Â§10/TT                    1816\n",
      "AMMUNITION, POSSESS WO FID CARD, SUBSQ.OFF. c269 Ã‚Â§10/TT          82\n",
      "FIREARM, SELL/TRANSFER LARGE CAPACITY c269 Ã‚Â§10F(a)                6\n",
      "ATTEMPT TO COMMIT CRIME c. 274 s. 6 - 5 year felony or greater       3\n",
      "FIREARM TO MINOR, SELL/TRANSFER LARGE CAPACITY c269 Ã‚Â§10F(b)       2\n",
      "Name: Charge, dtype: int64 \n",
      "\n",
      "ATTEMPT TO COMMIT CRIME c274 Ã‚Â§6    1503\n",
      "Name: Charge, dtype: int64 \n",
      "\n",
      "90719\n",
      "90719\n"
     ]
    }
   ],
   "source": [
    "print(suff['Expungeable'].value_counts(dropna=False), '\\n')\n",
    "print(suff['Charge'].loc[suff['Expungeable']==\"m\"].value_counts(), '\\n')\n",
    "print(suff['Charge'].loc[suff['Expungeable']==\"Attempt\"].value_counts(), '\\n')\n",
    "\n",
    "### number of unique people\n",
    "print(suff['Person ID'].nunique())\n",
    "\n",
    "pd.crosstab(suff['Expungeable'], suff['CMRoffense'], dropna=False)\n",
    "\n",
    "suff.loc[(suff['Expungeable']==\"NotApplicable\") & (suff['CMRoffense']=='no')]\n",
    "\n",
    "#drop CMR offenses, remaining unique people\n",
    "suff = suff.loc[suff['CMRoffense']=='no'].copy()\n",
    "print(suff['Person ID'].nunique())\n",
    "total_people = suff['Person ID'].nunique()"
   ]
  },
  {
   "cell_type": "code",
   "execution_count": 7,
   "metadata": {},
   "outputs": [
    {
     "data": {
      "text/plain": [
       "BMC     66433\n",
       "DOR     65212\n",
       "ROX     44288\n",
       "CHE     35929\n",
       "WROX    23391\n",
       "SUP     18585\n",
       "EBOS    13853\n",
       "SBO     13571\n",
       "BRI     11710\n",
       "CHA      7853\n",
       "Name: Court, dtype: int64"
      ]
     },
     "execution_count": 7,
     "metadata": {},
     "output_type": "execute_result"
    }
   ],
   "source": [
    "# Only one juvenile court is listed, and it does not appear on this list. \n",
    "# https://www.suffolkdistrictattorney.com/about-the-office/contact-directions\n",
    "# Looks like either they did not include any juvenile information, or we don't have sufficient information. \n",
    "# \"Some of these courts have juvenile sessions for offenders under the age of 18; courts without a juvenile \n",
    "# session send their cases to the Boston Juvenile Court downtown.\"\n",
    "\n",
    "print(suff['Court'].value_counts()"
   ]
  },
  {
   "cell_type": "code",
   "execution_count": 11,
   "metadata": {},
   "outputs": [
    {
     "name": "stdout",
     "output_type": "stream",
     "text": [
      "The earliest offense date is 1935-04-15\n",
      "The max offense date is 2018-12-12 \n",
      "\n",
      "count    298438.000000\n",
      "mean          5.154985\n",
      "std           2.508510\n",
      "min           1.723288\n",
      "25%           3.484932\n",
      "50%           5.046575\n",
      "75%           6.526027\n",
      "max          85.441096\n",
      "Name: years_since_offense, dtype: float64\n",
      "\n",
      " There are a tail of dates that are probably wrong, and the most egregious:\n"
     ]
    },
    {
     "data": {
      "text/html": [
       "<div>\n",
       "<style scoped>\n",
       "    .dataframe tbody tr th:only-of-type {\n",
       "        vertical-align: middle;\n",
       "    }\n",
       "\n",
       "    .dataframe tbody tr th {\n",
       "        vertical-align: top;\n",
       "    }\n",
       "\n",
       "    .dataframe thead th {\n",
       "        text-align: right;\n",
       "    }\n",
       "</style>\n",
       "<table border=\"1\" class=\"dataframe\">\n",
       "  <thead>\n",
       "    <tr style=\"text-align: right;\">\n",
       "      <th></th>\n",
       "      <th>Offense Date</th>\n",
       "      <th>years_since_offense</th>\n",
       "    </tr>\n",
       "  </thead>\n",
       "  <tbody>\n",
       "    <tr>\n",
       "      <th>25306</th>\n",
       "      <td>1952-09-18</td>\n",
       "      <td>68.000000</td>\n",
       "    </tr>\n",
       "    <tr>\n",
       "      <th>57294</th>\n",
       "      <td>1966-01-12</td>\n",
       "      <td>54.673973</td>\n",
       "    </tr>\n",
       "    <tr>\n",
       "      <th>75640</th>\n",
       "      <td>1956-11-17</td>\n",
       "      <td>63.832877</td>\n",
       "    </tr>\n",
       "    <tr>\n",
       "      <th>77346</th>\n",
       "      <td>1962-03-06</td>\n",
       "      <td>58.531507</td>\n",
       "    </tr>\n",
       "    <tr>\n",
       "      <th>79393</th>\n",
       "      <td>1962-11-22</td>\n",
       "      <td>57.816438</td>\n",
       "    </tr>\n",
       "    <tr>\n",
       "      <th>79394</th>\n",
       "      <td>1962-11-22</td>\n",
       "      <td>57.816438</td>\n",
       "    </tr>\n",
       "    <tr>\n",
       "      <th>91025</th>\n",
       "      <td>1964-03-15</td>\n",
       "      <td>56.504110</td>\n",
       "    </tr>\n",
       "    <tr>\n",
       "      <th>91026</th>\n",
       "      <td>1964-03-15</td>\n",
       "      <td>56.504110</td>\n",
       "    </tr>\n",
       "    <tr>\n",
       "      <th>111104</th>\n",
       "      <td>1962-06-12</td>\n",
       "      <td>58.263014</td>\n",
       "    </tr>\n",
       "    <tr>\n",
       "      <th>135609</th>\n",
       "      <td>1966-02-14</td>\n",
       "      <td>54.583562</td>\n",
       "    </tr>\n",
       "    <tr>\n",
       "      <th>135610</th>\n",
       "      <td>1966-02-14</td>\n",
       "      <td>54.583562</td>\n",
       "    </tr>\n",
       "    <tr>\n",
       "      <th>136455</th>\n",
       "      <td>1965-11-02</td>\n",
       "      <td>54.868493</td>\n",
       "    </tr>\n",
       "    <tr>\n",
       "      <th>138705</th>\n",
       "      <td>1968-09-19</td>\n",
       "      <td>51.986301</td>\n",
       "    </tr>\n",
       "    <tr>\n",
       "      <th>154979</th>\n",
       "      <td>1970-05-16</td>\n",
       "      <td>50.331507</td>\n",
       "    </tr>\n",
       "    <tr>\n",
       "      <th>187416</th>\n",
       "      <td>1968-08-16</td>\n",
       "      <td>52.079452</td>\n",
       "    </tr>\n",
       "    <tr>\n",
       "      <th>190030</th>\n",
       "      <td>1965-07-29</td>\n",
       "      <td>55.131507</td>\n",
       "    </tr>\n",
       "    <tr>\n",
       "      <th>190031</th>\n",
       "      <td>1965-07-29</td>\n",
       "      <td>55.131507</td>\n",
       "    </tr>\n",
       "    <tr>\n",
       "      <th>221568</th>\n",
       "      <td>1966-11-05</td>\n",
       "      <td>53.860274</td>\n",
       "    </tr>\n",
       "    <tr>\n",
       "      <th>240554</th>\n",
       "      <td>1967-01-02</td>\n",
       "      <td>53.701370</td>\n",
       "    </tr>\n",
       "    <tr>\n",
       "      <th>240555</th>\n",
       "      <td>1967-01-02</td>\n",
       "      <td>53.701370</td>\n",
       "    </tr>\n",
       "    <tr>\n",
       "      <th>240556</th>\n",
       "      <td>1967-01-02</td>\n",
       "      <td>53.701370</td>\n",
       "    </tr>\n",
       "    <tr>\n",
       "      <th>240557</th>\n",
       "      <td>1967-01-02</td>\n",
       "      <td>53.701370</td>\n",
       "    </tr>\n",
       "    <tr>\n",
       "      <th>251202</th>\n",
       "      <td>1958-04-11</td>\n",
       "      <td>62.435616</td>\n",
       "    </tr>\n",
       "    <tr>\n",
       "      <th>259113</th>\n",
       "      <td>1970-06-19</td>\n",
       "      <td>50.238356</td>\n",
       "    </tr>\n",
       "    <tr>\n",
       "      <th>261078</th>\n",
       "      <td>1970-11-07</td>\n",
       "      <td>49.852055</td>\n",
       "    </tr>\n",
       "    <tr>\n",
       "      <th>280229</th>\n",
       "      <td>1965-11-14</td>\n",
       "      <td>54.835616</td>\n",
       "    </tr>\n",
       "    <tr>\n",
       "      <th>283821</th>\n",
       "      <td>1964-02-18</td>\n",
       "      <td>56.575342</td>\n",
       "    </tr>\n",
       "    <tr>\n",
       "      <th>283822</th>\n",
       "      <td>1964-02-18</td>\n",
       "      <td>56.575342</td>\n",
       "    </tr>\n",
       "    <tr>\n",
       "      <th>288872</th>\n",
       "      <td>1935-04-15</td>\n",
       "      <td>85.441096</td>\n",
       "    </tr>\n",
       "  </tbody>\n",
       "</table>\n",
       "</div>"
      ],
      "text/plain": [
       "       Offense Date  years_since_offense\n",
       "25306    1952-09-18            68.000000\n",
       "57294    1966-01-12            54.673973\n",
       "75640    1956-11-17            63.832877\n",
       "77346    1962-03-06            58.531507\n",
       "79393    1962-11-22            57.816438\n",
       "79394    1962-11-22            57.816438\n",
       "91025    1964-03-15            56.504110\n",
       "91026    1964-03-15            56.504110\n",
       "111104   1962-06-12            58.263014\n",
       "135609   1966-02-14            54.583562\n",
       "135610   1966-02-14            54.583562\n",
       "136455   1965-11-02            54.868493\n",
       "138705   1968-09-19            51.986301\n",
       "154979   1970-05-16            50.331507\n",
       "187416   1968-08-16            52.079452\n",
       "190030   1965-07-29            55.131507\n",
       "190031   1965-07-29            55.131507\n",
       "221568   1966-11-05            53.860274\n",
       "240554   1967-01-02            53.701370\n",
       "240555   1967-01-02            53.701370\n",
       "240556   1967-01-02            53.701370\n",
       "240557   1967-01-02            53.701370\n",
       "251202   1958-04-11            62.435616\n",
       "259113   1970-06-19            50.238356\n",
       "261078   1970-11-07            49.852055\n",
       "280229   1965-11-14            54.835616\n",
       "283821   1964-02-18            56.575342\n",
       "283822   1964-02-18            56.575342\n",
       "288872   1935-04-15            85.441096"
      ]
     },
     "execution_count": 11,
     "metadata": {},
     "output_type": "execute_result"
    }
   ],
   "source": [
    "### dates ###\n",
    "\n",
    "reference_date = datetime.date(2020, 9, 1) # using \"today.date() wouldn't be stable\"\n",
    "\n",
    "suff['Offense Date'] = pd.to_datetime(suff['Offense Date']).dt.date\n",
    "suff['years_since_offense'] = (reference_date - suff['Offense Date'])/pd.Timedelta(1, 'D')/365\n",
    "\n",
    "print(\"The earliest offense date is\", min(suff['Offense Date']))\n",
    "print(\"The max offense date is\", max(suff['Offense Date']), \"\\n\")\n",
    "\n",
    "print(suff['years_since_offense'].describe())\n",
    "\n",
    "print(\"\\n There are a tail of dates that are probably wrong, and the most egregious:\")\n",
    "suff[suff['years_since_offense'] > suff['years_since_offense'].quantile(.9999)][[\n",
    "    'Offense Date', 'years_since_offense']]"
   ]
  },
  {
   "cell_type": "code",
   "execution_count": 12,
   "metadata": {},
   "outputs": [
    {
     "name": "stdout",
     "output_type": "stream",
     "text": [
      "count    300825.000000\n",
      "mean          9.254041\n",
      "std          17.835731\n",
      "min           1.000000\n",
      "25%           2.000000\n",
      "50%           5.000000\n",
      "75%          11.000000\n",
      "max         354.000000\n",
      "Name: num_offenses, dtype: float64\n"
     ]
    },
    {
     "data": {
      "text/plain": [
       "array([[<matplotlib.axes._subplots.AxesSubplot object at 0x000002743CBC5BE0>]],\n",
       "      dtype=object)"
      ]
     },
     "execution_count": 12,
     "metadata": {},
     "output_type": "execute_result"
    },
    {
     "data": {
      "image/png": "[encoded data removed]",
      "text/plain": [
       "<Figure size 432x288 with 1 Axes>"
      ]
     },
     "metadata": {
      "needs_background": "light"
     },
     "output_type": "display_data"
    }
   ],
   "source": [
    "# distribution of # of charges\n",
    "\n",
    "suff['num_offenses']=suff.groupby('Person ID')['Person ID'].transform('count')\n",
    "print(suff['num_offenses'].describe())\n",
    "\n",
    "suff.loc[suff['num_offenses']<30].hist(column='num_offenses', bins=15)"
   ]
  },
  {
   "cell_type": "code",
   "execution_count": 13,
   "metadata": {},
   "outputs": [
    {
     "data": {
      "text/plain": [
       "Yes              215374\n",
       "No                82038\n",
       "m                  1909\n",
       "Attempt            1503\n",
       "NotApplicable         1\n",
       "Name: Expungeable, dtype: int64"
      ]
     },
     "execution_count": 13,
     "metadata": {},
     "output_type": "execute_result"
    }
   ],
   "source": [
    "suff['Expungeable'].value_counts()"
   ]
  },
  {
   "cell_type": "markdown",
   "metadata": {},
   "source": [
    "## Question 1\n",
    "- How many people are eligible for expungement today? \n",
    "    - ---> *Only one charge*, Offense committed before 21st birthday, charge is not part of the list of ineligible offenses (per section 100J), charge is in the correct timeframe from today's date\n",
    "\n",
    "We don't have misdemeanor / felony info, so will show the # that are more than 3 or more than 7 years from today.\n",
    "\n",
    "----"
   ]
  },
  {
   "cell_type": "code",
   "execution_count": 19,
   "metadata": {},
   "outputs": [
    {
     "name": "stdout",
     "output_type": "stream",
     "text": [
      "Without beng able to filter on age, there are 23854 eligible if attempts and the firearm or ammo crimes listed below are expungeable\n",
      "AMMUNITION, POSSESS WO FID CARD c269 Ã‚Â§10/TT                    1816\n",
      "AMMUNITION, POSSESS WO FID CARD, SUBSQ.OFF. c269 Ã‚Â§10/TT          82\n",
      "FIREARM, SELL/TRANSFER LARGE CAPACITY c269 Ã‚Â§10F(a)                6\n",
      "ATTEMPT TO COMMIT CRIME c. 274 s. 6 - 5 year felony or greater       3\n",
      "FIREARM TO MINOR, SELL/TRANSFER LARGE CAPACITY c269 Ã‚Â§10F(b)       2\n",
      "Name: Charge, dtype: int64 \n",
      "\n",
      "This is 26.0 % of individuals\n"
     ]
    }
   ],
   "source": [
    "eligible_all_ages = suff.loc[\n",
    "    (suff['num_offenses']==1) &\n",
    "    (suff['Expungeable'] != 'No')\n",
    "]['Person ID'].nunique()\n",
    "\n",
    "print(\"Without beng able to filter on age, there are\", eligible_all_ages,\n",
    "      \"eligible if attempts and the firearm or ammo crimes listed below are expungeable\")\n",
    "\n",
    "print(suff['Charge'].loc[suff['Expungeable']==\"m\"].value_counts(), '\\n')\n",
    "\n",
    "print(\"This is\", round(eligible_all_ages*100/total_people, 0), \"% of individuals\")"
   ]
  },
  {
   "cell_type": "code",
   "execution_count": 20,
   "metadata": {},
   "outputs": [
    {
     "name": "stdout",
     "output_type": "stream",
     "text": [
      "Without beng able to filter on age, there are 9829 eligible if attempts and the firearm or ammo crimes listed above are not expungeable\n",
      "This is 11.0 % of individuals\n"
     ]
    }
   ],
   "source": [
    "eligible_all_ages = suff.loc[\n",
    "    (suff['num_offenses']==1) &\n",
    "    (suff['Expungeable'] != 'Yes')\n",
    "]['Person ID'].nunique()\n",
    "\n",
    "print(\"Without beng able to filter on age, there are\", eligible_all_ages,\n",
    "      \"eligible if attempts and the firearm or ammo crimes listed above are not expungeable\")\n",
    "\n",
    "print(\"This is\", round(eligible_all_ages*100/total_people, 0), \"% of individuals\")"
   ]
  },
  {
   "cell_type": "markdown",
   "metadata": {},
   "source": [
    "## Question 2: incidents rather than offenses"
   ]
  },
  {
   "cell_type": "markdown",
   "metadata": {},
   "source": [
    "Luke Schissler\n",
    "\n",
    "**Question 2a** - If we only change the number of offenses, how many are eligible based on only having one incident (that does not include an ineligible offense)? \n",
    "\n",
    "Making the assumption based on the 06/26/20 meeting notes that an 'one incident' is defined as the sum of all charges for an individual on a single day. In theory, someone could probably be charged in two separate instances on a single day, but this is likely rare. \n",
    "\n",
    "Another question is whether a single non-expungeable offense under the bundle of the incidence makes the entire incidence non-expungeable. For this analysis, I am proceeding with the assumption that one non-expungeable incident in the batch makes the entire thing non-expungeable."
   ]
  },
  {
   "cell_type": "code",
   "execution_count": 21,
   "metadata": {},
   "outputs": [],
   "source": [
    "incidents = suff.groupby('Person ID')['Offense Date'].nunique()\n",
    "\n",
    "def generate_incident_hash(dic):\n",
    "    for index, row in suff.iterrows():\n",
    "        if row['Expungeable'] == 'No':\n",
    "            dic[(row['Person ID'], row[\"Offense Date\"])] = 'No'\n",
    "    return dic\n",
    "\n",
    "def generate_murder_sex_hash(dic):\n",
    "    for index, row in suff.iterrows():\n",
    "        if row['murder'] == 1 or row['sex'] == 1:\n",
    "            dic[(row['Person ID'], row['Offense Date'])] = 1\n",
    "    return dic\n",
    "\n",
    "incident_dict = generate_incident_hash({})\n",
    "murder_sex_dict = generate_murder_sex_hash({})\n",
    "\n",
    "def find_inc(per_id):\n",
    "    return incidents[per_id]\n",
    "\n",
    "suff['Incidents'] = np.vectorize(find_inc)(suff['Person ID']) #Incidents column is number of unique offense dates per Person\n",
    "suff['Incident Expungeable'] = np.vectorize(lambda x, y : incident_dict.get((x, y), 'Yes'))(suff['Person ID'], suff['Offense Date'])\n",
    "suff['Incident Murder/Sex'] = np.vectorize(lambda x, y : murder_sex_dict.get((x, y), 0))(suff['Person ID'], suff['Offense Date'])"
   ]
  },
  {
   "cell_type": "code",
   "execution_count": 23,
   "metadata": {},
   "outputs": [
    {
     "name": "stdout",
     "output_type": "stream",
     "text": [
      "There are 43116 people with charges eligible for expungement in the Suffolk district of MA, if the person has a single incident, in which all the offenses are expungeable.\n",
      "This counts attempts and the ammo / firearm crimes above as eligible for expungement.\n",
      "This is 48.0 % of individuals\n",
      "Of these, 36232 occured more than 3 years before 2020-09-01\n",
      "Of these, 9043 occured more than 7 years before 2020-09-01\n",
      "\n",
      "\n"
     ]
    }
   ],
   "source": [
    "x = suff.loc[\n",
    "    (suff['Incidents'] == 1) &\n",
    "    (suff['Incident Expungeable'] == 'Yes') &\n",
    "    (suff['Expungeable'] == 'Yes')  \n",
    "]\n",
    "\n",
    "People_eligible = x['Person ID'].nunique()\n",
    "\n",
    "greater3 = x.loc[\n",
    "    (x['years_since_offense'] > 3)\n",
    "]['Person ID'].nunique()\n",
    "\n",
    "greater7 = x.loc[\n",
    "    (x['years_since_offense'] > 7)\n",
    "]['Person ID'].nunique()\n",
    "\n",
    "print(\"There are\", People_eligible,\n",
    "      \"people with charges eligible for expungement in the Suffolk district of MA, if the person has a single incident, in which all the offenses are expungeable.\")\n",
    "print(\"This counts attempts and the ammo / firearm crimes above as eligible for expungement.\")\n",
    "print(\"This is\", round(People_eligible*100/total_people, 0), \"% of individuals\")\n",
    "\n",
    "print(\"Of these,\", greater3, \"occured more than 3 years before\", reference_date)\n",
    "print(\"Of these,\", greater7, \"occured more than 7 years before\", reference_date)\n",
    "\n",
    "print(\"\\n\")"
   ]
  },
  {
   "cell_type": "markdown",
   "metadata": {},
   "source": [
    "**Question 2b** -  How many would be eligible if we only limited to only exclude sex-based offenses or murder?\n",
    "\n",
    "Assuming here we are not limiting based on expungability, but only on if the person has 1 incident, it is related to neither murder nor sex, and the person is under 21. "
   ]
  },
  {
   "cell_type": "code",
   "execution_count": 24,
   "metadata": {},
   "outputs": [
    {
     "name": "stdout",
     "output_type": "stream",
     "text": [
      "There are 63969 people with charges eligible for expungement in the Suffolk district of MA, if the person has a single incident in which all offenses are unrelated to sex or murder.\n",
      "This is 71.0 % of individuals\n",
      "Of these, 53101 occured more than 3 years before 2020-09-01\n",
      "Of these, 12532 occured more than 7 years before 2020-09-01\n",
      "\n",
      "\n"
     ]
    }
   ],
   "source": [
    "x = suff.loc[\n",
    "    (suff['Incidents'] == 1) &\n",
    "    (suff['Incident Murder/Sex'] == 0) \n",
    "]\n",
    "\n",
    "People_eligible = x['Person ID'].nunique()\n",
    "\n",
    "greater3 = x.loc[\n",
    "    (x['years_since_offense'] > 3)\n",
    "]['Person ID'].nunique()\n",
    "\n",
    "greater7 = x.loc[\n",
    "    (x['years_since_offense'] > 7)\n",
    "]['Person ID'].nunique()\n",
    "\n",
    "print(\"There are\", People_eligible,\n",
    "      \"people with charges eligible for expungement in the Suffolk district of MA, if the person has a single incident in which all offenses are unrelated to sex or murder.\")\n",
    "print(\"This is\", round(People_eligible*100/total_people, 0), \"% of individuals\")\n",
    "\n",
    "print(\"Of these,\", greater3, \"occured more than 3 years before\", reference_date)\n",
    "print(\"Of these,\", greater7, \"occured more than 7 years before\", reference_date)\n",
    "\n",
    "print(\"\\n\")\n",
    "#print(x.sample(n=3)) # grab a random sample to verify"
   ]
  },
  {
   "cell_type": "markdown",
   "metadata": {},
   "source": [
    "## Question 3: Verdict as Determiner"
   ]
  },
  {
   "cell_type": "markdown",
   "metadata": {},
   "source": [
    "**Question 3a** -  How many would be eligible based on who has not been found guilty (given current offenses that are eligible for expungement)?"
   ]
  },
  {
   "cell_type": "code",
   "execution_count": null,
   "metadata": {},
   "outputs": [],
   "source": [
    "x = nw.loc[\n",
    "    (nw['Expungeable'] == 'Yes') &\n",
    "    (~nw['Disposition'].isnull()) &\n",
    "    (nw['Disposition'] != 'Guilty') &\n",
    "    (~nw['Age at Offense'].isnull()) &\n",
    "    (nw['Age at Offense']<21) \n",
    "]\n",
    "\n",
    "People_eligible = x['Person ID'].nunique()\n",
    "\n",
    "greater3 = x.loc[\n",
    "    (x['years_since_offense'] > 3)\n",
    "]['Person ID'].nunique()\n",
    "\n",
    "greater7 = x.loc[\n",
    "    (x['years_since_offense'] > 7)\n",
    "]['Person ID'].nunique()\n",
    "\n",
    "print(\"There are\", People_eligible,\n",
    "      \"people with charges eligible for expungement in the NW district of MA, if the person has an expungeable offense and has a verdict other than guilty.\")\n",
    "print(\"Of these,\", greater3, \"occured more than 3 years before\", reference_date)\n",
    "print(\"Of these,\", greater7, \"occured more than 7 years before\", reference_date)\n",
    "\n",
    "print(\"\\n\")\n",
    "#print(x.sample(n=3)) # grab a random sample to verify"
   ]
  },
  {
   "cell_type": "markdown",
   "metadata": {},
   "source": [
    "**Question 3b** -  How many would be eligible based on who has not been found guilty, except murder or sex offenses?\n"
   ]
  },
  {
   "cell_type": "code",
   "execution_count": null,
   "metadata": {},
   "outputs": [],
   "source": [
    "x = nw.loc[\n",
    "    (nw['murder'] == 0) &\n",
    "    (nw['sex'] == 0) &\n",
    "    (~nw['Disposition'].isnull()) &\n",
    "    (nw['Disposition'] != 'Guilty') &\n",
    "    (~nw['Age at Offense'].isnull()) &\n",
    "    (nw['Age at Offense']<21) \n",
    "]\n",
    "\n",
    "People_eligible = x['Person ID'].nunique()\n",
    "\n",
    "greater3 = x.loc[\n",
    "    (x['years_since_offense'] > 3)\n",
    "]['Person ID'].nunique()\n",
    "\n",
    "greater7 = x.loc[\n",
    "    (x['years_since_offense'] > 7)\n",
    "]['Person ID'].nunique()\n",
    "\n",
    "print(\"There are\", People_eligible,\n",
    "      \"people with charges eligible for expungement in the NW district of MA, if the person has an offense unrelated to sex or murder and has a verdict other than guilty.\")\n",
    "print(\"Of these,\", greater3, \"occured more than 3 years before\", reference_date)\n",
    "print(\"Of these,\", greater7, \"occured more than 7 years before\", reference_date)\n",
    "\n",
    "print(\"\\n\")\n",
    "#print(x.sample(n=3)) # grab a random sample to verify"
   ]
  }
 ],
 "metadata": {
  "kernelspec": {
   "display_name": "Python 3",
   "language": "python",
   "name": "python3"
  },
  "language_info": {
   "codemirror_mode": {
    "name": "ipython",
    "version": 3
   },
   "file_extension": ".py",
   "mimetype": "text/x-python",
   "name": "python",
   "nbconvert_exporter": "python",
   "pygments_lexer": "ipython3",
   "version": "3.8.3"
  }
 },
 "nbformat": 4,
 "nbformat_minor": 4
}
