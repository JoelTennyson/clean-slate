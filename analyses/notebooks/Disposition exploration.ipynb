{
 "cells": [
  {
   "cell_type": "markdown",
   "metadata": {},
   "source": [
    "# Clean Slate: Estimating offenses eligible for expungement under varying conditions\n",
    "> Prepared by [Laura Feeney](https://github.com/laurafeeney) for Code for Boston's [Clean Slate project](https://github.com/codeforboston/clean-slate).\n",
    "\n",
    "## Purpose\n",
    "Exploring duplicate charges, dispositions, and moves from one court to another. \n",
    "\n",
    "-----"
   ]
  },
  {
   "cell_type": "markdown",
   "metadata": {},
   "source": [
    "### Step 0\n",
    "Import data, programs, etc.\n",
    "\n",
    "-----"
   ]
  },
  {
   "cell_type": "code",
   "execution_count": 1,
   "metadata": {},
   "outputs": [],
   "source": [
    "import pandas as pd\n",
    "pd.set_option(\"display.max_rows\", 200)\n",
    "import numpy as np\n",
    "import regex as re\n",
    "import glob, os\n",
    "import datetime \n",
    "from datetime import date "
   ]
  },
  {
   "cell_type": "code",
   "execution_count": 2,
   "metadata": {},
   "outputs": [
    {
     "name": "stdout",
     "output_type": "stream",
     "text": [
      "<class 'pandas.core.frame.DataFrame'>\n",
      "RangeIndex: 303270 entries, 0 to 303269\n",
      "Data columns (total 21 columns):\n",
      " #   Column                          Non-Null Count   Dtype \n",
      "---  ------                          --------------   ----- \n",
      " 0   Person ID                       303270 non-null  object\n",
      " 1   Court                           303270 non-null  object\n",
      " 2   Offense Date                    300877 non-null  object\n",
      " 3   Filed                           303270 non-null  object\n",
      " 4   Status                          303270 non-null  object\n",
      " 5   Count                           303270 non-null  int64 \n",
      " 6   Charge                          303270 non-null  object\n",
      " 7   Type Crime                      303270 non-null  object\n",
      " 8   Code Ucc Ctgry                  262955 non-null  object\n",
      " 9   Disposition                     251710 non-null  object\n",
      " 10  Description Disposition Reason  212684 non-null  object\n",
      " 11  Dispo Date                      251300 non-null  object\n",
      " 12  CMRoffense                      303270 non-null  object\n",
      " 13  Chapter                         297886 non-null  object\n",
      " 14  Section                         297884 non-null  object\n",
      " 15  sex                             303270 non-null  int64 \n",
      " 16  murder                          303270 non-null  int64 \n",
      " 17  extra_criteria                  12878 non-null   object\n",
      " 18  Reason not expungeable          31572 non-null   object\n",
      " 19  Analysis notes                  3944 non-null    object\n",
      " 20  Expungeable                     303270 non-null  object\n",
      "dtypes: int64(3), object(18)\n",
      "memory usage: 48.6+ MB\n",
      "<class 'pandas.core.frame.DataFrame'>\n",
      "RangeIndex: 75725 entries, 0 to 75724\n",
      "Data columns (total 19 columns):\n",
      " #   Column                  Non-Null Count  Dtype  \n",
      "---  ------                  --------------  -----  \n",
      " 0   Person ID               75725 non-null  object \n",
      " 1   Court                   75725 non-null  object \n",
      " 2   Offense Date            74915 non-null  object \n",
      " 3   Age at Offense          74783 non-null  float64\n",
      " 4   Filed                   75725 non-null  object \n",
      " 5   Status                  75725 non-null  object \n",
      " 6   Count                   75725 non-null  int64  \n",
      " 7   Charge                  75725 non-null  object \n",
      " 8   Disposition             72259 non-null  object \n",
      " 9   Dispo Date              71881 non-null  object \n",
      " 10  CMRoffense              75725 non-null  object \n",
      " 11  Chapter                 72457 non-null  object \n",
      " 12  Section                 72588 non-null  object \n",
      " 13  sex                     75725 non-null  int64  \n",
      " 14  murder                  75725 non-null  int64  \n",
      " 15  extra_criteria          2540 non-null   object \n",
      " 16  Reason not expungeable  7457 non-null   object \n",
      " 17  Analysis notes          2 non-null      object \n",
      " 18  Expungeable             75724 non-null  object \n",
      "dtypes: float64(1), int64(3), object(15)\n",
      "memory usage: 11.0+ MB\n"
     ]
    }
   ],
   "source": [
    "# processed individual-level data from NW district with expungability.\n",
    "\n",
    "suff = pd.read_csv('../../data/processed/merged_suff.csv', encoding='cp1252',\n",
    "                    dtype={'Analysis notes':str, 'extra_criteria':str, 'Expungeable': str}) \n",
    "suff.info()\n",
    "\n",
    "nw = pd.read_csv('../../data/processed/merged_nw.csv', encoding='cp1252',\n",
    "                    dtype={'Analysis notes':str, 'extra_criteria':str, 'Expungeable': str}) \n",
    "nw.info()"
   ]
  },
  {
   "cell_type": "code",
   "execution_count": 3,
   "metadata": {},
   "outputs": [
    {
     "name": "stdout",
     "output_type": "stream",
     "text": [
      "Suffolk\n",
      "90719\n",
      "NW\n",
      "19686\n",
      "2854\n"
     ]
    }
   ],
   "source": [
    "print(\"Suffolk\")\n",
    "#drop CMR offenses, remaining unique people\n",
    "suff = suff.loc[suff['CMRoffense']=='no'].copy()\n",
    "print(suff['Person ID'].nunique())\n",
    "total_people_suff = suff['Person ID'].nunique()\n",
    "\n",
    "print(\"NW\")\n",
    "#drop CMR offenses, remaining unique people\n",
    "nw = nw.loc[nw['CMRoffense']=='no'].copy()\n",
    "print(nw['Person ID'].nunique())\n",
    "\n",
    "#drop people >21 in NW\n",
    "nw=nw.loc[nw['Age at Offense']<21].copy()\n",
    "print(nw['Person ID'].nunique())\n",
    "total_people_nw = nw['Person ID'].nunique()"
   ]
  },
  {
   "cell_type": "code",
   "execution_count": 4,
   "metadata": {},
   "outputs": [
    {
     "name": "stdout",
     "output_type": "stream",
     "text": [
      "Suffolk DA courts \n",
      " BMC     66433\n",
      "DOR     65212\n",
      "ROX     44288\n",
      "CHE     35929\n",
      "WROX    23391\n",
      "SUP     18585\n",
      "EBOS    13853\n",
      "SBO     13571\n",
      "BRI     11710\n",
      "CHA      7853\n",
      "Name: Court, dtype: int64\n",
      "\n",
      "\n",
      "Northwestern DA courts \n",
      " Belchertown District Court    3275\n",
      "Greenfield District Court     1634\n",
      "Northampton District Court    1288\n",
      "Hadley Juvenile Court         1158\n",
      "Orange District Court          799\n",
      "Greenfield Juvenile Court      616\n",
      "Orange Juvenile Court          401\n",
      "Belchertown Juvenile Court     367\n",
      "Hampshire Superior Court       178\n",
      "Franklin Superior Court         87\n",
      "Name: Court, dtype: int64\n"
     ]
    }
   ],
   "source": [
    "# In Suffolk, there is only one juvenile court is listed, and it does not appear on this list. \n",
    "# https://www.suffolkdistrictattorney.com/about-the-office/contact-directions\n",
    "# \"Some of these courts have juvenile sessions for offenders under the age of 18; courts without a juvenile \n",
    "# session send their cases to the Boston Juvenile Court downtown.\"\n",
    "\n",
    "print(\"Suffolk DA courts \\n\", suff['Court'].value_counts())\n",
    "print(\"\\n\")\n",
    "print(\"Northwestern DA courts \\n\", nw['Court'].value_counts())"
   ]
  },
  {
   "cell_type": "code",
   "execution_count": 12,
   "metadata": {},
   "outputs": [
    {
     "name": "stdout",
     "output_type": "stream",
     "text": [
      "Suffolk - Dispositions \n",
      "\n",
      "Dismissed                   111818\n",
      "Plea                         44568\n",
      "NaN                          36160\n",
      "Continued w/o Finding         8526\n",
      "Nole Prosequi                 6169\n",
      "Pre Trial Probation           3422\n",
      "Verdict - Jury Trial          1814\n",
      "Verdict - Bench Trial         1730\n",
      "Convert to Civil               681\n",
      "Filed w/o Change of Plea       276\n",
      "General Continuance             91\n",
      "Diversion                       74\n",
      "No True Bill                    28\n",
      "Bound Over                       9\n",
      "Pending                          8\n",
      "Name: Disposition, dtype: int64\n",
      "Suffolk - % by Disposition \n",
      "\n",
      "Dismissed                   51.918059\n",
      "Plea                        20.693306\n",
      "NaN                         16.789399\n",
      "Continued w/o Finding        3.958695\n",
      "Nole Prosequi                2.864320\n",
      "Pre Trial Probation          1.588864\n",
      "Verdict - Jury Trial         0.842256\n",
      "Verdict - Bench Trial        0.803254\n",
      "Convert to Civil             0.316194\n",
      "Filed w/o Change of Plea     0.128149\n",
      "General Continuance          0.042252\n",
      "Diversion                    0.034359\n",
      "No True Bill                 0.013001\n",
      "Bound Over                   0.004179\n",
      "Pending                      0.003714\n",
      "Name: Disposition, dtype: float64 \n",
      "\n"
     ]
    }
   ],
   "source": [
    "print(\"Suffolk - Dispositions \\n\")\n",
    "print(suff['Disposition'].loc[suff['Expungeable']==\"Yes\"].value_counts(dropna=False))\n",
    "\n",
    "print(\"Suffolk - % by Disposition \\n\")\n",
    "print(suff['Disposition'].loc[suff['Expungeable']==\"Yes\"].value_counts(normalize=True, dropna=False)*100, \"\\n\")"
   ]
  },
  {
   "cell_type": "code",
   "execution_count": 13,
   "metadata": {},
   "outputs": [
    {
     "name": "stdout",
     "output_type": "stream",
     "text": [
      "NW - Dispositions \n",
      "\n",
      "Dismissed at Request of Comm         1442\n",
      "Continued w/o Finding                1237\n",
      "c276s87 finding                      1000\n",
      "Nolle Prosequi                        845\n",
      "Not Responsible                       762\n",
      "Responsible                           512\n",
      "Guilty                                330\n",
      "Dismissed                             275\n",
      "Dismissed on Payment                  239\n",
      "Dismissed Prior to Arraignment        230\n",
      "NaN                                   224\n",
      "Responsible Filed                      84\n",
      "Delinquent                             79\n",
      "DYS Committed                          22\n",
      "Guilty Filed                           21\n",
      "Dismissed by Court                     18\n",
      "Charge Handled as a Civil Charge       17\n",
      "Accord/Satisfaction                    13\n",
      "Delinquent Filed                       12\n",
      "Found Incompetent                       8\n",
      "Case Transferred                        5\n",
      "Dismissed prior to complaint            5\n",
      "CLOSED-NO CHARGES                       4\n",
      "Guilty on Lesser Included Offense       2\n",
      "Valor Act Dispo                         2\n",
      "Agreed Plea                             2\n",
      "Youthful Offender                       1\n",
      "Unagreed Plea                           1\n",
      "DA's Complaint                          1\n",
      "Not Guilty                              1\n",
      "Name: Disposition, dtype: int64\n",
      "NW - % by Disposition \n",
      "\n",
      "Dismissed at Request of Comm         19.502299\n",
      "Continued w/o Finding                16.729781\n",
      "c276s87 finding                      13.524479\n",
      "Nolle Prosequi                       11.428185\n",
      "Not Responsible                      10.305653\n",
      "Responsible                           6.924533\n",
      "Guilty                                4.463078\n",
      "Dismissed                             3.719232\n",
      "Dismissed on Payment                  3.232351\n",
      "Dismissed Prior to Arraignment        3.110630\n",
      "NaN                                   3.029483\n",
      "Responsible Filed                     1.136056\n",
      "Delinquent                            1.068434\n",
      "DYS Committed                         0.297539\n",
      "Guilty Filed                          0.284014\n",
      "Dismissed by Court                    0.243441\n",
      "Charge Handled as a Civil Charge      0.229916\n",
      "Accord/Satisfaction                   0.175818\n",
      "Delinquent Filed                      0.162294\n",
      "Found Incompetent                     0.108196\n",
      "Case Transferred                      0.067622\n",
      "Dismissed prior to complaint          0.067622\n",
      "CLOSED-NO CHARGES                     0.054098\n",
      "Guilty on Lesser Included Offense     0.027049\n",
      "Valor Act Dispo                       0.027049\n",
      "Agreed Plea                           0.027049\n",
      "Youthful Offender                     0.013524\n",
      "Unagreed Plea                         0.013524\n",
      "DA's Complaint                        0.013524\n",
      "Not Guilty                            0.013524\n",
      "Name: Disposition, dtype: float64 \n",
      "\n"
     ]
    }
   ],
   "source": [
    "print(\"NW - Dispositions \\n\")\n",
    "print(nw['Disposition'].loc[nw['Expungeable']==\"Yes\"].value_counts(dropna=False))\n",
    "\n",
    "print(\"NW - % by Disposition \\n\")\n",
    "print(nw['Disposition'].loc[nw['Expungeable']==\"Yes\"].value_counts(normalize=True, dropna=False)*100, \"\\n\")"
   ]
  }
 ],
 "metadata": {
  "kernelspec": {
   "display_name": "Python 3",
   "language": "python",
   "name": "python3"
  },
  "language_info": {
   "codemirror_mode": {
    "name": "ipython",
    "version": 3
   },
   "file_extension": ".py",
   "mimetype": "text/x-python",
   "name": "python",
   "nbconvert_exporter": "python",
   "pygments_lexer": "ipython3",
   "version": "3.8.3"
  }
 },
 "nbformat": 4,
 "nbformat_minor": 4
}
